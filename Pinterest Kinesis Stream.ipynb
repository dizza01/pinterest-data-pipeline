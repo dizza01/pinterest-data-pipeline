{
 "cells": [
  {
   "cell_type": "code",
   "execution_count": 0,
   "metadata": {
    "application/vnd.databricks.v1+cell": {
     "cellMetadata": {
      "byteLimit": 2048000,
      "rowLimit": 10000
     },
     "inputWidgets": {},
     "nuid": "2ea4e895-1318-4dd6-8a76-64fe6ca8f6d6",
     "showTitle": false,
     "title": ""
    }
   },
   "outputs": [
    {
     "output_type": "display_data",
     "data": {
      "text/html": [
       "<style scoped>\n",
       "  .ansiout {\n",
       "    display: block;\n",
       "    unicode-bidi: embed;\n",
       "    white-space: pre-wrap;\n",
       "    word-wrap: break-word;\n",
       "    word-break: break-all;\n",
       "    font-family: \"Menlo\", \"Monaco\", \"Consolas\", \"Ubuntu Mono\", \"Source Code Pro\", monospace;\n",
       "    font-size: 13px;\n",
       "    color: #555;\n",
       "    margin-left: 4px;\n",
       "    line-height: 19px;\n",
       "  }\n",
       "</style>\n",
       "<div class=\"ansiout\"></div>"
      ]
     },
     "metadata": {
      "application/vnd.databricks.v1+output": {
       "addedWidgets": {},
       "arguments": {},
       "data": "<div class=\"ansiout\"></div>",
       "datasetInfos": [],
       "metadata": {},
       "removedWidgets": [],
       "type": "html"
      }
     },
     "output_type": "display_data"
    }
   ],
   "source": [
    "# pyspark functions\n",
    "from pyspark.sql.functions import *\n",
    "# URL processing\n",
    "import urllib"
   ]
  },
  {
   "cell_type": "code",
   "execution_count": 0,
   "metadata": {
    "application/vnd.databricks.v1+cell": {
     "cellMetadata": {
      "byteLimit": 2048000,
      "rowLimit": 10000
     },
     "inputWidgets": {},
     "nuid": "9a48e583-b508-4d0c-82ee-12c0190161d3",
     "showTitle": false,
     "title": ""
    }
   },
   "outputs": [
    {
     "output_type": "display_data",
     "data": {
      "text/html": [
       "<style scoped>\n",
       "  .ansiout {\n",
       "    display: block;\n",
       "    unicode-bidi: embed;\n",
       "    white-space: pre-wrap;\n",
       "    word-wrap: break-word;\n",
       "    word-break: break-all;\n",
       "    font-family: \"Menlo\", \"Monaco\", \"Consolas\", \"Ubuntu Mono\", \"Source Code Pro\", monospace;\n",
       "    font-size: 13px;\n",
       "    color: #555;\n",
       "    margin-left: 4px;\n",
       "    line-height: 19px;\n",
       "  }\n",
       "</style>\n",
       "<div class=\"ansiout\"></div>"
      ]
     },
     "metadata": {
      "application/vnd.databricks.v1+output": {
       "addedWidgets": {},
       "arguments": {},
       "data": "<div class=\"ansiout\"></div>",
       "datasetInfos": [],
       "metadata": {},
       "removedWidgets": [],
       "type": "html"
      }
     },
     "output_type": "display_data"
    }
   ],
   "source": [
    "# Define the path to the Delta table\n",
    "delta_table_path = \"dbfs:/user/hive/warehouse/authentication_credentials\"\n",
    "# Read the Delta table to a Spark DataFrame\n",
    "aws_keys_df = spark.read.format(\"delta\").load(delta_table_path)"
   ]
  },
  {
   "cell_type": "code",
   "execution_count": 0,
   "metadata": {
    "application/vnd.databricks.v1+cell": {
     "cellMetadata": {
      "byteLimit": 2048000,
      "rowLimit": 10000
     },
     "inputWidgets": {},
     "nuid": "905cb665-bdbf-4f68-978c-288429c10c09",
     "showTitle": false,
     "title": ""
    }
   },
   "outputs": [
    {
     "output_type": "display_data",
     "data": {
      "text/html": [
       "<style scoped>\n",
       "  .ansiout {\n",
       "    display: block;\n",
       "    unicode-bidi: embed;\n",
       "    white-space: pre-wrap;\n",
       "    word-wrap: break-word;\n",
       "    word-break: break-all;\n",
       "    font-family: \"Menlo\", \"Monaco\", \"Consolas\", \"Ubuntu Mono\", \"Source Code Pro\", monospace;\n",
       "    font-size: 13px;\n",
       "    color: #555;\n",
       "    margin-left: 4px;\n",
       "    line-height: 19px;\n",
       "  }\n",
       "</style>\n",
       "<div class=\"ansiout\"></div>"
      ]
     },
     "metadata": {
      "application/vnd.databricks.v1+output": {
       "addedWidgets": {},
       "arguments": {},
       "data": "<div class=\"ansiout\"></div>",
       "datasetInfos": [],
       "metadata": {},
       "removedWidgets": [],
       "type": "html"
      }
     },
     "output_type": "display_data"
    }
   ],
   "source": [
    "# Get the AWS access key and secret key from the spark dataframe\n",
    "ACCESS_KEY = aws_keys_df.select('Access key ID').collect()[0]['Access key ID']\n",
    "SECRET_KEY = aws_keys_df.select('Secret access key').collect()[0]['Secret access key']\n",
    "# Encode the secrete key\n",
    "ENCODED_SECRET_KEY = urllib.parse.quote(string=SECRET_KEY, safe=\"\")"
   ]
  },
  {
   "cell_type": "code",
   "execution_count": 0,
   "metadata": {
    "application/vnd.databricks.v1+cell": {
     "cellMetadata": {
      "byteLimit": 2048000,
      "implicitDf": true,
      "rowLimit": 10000
     },
     "inputWidgets": {},
     "nuid": "809507ff-425b-4424-908c-654085bdb475",
     "showTitle": false,
     "title": ""
    }
   },
   "outputs": [
    {
     "output_type": "display_data",
     "data": {
      "text/html": [
       "<style scoped>\n",
       "  .table-result-container {\n",
       "    max-height: 300px;\n",
       "    overflow: auto;\n",
       "  }\n",
       "  table, th, td {\n",
       "    border: 1px solid black;\n",
       "    border-collapse: collapse;\n",
       "  }\n",
       "  th, td {\n",
       "    padding: 5px;\n",
       "  }\n",
       "  th {\n",
       "    text-align: left;\n",
       "  }\n",
       "</style><div class='table-result-container'><table class='table-result'><thead style='background-color: white'><tr><th>key</th><th>value</th></tr></thead><tbody><tr><td>spark.databricks.delta.formatCheck.enabled</td><td>false</td></tr></tbody></table></div>"
      ]
     },
     "metadata": {
      "application/vnd.databricks.v1+output": {
       "addedWidgets": {},
       "aggData": [],
       "aggError": "",
       "aggOverflow": false,
       "aggSchema": [],
       "aggSeriesLimitReached": false,
       "aggType": "",
       "arguments": {},
       "columnCustomDisplayInfos": {},
       "data": [
        [
         "spark.databricks.delta.formatCheck.enabled",
         "false"
        ]
       ],
       "datasetInfos": [],
       "dbfsResultPath": null,
       "isJsonSchema": true,
       "metadata": {},
       "overflow": false,
       "plotOptions": {
        "customPlotOptions": {},
        "displayType": "table",
        "pivotAggregation": null,
        "pivotColumns": null,
        "xColumns": null,
        "yColumns": null
       },
       "removedWidgets": [],
       "schema": [
        {
         "metadata": "{}",
         "name": "key",
         "type": "\"string\""
        },
        {
         "metadata": "{}",
         "name": "value",
         "type": "\"string\""
        }
       ],
       "type": "table"
      }
     },
     "output_type": "display_data"
    }
   ],
   "source": [
    "%sql\n",
    "-- # Disable format checks during the reading of Delta tables\n",
    "SET spark.databricks.delta.formatCheck.enabled=false"
   ]
  },
  {
   "cell_type": "code",
   "execution_count": 0,
   "metadata": {
    "application/vnd.databricks.v1+cell": {
     "cellMetadata": {
      "byteLimit": 2048000,
      "rowLimit": 10000
     },
     "inputWidgets": {},
     "nuid": "bd01d2d8-2502-4215-84d7-578a73c6e737",
     "showTitle": false,
     "title": ""
    }
   },
   "outputs": [
    {
     "output_type": "display_data",
     "data": {
      "text/html": [
       "<style scoped>\n",
       "  .ansiout {\n",
       "    display: block;\n",
       "    unicode-bidi: embed;\n",
       "    white-space: pre-wrap;\n",
       "    word-wrap: break-word;\n",
       "    word-break: break-all;\n",
       "    font-family: \"Menlo\", \"Monaco\", \"Consolas\", \"Ubuntu Mono\", \"Source Code Pro\", monospace;\n",
       "    font-size: 13px;\n",
       "    color: #555;\n",
       "    margin-left: 4px;\n",
       "    line-height: 19px;\n",
       "  }\n",
       "</style>\n",
       "<div class=\"ansiout\"></div>"
      ]
     },
     "metadata": {
      "application/vnd.databricks.v1+output": {
       "addedWidgets": {},
       "arguments": {},
       "data": "<div class=\"ansiout\"></div>",
       "datasetInfos": [],
       "metadata": {},
       "removedWidgets": [],
       "type": "html"
      }
     },
     "output_type": "display_data"
    }
   ],
   "source": [
    "df_pin = spark \\\n",
    ".readStream \\\n",
    ".format('kinesis') \\\n",
    ".option('streamName','streaming-124f98f775af-pin') \\\n",
    ".option('initialPosition','earliest') \\\n",
    ".option('region','us-east-1') \\\n",
    ".option('awsAccessKey', ACCESS_KEY) \\\n",
    ".option('awsSecretKey', SECRET_KEY) \\\n",
    ".load()"
   ]
  },
  {
   "cell_type": "code",
   "execution_count": 0,
   "metadata": {
    "application/vnd.databricks.v1+cell": {
     "cellMetadata": {
      "byteLimit": 2048000,
      "rowLimit": 10000
     },
     "inputWidgets": {},
     "nuid": "814cb384-61e7-480f-b37b-cc0ca70e0950",
     "showTitle": false,
     "title": ""
    }
   },
   "outputs": [
    {
     "output_type": "display_data",
     "data": {
      "text/html": [
       "<style scoped>\n",
       "  .table-result-container {\n",
       "    max-height: 300px;\n",
       "    overflow: auto;\n",
       "  }\n",
       "  table, th, td {\n",
       "    border: 1px solid black;\n",
       "    border-collapse: collapse;\n",
       "  }\n",
       "  th, td {\n",
       "    padding: 5px;\n",
       "  }\n",
       "  th {\n",
       "    text-align: left;\n",
       "  }\n",
       "</style><div class='table-result-container'><table class='table-result'><thead style='background-color: white'><tr><th>partitionKey</th><th>data</th><th>stream</th><th>shardId</th><th>sequenceNumber</th><th>approximateArrivalTimestamp</th></tr></thead><tbody><tr><td>partition-key</td><td>eyJpbmRleCI6NzUyOCwidW5pcXVlX2lkIjoiZmJlNTNjNjYtMzQ0Mi00NzczLWIxOWUtZDNlYzZmNTRkZGRmIiwidGl0bGUiOiJObyBUaXRsZSBEYXRhIEF2YWlsYWJsZSIsImRlc2NyaXB0aW9uIjoiTm8gZGVzY3JpcHRpb24= (truncated)</td><td>streaming-124f98f775af-pin</td><td>shardId-000000000002</td><td>49655440148212112345281612267573778609903714676848459810</td><td>2024-09-27T09:52:40.150+0000</td></tr><tr><td>partition-key</td><td>eyJpbmRleCI6Mjg2MywidW5pcXVlX2lkIjoiOWJmMzk0MzctNDJhNi00ZjAyLTk5YTAtOWEwMzgzZDhjZDcwIiwidGl0bGUiOiIyNSBTdXBlciBGdW4gU3VtbWVyIENyYWZ0cyBmb3IgS2lkcyAtIE9mIExpZmUgYW5kIExpc2E= (truncated)</td><td>streaming-124f98f775af-pin</td><td>shardId-000000000002</td><td>49655440148212112345281612270014599839705651186738659362</td><td>2024-09-27T09:52:42.576+0000</td></tr><tr><td>partition-key</td><td>eyJpbmRleCI6NTczMCwidW5pcXVlX2lkIjoiMWUxZjBjOGItOWZjZi00NjBiLTkxNTQtYzc3NTgyNzIwNmViIiwidGl0bGUiOiJJc2xhbmQgT2FzaXMgQ291cG9uIE9yZ2FuaXplciIsImRlc2NyaXB0aW9uIjoiRGVzY3JpcHQ= (truncated)</td><td>streaming-124f98f775af-pin</td><td>shardId-000000000002</td><td>49655440148212112345281612272246276902714256780685213730</td><td>2024-09-27T09:52:44.841+0000</td></tr><tr><td>partition-key</td><td>eyJpbmRleCI6ODMwNCwidW5pcXVlX2lkIjoiNWI2ZDA5MTMtMjVlNC00M2FiLTgzOWQtODVkNTUxNmY3OGE0IiwidGl0bGUiOiJUaGUgIzEgUmVhc29uIFlvdeKAmXJlIE5vdCBIaXMgUHJpb3JpdHkgQW55bW9yZSAtIE1hdHQ= (truncated)</td><td>streaming-124f98f775af-pin</td><td>shardId-000000000002</td><td>49655440148212112345281612274967568922666787259107246114</td><td>2024-09-27T09:52:47.430+0000</td></tr><tr><td>partition-key</td><td>eyJpbmRleCI6ODczMSwidW5pcXVlX2lkIjoiZWE3NjBmNzEtZmViZi00MDIzLWI1OTItZDE3Mzk2NjU5MDM5IiwidGl0bGUiOiIyMCBLb2kgRmlzaCBUYXR0b29zIEZvciBMdWNreSBNZW4iLCJkZXNjcmlwdGlvbiI6IktvaSA= (truncated)</td><td>streaming-124f98f775af-pin</td><td>shardId-000000000002</td><td>49655440148212112345281612276297387324242879420003516450</td><td>2024-09-27T09:52:48.754+0000</td></tr><tr><td>partition-key</td><td>eyJpbmRleCI6MTMxMywidW5pcXVlX2lkIjoiNDQ2NjIwNDUtZTg5MS00ODIxLThhMTktZWJlN2VlZGQzNzFhIiwidGl0bGUiOiJMaXF1aWQgTGFzaCBFeHRlbnNpb25zIE1hc2NhcmEiLCJkZXNjcmlwdGlvbiI6Ikluc3RhbnQ= (truncated)</td><td>streaming-124f98f775af-pin</td><td>shardId-000000000002</td><td>49655440148212112345281612277694905571717390814683332642</td><td>2024-09-27T09:52:50.166+0000</td></tr><tr><td>partition-key</td><td>eyJpbmRleCI6NDMxNSwidW5pcXVlX2lkIjoiMjFiNTliYTktODI5ZC00YzMzLThjMjctNGNkNGM1NmQyNmI4IiwidGl0bGUiOiJQb2RjYXN0cyBmb3IgVGVhY2hlcnMgb3IgUGFyZW50cyBvZiBUZWVuYWdlcnMiLCJkZXNjcmk= (truncated)</td><td>streaming-124f98f775af-pin</td><td>shardId-000000000002</td><td>49655440148212112345281612280216724831433507547998322722</td><td>2024-09-27T09:52:52.564+0000</td></tr><tr><td>partition-key</td><td>eyJpbmRleCI6MTA3OTQsInVuaXF1ZV9pZCI6ImM0YmQyNTc3LWE3YmItNDQwOS1iYjdhLTE3ZDVlZDdlMWNmMSIsInRpdGxlIjoiVGlyZUJ1eWVyIiwiZGVzY3JpcHRpb24iOiJOaXNzYW4gR1QtUi4gU2ljay4iLCJwb3N0ZXI= (truncated)</td><td>streaming-124f98f775af-pin</td><td>shardId-000000000002</td><td>49655440148212112345281612281808880135865974239805833250</td><td>2024-09-27T09:52:53.977+0000</td></tr><tr><td>partition-key</td><td>eyJpbmRleCI6NTQ5NCwidW5pcXVlX2lkIjoiOGZiMmFmNjgtNTQzYi00NjM5LTgxMTktZGUzM2QyODcwNmVkIiwidGl0bGUiOiJEYXZlIFJhbXNleSdzIDcgQmFieSBTdGVwczogV2hhdCBBcmUgVGhleSBBbmQgV2lsbCBUaGU= (truncated)</td><td>streaming-124f98f775af-pin</td><td>shardId-000000000002</td><td>49655440148212112345281612283316410632925416889383911458</td><td>2024-09-27T09:52:55.400+0000</td></tr><tr><td>partition-key</td><td>eyJpbmRleCI6NTA2OSwidW5pcXVlX2lkIjoiYjc1YjZmODctZGViMy00NDRmLWIyOWUtY2U5MTYxYjJkZjQ5IiwidGl0bGUiOiJUaGUgVmF1bHQ6IEN1cmF0ZWQgJiBSZWZpbmVkIFdlZGRpbmcgSW5zcGlyYXRpb24iLCJkZXM= (truncated)</td><td>streaming-124f98f775af-pin</td><td>shardId-000000000002</td><td>49655440148212112345281612284675243254172260150473130018</td><td>2024-09-27T09:52:56.633+0000</td></tr><tr><td>partition-key</td><td>eyJpbmRleCI6MjkyMywidW5pcXVlX2lkIjoiNTJmYTNhZjUtMjRhNC00Y2NiLThmMTctOWMzZWIxMjMyN2VlIiwidGl0bGUiOiJVRk8gUGFwZXIgUGxhdGUgQ3JhZnQiLCJkZXNjcmlwdGlvbiI6IkEgZnVuIHNwYWNlIGFjdGk= (truncated)</td><td>streaming-124f98f775af-pin</td><td>shardId-000000000002</td><td>49655440148212112345281612285972420658618757254932856866</td><td>2024-09-27T09:52:57.876+0000</td></tr><tr><td>partition-key</td><td>eyJpbmRleCI6MzA4OSwidW5pcXVlX2lkIjoiODhmOTIyN2UtODhkMC00YjFjLWIwYmUtYmNmYzMwMjhiOGUyIiwidGl0bGUiOiJObyBUaXRsZSBEYXRhIEF2YWlsYWJsZSIsImRlc2NyaXB0aW9uIjoiTm8gZGVzY3JpcHRpb24= (truncated)</td><td>streaming-124f98f775af-pin</td><td>shardId-000000000002</td><td>49655440148212112345281612287268389137245639936376307746</td><td>2024-09-27T09:52:59.125+0000</td></tr><tr><td>partition-key</td><td>eyJpbmRleCI6NjA2MywidW5pcXVlX2lkIjoiNjA2OTM3MjctNDkyNy00YmQ2LWE4YzUtMDk2YTM5MmQ2M2U2IiwidGl0bGUiOiI0MSBHb3JnZW91cyBGYWxsIERlY29yIElkZWFzIEZvciBZb3VyIEhvbWUgLSBDaGF5bG9yICY= (truncated)</td><td>streaming-124f98f775af-pin</td><td>shardId-000000000002</td><td>49655440148212112345281612289865161797777863541084127266</td><td>2024-09-27T09:53:01.575+0000</td></tr><tr><td>partition-key</td><td>eyJpbmRleCI6MzQ1NCwidW5pcXVlX2lkIjoiNDZiZDNmODYtYjA5ZC00ZTI5LTkwMzMtN2ZmMmRmNTk1ZTUxIiwidGl0bGUiOiJXaGF0IGNhbiB5b3UgdXNlIHRvIGNvbG9yIHJlc2luPyIsImRlc2NyaXB0aW9uIjoiSEVMUEY= (truncated)</td><td>streaming-124f98f775af-pin</td><td>shardId-000000000002</td><td>49655440148212112345281612292494575455439682202228490274</td><td>2024-09-27T09:53:04.088+0000</td></tr><tr><td>partition-key</td><td>eyJpbmRleCI6NzU1NCwidW5pcXVlX2lkIjoiYzZmYTEyZjQtMGQ0YS00YjA3LWEzMzUtNWJmOWYzN2Y4MjgxIiwidGl0bGUiOiJDcmFpZyBTdHlsZSIsImRlc2NyaXB0aW9uIjoiaW1nZW50bGVib3NzOiDigJwgLSBNb3JlIGE= (truncated)</td><td>streaming-124f98f775af-pin</td><td>shardId-000000000002</td><td>49655440148212112345281612295087721338513061919412191266</td><td>2024-09-27T09:53:06.480+0000</td></tr><tr><td>partition-key</td><td>eyJpbmRleCI6NjE0NSwidW5pcXVlX2lkIjoiODJlMTNhMDctZGI5OS00M2EzLWIxYzAtODlhNGI3NTgyMWRhIiwidGl0bGUiOiJIT0xJREFZIE1BTlRMRSBERUNPUiAtIEBBTUFaT04gJiBAVEFSR0VUIEZJTkRTIiwiZGVzY3I= (truncated)</td><td>streaming-124f98f775af-pin</td><td>shardId-000000000002</td><td>49655440148212112345281612297656688705194149121821245474</td><td>2024-09-27T09:53:08.886+0000</td></tr><tr><td>partition-key</td><td>eyJpbmRleCI6MTA2MjUsInVuaXF1ZV9pZCI6ImQzMTg4NWI3LTc0MmEtNGUyYS1iYmI3LWFjNWY5ZDMzNDM0MCIsInRpdGxlIjoiSmFndWFyIFR5cGUgRSIsImRlc2NyaXB0aW9uIjoiMTkzNyBKYWd1YXIgU1MxMDAgLSAyIDE= (truncated)</td><td>streaming-124f98f775af-pin</td><td>shardId-000000000002</td><td>49655440148212112345281612299268186822740449880424054818</td><td>2024-09-27T09:53:10.367+0000</td></tr><tr><td>partition-key</td><td>eyJpbmRleCI6Mjk1OSwidW5pcXVlX2lkIjoiNDM5Y2FjNGItMThlOC00YWFhLTg4YzUtZWRiMjZhNzAxMTExIiwidGl0bGUiOiJUaGUgQ3V0ZXN0IFRvaWxldCBQYXBlciBDcmFmdHMiLCJkZXNjcmlwdGlvbiI6Ik9uZSB0aGk= (truncated)</td><td>streaming-124f98f775af-pin</td><td>shardId-000000000002</td><td>49655440148212112345281612300758792358325287721556246562</td><td>2024-09-27T09:53:11.690+0000</td></tr><tr><td>partition-key</td><td>eyJpbmRleCI6OTg3NSwidW5pcXVlX2lkIjoiNzgyZGNiYWQtZmY5MS00MGE2LWJhNjAtMjE2ZWZlMjlhZGI3IiwidGl0bGUiOiJFdXJvcGVhbiBCdWNrZXQgTGlzdDogMzUgVGhpbmdzIE5PVCBUbyBNaXNzIFdoZW4gVHJhdmU= (truncated)</td><td>streaming-124f98f775af-pin</td><td>shardId-000000000002</td><td>49655440148212112345281612302117624979572130982645465122</td><td>2024-09-27T09:53:12.967+0000</td></tr><tr><td>partition-key</td><td>eyJpbmRleCI6MjQxOCwidW5pcXVlX2lkIjoiZGE4NzQ1YTYtNTE2MC00NmM0LTg3N2QtMTgxZDUwYTcyOWZkIiwidGl0bGUiOiIxMDAgRElZIENocmlzdG1hcyBDZW50ZXJwaWVjZXMgWW91J2xsIExvdmUgVG8gRGVjb3JhdGU= (truncated)</td><td>streaming-124f98f775af-pin</td><td>shardId-000000000002</td><td>49655440148212112345281612304448433959789136237637402658</td><td>2024-09-27T09:53:15.191+0000</td></tr><tr><td>partition-key</td><td>eyJpbmRleCI6MzE1NiwidW5pcXVlX2lkIjoiZmE2ZTMxYTQtMThjMi00ZWNhLWE2ZDgtZTkwM2VlZTJjMmE0IiwidGl0bGUiOiJIYW5kcHJpbnQgUmVpbmRlZXIgT3JuYW1lbnRzIC0gQ3JhZnR5IE1vcm5pbmciLCJkZXNjcmk= (truncated)</td><td>streaming-124f98f775af-pin</td><td>shardId-000000000002</td><td>49655440148212112345281612305806057655216364869551915042</td><td>2024-09-27T09:53:16.456+0000</td></tr><tr><td>partition-key</td><td>eyJpbmRleCI6NDI4LCJ1bmlxdWVfaWQiOiI2MTBiM2Y4My05ZmUwLTQ2OWQtOTQ2Yy1kMTZiNTc3ZmNhNzEiLCJ0aXRsZSI6IkZhc2hpb24gRGVzaWduZXIgSXNhYWMgTWl6cmFoaeKAmXMgVXBkYXRlZCAxOTMwcyBOZXcgWW8= (truncated)</td><td>streaming-124f98f775af-pin</td><td>shardId-000000000002</td><td>49655440148212112345281612307193904496133959230834081826</td><td>2024-09-27T09:53:17.720+0000</td></tr><tr><td>partition-key</td><td>eyJpbmRleCI6NzM0MywidW5pcXVlX2lkIjoiYjhjNjNhOTUtNmZlOC00ZDdmLTk0NTUtMWVlZjM0NjJmZWUwIiwidGl0bGUiOiJUaGlzIEZhc2hpb24gUnVsZSBJcyBOb25zZW5zZSwgQW5kIFdlIFNob3VsZCBBbGwgRm9yZ2U= (truncated)</td><td>streaming-124f98f775af-pin</td><td>shardId-000000000002</td><td>49655440148212112345281612308446351645254715193268633634</td><td>2024-09-27T09:53:18.938+0000</td></tr><tr><td>partition-key</td><td>eyJpbmRleCI6MjA3NCwidW5pcXVlX2lkIjoiODZlZDA5YTctODQyZC00OTZkLTk1MDEtMDEwYzY1NGViMzQwIiwidGl0bGUiOiIzNSBDaHJpc3RtYXMgRGVjb3JhdGluZyBJZGVhcyBXZSBCZXQgWW91IEhhdmVuJ3QgVGhvdWc= (truncated)</td><td>streaming-124f98f775af-pin</td><td>shardId-000000000002</td><td>49655440148212112345281612310825517658256305546529341474</td><td>2024-09-27T09:53:21.177+0000</td></tr><tr><td>partition-key</td><td>eyJpbmRleCI6OTk3OSwidW5pcXVlX2lkIjoiMmIyYWJjODUtZmM1MS00ODFmLThhZTYtMTc2ODE5OTNkYTI4IiwidGl0bGUiOiJQYXJpcyBpbiB0aGUgU3VtbWVyLiAxMCBmdW4gdGhpbmdzIHRvIGRvIGluIFBhcmlzIGluIHQ= (truncated)</td><td>streaming-124f98f775af-pin</td><td>shardId-000000000002</td><td>49655440148212112345281612312195230611879680470190915618</td><td>2024-09-27T09:53:22.347+0000</td></tr><tr><td>partition-key</td><td>eyJpbmRleCI6MTAxMzgsInVuaXF1ZV9pZCI6IjkyN2M0NjU4LWNjM2YtNGI5Mi05YjVjLTcwNzQzZDBjMjM4ZCIsInRpdGxlIjoiMTQgQW1hemluZyBUaGluZ3MgVG8gRG8gSW4gQ29zdGEgUmljYSB8IFZvbGNhbm9lcywgV2E= (truncated)</td><td>streaming-124f98f775af-pin</td><td>shardId-000000000002</td><td>49655440148212112345281612313502079422883094608048291874</td><td>2024-09-27T09:53:23.583+0000</td></tr><tr><td>partition-key</td><td>eyJpbmRleCI6OTY3MiwidW5pcXVlX2lkIjoiMWE1MDUwYTQtYWM4Mi00NzJjLWFlZmYtMzQ1N2RlOGJiZWU5IiwidGl0bGUiOiJMYWtlIE1vcmFpbmUsIEJhbmZmLCBDYW5hZGEiLCJkZXNjcmlwdGlvbiI6Ik9uIG91ciBDYWw= (truncated)</td><td>streaming-124f98f775af-pin</td><td>shardId-000000000002</td><td>49655440148212112345281612315882454361704299659203182626</td><td>2024-09-27T09:53:25.872+0000</td></tr><tr><td>partition-key</td><td>eyJpbmRleCI6ODY1MywidW5pcXVlX2lkIjoiMjRiMTM0M2MtNGQ4Ni00NzA1LThlYzktN2YxZjJkZjJkNzdlIiwidGl0bGUiOiJVbmlxdWUgV29tZW4gVGF0dG9vcyBJZGVhcyAyMDIwIiwiZGVzY3JpcHRpb24iOiJXZSB3ZWw= (truncated)</td><td>streaming-124f98f775af-pin</td><td>shardId-000000000002</td><td>49655440148212112345281612318206009787003617070427406370</td><td>2024-09-27T09:53:28.043+0000</td></tr><tr><td>partition-key</td><td>eyJpbmRleCI6ODg4NywidW5pcXVlX2lkIjoiNWRmOWY2ZTUtMDdmNS00Y2U4LWE4MmUtOTY1ODZiYmMwNWQ4IiwidGl0bGUiOiIyNSBVbHRyYSBTZXh5IEJhY2sgVGF0dG9vIElkZWFzIEZvciBHaXJscyIsImRlc2NyaXB0aW8= (truncated)</td><td>streaming-124f98f775af-pin</td><td>shardId-000000000002</td><td>49655440148212112345281612320536818767220622325419343906</td><td>2024-09-27T09:53:30.396+0000</td></tr><tr><td>partition-key</td><td>eyJpbmRleCI6NzkyMiwidW5pcXVlX2lkIjoiYTU4NDU4MWMtMWIzOC00NzMxLWExY2MtZjM2MTE1ZWNmMjI5IiwidGl0bGUiOiI0NSBUb3AgTGlmZSBRdW90ZXMgU2Nob29sIERpZCBOb3QgVGVhY2ggWW91IiwiZGVzY3JpcHQ= (truncated)</td><td>streaming-124f98f775af-pin</td><td>shardId-000000000002</td><td>49655440148212112345281612322866418821618012882517098530</td><td>2024-09-27T09:53:32.647+0000</td></tr><tr><td>partition-key</td><td>eyJpbmRleCI6MTAxNCwidW5pcXVlX2lkIjoiOWFjOTQzMDctYmIyNy00MTBlLWI1NTQtMGEwYWI2YzE5ODQ3IiwidGl0bGUiOiJIYWlyc3R5bGVzICYgQmVhdXR5IiwiZGVzY3JpcHRpb24iOiJVbnRpdGxlZCIsInBvc3Rlcl8= (truncated)</td><td>streaming-124f98f775af-pin</td><td>shardId-000000000002</td><td>49655440148212112345281612325054574555120491826174230562</td><td>2024-09-27T09:53:34.851+0000</td></tr><tr><td>partition-key</td><td>eyJpbmRleCI6NDkxMywidW5pcXVlX2lkIjoiNGQyZDc5YzYtOWNhOC00NmM5LWEzOGUtOTMxYzVkOTY3ODA0IiwidGl0bGUiOiJIb3cgdG8gV29yayBGcm9tIEhvbWUgYXMgYW4gRXZlbnQgUGxhbm5lciIsImRlc2NyaXB0aW8= (truncated)</td><td>streaming-124f98f775af-pin</td><td>shardId-000000000002</td><td>49655440148212112345281612326373512624320052393217622050</td><td>2024-09-27T09:53:36.112+0000</td></tr><tr><td>partition-key</td><td>eyJpbmRleCI6NDEzNywidW5pcXVlX2lkIjoiYmYyNzUwNTQtNDQ2NC00NDhiLTkxNDMtMWJmMTAxYWEzNjZkIiwidGl0bGUiOiIxNSBFc3NlbnRpYWwgQ2xhc3Nyb29tIEl0ZW1zIEZvciBGaXJzdCBZZWFyIFRlYWNoZXJzIC8= (truncated)</td><td>streaming-124f98f775af-pin</td><td>shardId-000000000002</td><td>49655440148212112345281612328759932192239330521526566946</td><td>2024-09-27T09:53:38.329+0000</td></tr><tr><td>partition-key</td><td>eyJpbmRleCI6NzE2NiwidW5pcXVlX2lkIjoiNGE4NDRiMDMtZTE2MS00N2ExLTkwNGItNTkxZWI1ZGM0ZmIxIiwidGl0bGUiOiJUaGUgS2lsbGVycyAtIE1yLiBCcmlnaHRzaWRlIC0gV29tZW4ncyBULVNoaXJ0IC0gSGVhdGg= (truncated)</td><td>streaming-124f98f775af-pin</td><td>shardId-000000000002</td><td>49655440148212112345281612329984574047508949944223399970</td><td>2024-09-27T09:53:39.544+0000</td></tr><tr><td>partition-key</td><td>eyJpbmRleCI6OTU0NiwidW5pcXVlX2lkIjoiZWZkNWIyZDYtMmY2OS00MGNkLWJiNTktNDFmMThjMDg5ZTUyIiwidGl0bGUiOiIyMCBBbWF6aW5nIFRyaXBzIHRvIFRha2UgaW4gWW91ciBUd2VudGllcyEiLCJkZXNjcmlwdGk= (truncated)</td><td>streaming-124f98f775af-pin</td><td>shardId-000000000002</td><td>49655440148212112345281612332167894077732970439901184034</td><td>2024-09-27T09:53:41.781+0000</td></tr><tr><td>partition-key</td><td>eyJpbmRleCI6MjQxMSwidW5pcXVlX2lkIjoiNGUxMTgwMWUtN2E2NC00ZjFlLTkwZGQtZTkwMDY3NzU5NWM1IiwidGl0bGUiOiJUaGUgU3dlZXRlc3QgR2luZ2VyYnJlYWQgSG91c2UgT3JuYW1lbnRzIEtpZHMgQ2FuIE1ha2U= (truncated)</td><td>streaming-124f98f775af-pin</td><td>shardId-000000000002</td><td>49655440148212112345281612334186800196489401230379974690</td><td>2024-09-27T09:53:43.968+0000</td></tr><tr><td>partition-key</td><td>eyJpbmRleCI6OTU5MCwidW5pcXVlX2lkIjoiYjg0OWU5NzYtNTJmNi00NWQ3LThiMjUtNTE1NTkzMThmMTY3IiwidGl0bGUiOiJUb3AgMjAgVGhpbmdzIFRvIFNlZSBBbmQgRG8gSW4gSXJlbGFuZCIsImRlc2NyaXB0aW9uIjo= (truncated)</td><td>streaming-124f98f775af-pin</td><td>shardId-000000000002</td><td>49655440148212112345281612335295385173076016252305014818</td><td>2024-09-27T09:53:45.193+0000</td></tr><tr><td>partition-key</td><td>eyJpbmRleCI6MjY5OCwidW5pcXVlX2lkIjoiNzNmMTYzMDItNDg3MS00ODZhLTg4MzYtOTQ3NTMwNTI2MzM3IiwidGl0bGUiOiJESVkgRG9sbGFyIFRyZWUgVmFsZW50aW5lJ3MgRGF5IFdyZWF0aCIsImRlc2NyaXB0aW9uIjo= (truncated)</td><td>streaming-124f98f775af-pin</td><td>shardId-000000000002</td><td>49655440148212112345281612337558494307394602273513406498</td><td>2024-09-27T09:53:47.440+0000</td></tr><tr><td>partition-key</td><td>eyJpbmRleCI6NDUwOCwidW5pcXVlX2lkIjoiOTA2NGY0YTItMjc1My00NzZjLTgxNWUtZGIzNjBmNDVhOTNlIiwidGl0bGUiOiJDdXN0b20gRXZlbnQgYW5kIFNob3AgTmVvbiBTaWduIExpZ2h0cyAtIEV2ZW50ICYgU2hvcCI= (truncated)</td><td>streaming-124f98f775af-pin</td><td>shardId-000000000002</td><td>49655440148212112345281612338751704091354241337667878946</td><td>2024-09-27T09:53:48.693+0000</td></tr><tr><td>partition-key</td><td>eyJpbmRleCI6ODMxLCJ1bmlxdWVfaWQiOiI1ZTY1OTE0ZC05ZjU4LTRmZjEtOTY3Ni02NThlNDI2ZThjZTUiLCJ0aXRsZSI6ImNyZWF0aW5nIG1peGVkLW1lZGlhIGZhY2VzIHR1dG9yaWFsIiwiZGVzY3JpcHRpb24iOiJGcmU= (truncated)</td><td>streaming-124f98f775af-pin</td><td>shardId-000000000002</td><td>49655440148212112345281612340135924154812991880145403938</td><td>2024-09-27T09:53:50.036+0000</td></tr><tr><td>partition-key</td><td>eyJpbmRleCI6NTA3NiwidW5pcXVlX2lkIjoiZmEzYWYyOWMtZGM3OC00ZWVkLWE0YzUtNTJhNDA3ZWEwNGMwIiwidGl0bGUiOiJRdWl6OiBUZXN0IFlvdXIgRXZlbnQgSVEhIC0gUG9pbnRlcnMgRm9yIFBsYW5uZXJzIiwiZGU= (truncated)</td><td>streaming-124f98f775af-pin</td><td>shardId-000000000002</td><td>49655440148212112345281612341326716087133401685950464034</td><td>2024-09-27T09:53:51.244+0000</td></tr><tr><td>partition-key</td><td>eyJpbmRleCI6MTA2NjMsInVuaXF1ZV9pZCI6ImQ1MjA4YzE2LTgyYWUtNGZkMS04N2YwLTM2ZTVlZjc4OTQxMiIsInRpdGxlIjoiMjErIENsYXNzaWMgQ2FyIFBpY3R1cmUgb2YgdGhlIDE5NTBzIC0gVmludGFnZXRvcGlhIiw= (truncated)</td><td>streaming-124f98f775af-pin</td><td>shardId-000000000002</td><td>49655440148212112345281612342613013159203367196557312034</td><td>2024-09-27T09:53:52.521+0000</td></tr><tr><td>partition-key</td><td>eyJpbmRleCI6NTQ2OCwidW5pcXVlX2lkIjoiOTFlZTQ5ZjYtMDA3MC00MjcwLWJhMTktZmRlODhiYTUxYzkxIiwidGl0bGUiOiJCdWRnZXRzLCBTcG91c2VzICYgTWFraW5nIEl0IFdvcmshIC0gVHNoYW5pbmEgUGV0ZXJzb24= (truncated)</td><td>streaming-124f98f775af-pin</td><td>shardId-000000000002</td><td>49655440148212112345281612344766110043937021894147964962</td><td>2024-09-27T09:53:54.776+0000</td></tr><tr><td>partition-key</td><td>eyJpbmRleCI6MjA1LCJ1bmlxdWVfaWQiOiJmNGFmZDU0My1iOWZlLTQ0YzMtODA2NC1mMjE5OGZhYTEzNzIiLCJ0aXRsZSI6IkRJWSBBYnN0cmFjdCBIZWFydCBQYWludGluZyBhbmQgYSBGdW4gUGFpbnQgUGFydHkiLCJkZXM= (truncated)</td><td>streaming-124f98f775af-pin</td><td>shardId-000000000002</td><td>49655440148212112345281612347109008282350173440886964258</td><td>2024-09-27T09:53:57.082+0000</td></tr><tr><td>partition-key</td><td>eyJpbmRleCI6Nzc5MCwidW5pcXVlX2lkIjoiOWNkODlmYjktZDFhZi00ZTY2LTg1Y2EtYzlkNjU2YzkxOGI0IiwidGl0bGUiOiI1MCBIZWFydCBUb3VjaGluZyBTYWQgUXVvdGVzIFRoYXQgV2lsbCBNYWtlIFlvdSBDcnkiLCI= (truncated)</td><td>streaming-124f98f775af-pin</td><td>shardId-000000000002</td><td>49655440148212112345281612348437617758106650903889051682</td><td>2024-09-27T09:53:58.388+0000</td></tr><tr><td>partition-key</td><td>eyJpbmRleCI6ODYwNiwidW5pcXVlX2lkIjoiNzE3NTcwNDAtYmZjOC00NjMxLTljYWMtMjI4MDFlNjFkOWUzIiwidGl0bGUiOiIzMCsgRWFnbGUgVGF0dG9vcyBJZGVhcyBmb3IgV29tZW4iLCJkZXNjcmlwdGlvbiI6InN1bW0= (truncated)</td><td>streaming-124f98f775af-pin</td><td>shardId-000000000002</td><td>49655440148212112345281612349687647055588177539254714402</td><td>2024-09-27T09:53:59.716+0000</td></tr><tr><td>partition-key</td><td>eyJpbmRleCI6OTc1OSwidW5pcXVlX2lkIjoiZDEwNWViNmUtMGY5Zi00NmU3LThkMDItZDI0YjYyZjZhZTkwIiwidGl0bGUiOiI4IEJlc3QgR3JlZWsgSXNsYW5kcyBZb3UgSGF2ZSBUbyBWaXNpdCAtIFRoZUZhYjIwcyIsImQ= (truncated)</td><td>streaming-124f98f775af-pin</td><td>shardId-000000000002</td><td>49655440148212112345281612350907453207579338582691676194</td><td>2024-09-27T09:54:00.984+0000</td></tr><tr><td>partition-key</td><td>eyJpbmRleCI6NzE5LCJ1bmlxdWVfaWQiOiJkN2M1M2UzNC05NTQwLTRmNDgtYTMxYi04OWI2ZWQxODUyYmIiLCJ0aXRsZSI6IjEwIEFydCBTdWIgTGVzc29ucyB0aGF0IG9ubHkgbmVlZCBhIFBlbmNpbCIsImRlc2NyaXB0aW8= (truncated)</td><td>streaming-124f98f775af-pin</td><td>shardId-000000000002</td><td>49655440148212112345281612352039007774738631558936133666</td><td>2024-09-27T09:54:02.198+0000</td></tr><tr><td>partition-key</td><td>eyJpbmRleCI6MTcwNCwidW5pcXVlX2lkIjoiNWZiZjk4NjMtZmI3OS00NzdjLWE1YjYtNTQwYzMwMjBhNTVmIiwidGl0bGUiOiJDaHJpc3RtYXMgVHJlZXMgRnJvbSBQYWxsZXQgV29vZCB8IEhvbGlkYXkgRElZIiwiZGVzY3I= (truncated)</td><td>streaming-124f98f775af-pin</td><td>shardId-000000000002</td><td>49655440148212112345281612354248924172994173827737976866</td><td>2024-09-27T09:54:04.422+0000</td></tr><tr><td>partition-key</td><td>eyJpbmRleCI6MjQ4MiwidW5pcXVlX2lkIjoiMDg2MDRmMjAtZmExNy00YjlhLTk5NDktNzgxNzE3ZWNhNmNkIiwidGl0bGUiOiJGT1JOVCBQT1JDSCBDSFJJU1RNQVMgREVDT1JBVElORyBJREVBUyIsImRlc2NyaXB0aW9uIjo= (truncated)</td><td>streaming-124f98f775af-pin</td><td>shardId-000000000002</td><td>49655440148212112345281612356366962208959004279262150690</td><td>2024-09-27T09:54:06.674+0000</td></tr><tr><td>partition-key</td><td>eyJpbmRleCI6ODkzMCwidW5pcXVlX2lkIjoiYTI5OTljMjgtZjdiMi00NTc3LWFmODctNDlkMjFkNmQ4YTE4IiwidGl0bGUiOiIxMzUgU3VuZmxvd2VyIFRhdHRvbyBJZGVhcyAtIFtCZXN0IFJhdGVkIERlc2lnbnMgaW4gMjA= (truncated)</td><td>streaming-124f98f775af-pin</td><td>shardId-000000000002</td><td>49655440148212112345281612358546655461724180818696339490</td><td>2024-09-27T09:54:08.987+0000</td></tr><tr><td>partition-key</td><td>eyJpbmRleCI6NzI5NCwidW5pcXVlX2lkIjoiOWQ4NDA5ZWYtYmVhNy00MTMzLWEwMjEtYzU4YjljMDQyMjEwIiwidGl0bGUiOiJGb29scHJvb2YgRmFsbCBGYXNoaW9uIEZvciBNZW4gWW91J2xsIExvdmUiLCJkZXNjcmlwdGk= (truncated)</td><td>streaming-124f98f775af-pin</td><td>shardId-000000000002</td><td>49655440148212112345281612359761625910436883276714999842</td><td>2024-09-27T09:54:10.239+0000</td></tr><tr><td>partition-key</td><td>eyJpbmRleCI6ODA4LCJ1bmlxdWVfaWQiOiIyM2Y2N2U0Mi1kYjlmLTRhYWUtOGI4Mi1jYmVjNjRhZDlmNGQiLCJ0aXRsZSI6IkNoYWxrIFBhc3RlbCBIb3QgQ2hvY29sYXRlIEFydCBQcm9qZWN0IiwiZGVzY3JpcHRpb24iOiI= (truncated)</td><td>streaming-124f98f775af-pin</td><td>shardId-000000000002</td><td>49655440148212112345281612360975387433329971036839477282</td><td>2024-09-27T09:54:11.487+0000</td></tr><tr><td>partition-key</td><td>eyJpbmRleCI6NzcxLCJ1bmlxdWVfaWQiOiJhNTAyMTc2Ni1hOGFhLTRkYzctOTg1Ny00ZGE2YjhlM2RjMWEiLCJ0aXRsZSI6IkFmcmljYW4gU3Vuc2V0IFNoYWRvdyBUcmFjaW5nIEFydCAtIFRhbWluZyBMaXR0bGUgTW9uc3Q= (truncated)</td><td>streaming-124f98f775af-pin</td><td>shardId-000000000002</td><td>49655440148212112345281612363181677054126669418117201954</td><td>2024-09-27T09:54:13.769+0000</td></tr></tbody></table></div>"
      ]
     },
     "metadata": {
      "application/vnd.databricks.v1+output": {
       "addedWidgets": {},
       "aggData": [],
       "aggError": "",
       "aggOverflow": false,
       "aggSchema": [],
       "aggSeriesLimitReached": false,
       "aggType": "",
       "arguments": {},
       "columnCustomDisplayInfos": {},
       "data": [
        [
         "partition-key",
         "eyJpbmRleCI6NzUyOCwidW5pcXVlX2lkIjoiZmJlNTNjNjYtMzQ0Mi00NzczLWIxOWUtZDNlYzZmNTRkZGRmIiwidGl0bGUiOiJObyBUaXRsZSBEYXRhIEF2YWlsYWJsZSIsImRlc2NyaXB0aW9uIjoiTm8gZGVzY3JpcHRpb24= (truncated)",
         "streaming-124f98f775af-pin",
         "shardId-000000000002",
         "49655440148212112345281612267573778609903714676848459810",
         "2024-09-27T09:52:40.150+0000"
        ],
        [
         "partition-key",
         "eyJpbmRleCI6Mjg2MywidW5pcXVlX2lkIjoiOWJmMzk0MzctNDJhNi00ZjAyLTk5YTAtOWEwMzgzZDhjZDcwIiwidGl0bGUiOiIyNSBTdXBlciBGdW4gU3VtbWVyIENyYWZ0cyBmb3IgS2lkcyAtIE9mIExpZmUgYW5kIExpc2E= (truncated)",
         "streaming-124f98f775af-pin",
         "shardId-000000000002",
         "49655440148212112345281612270014599839705651186738659362",
         "2024-09-27T09:52:42.576+0000"
        ],
        [
         "partition-key",
         "eyJpbmRleCI6NTczMCwidW5pcXVlX2lkIjoiMWUxZjBjOGItOWZjZi00NjBiLTkxNTQtYzc3NTgyNzIwNmViIiwidGl0bGUiOiJJc2xhbmQgT2FzaXMgQ291cG9uIE9yZ2FuaXplciIsImRlc2NyaXB0aW9uIjoiRGVzY3JpcHQ= (truncated)",
         "streaming-124f98f775af-pin",
         "shardId-000000000002",
         "49655440148212112345281612272246276902714256780685213730",
         "2024-09-27T09:52:44.841+0000"
        ],
        [
         "partition-key",
         "eyJpbmRleCI6ODMwNCwidW5pcXVlX2lkIjoiNWI2ZDA5MTMtMjVlNC00M2FiLTgzOWQtODVkNTUxNmY3OGE0IiwidGl0bGUiOiJUaGUgIzEgUmVhc29uIFlvdeKAmXJlIE5vdCBIaXMgUHJpb3JpdHkgQW55bW9yZSAtIE1hdHQ= (truncated)",
         "streaming-124f98f775af-pin",
         "shardId-000000000002",
         "49655440148212112345281612274967568922666787259107246114",
         "2024-09-27T09:52:47.430+0000"
        ],
        [
         "partition-key",
         "eyJpbmRleCI6ODczMSwidW5pcXVlX2lkIjoiZWE3NjBmNzEtZmViZi00MDIzLWI1OTItZDE3Mzk2NjU5MDM5IiwidGl0bGUiOiIyMCBLb2kgRmlzaCBUYXR0b29zIEZvciBMdWNreSBNZW4iLCJkZXNjcmlwdGlvbiI6IktvaSA= (truncated)",
         "streaming-124f98f775af-pin",
         "shardId-000000000002",
         "49655440148212112345281612276297387324242879420003516450",
         "2024-09-27T09:52:48.754+0000"
        ],
        [
         "partition-key",
         "eyJpbmRleCI6MTMxMywidW5pcXVlX2lkIjoiNDQ2NjIwNDUtZTg5MS00ODIxLThhMTktZWJlN2VlZGQzNzFhIiwidGl0bGUiOiJMaXF1aWQgTGFzaCBFeHRlbnNpb25zIE1hc2NhcmEiLCJkZXNjcmlwdGlvbiI6Ikluc3RhbnQ= (truncated)",
         "streaming-124f98f775af-pin",
         "shardId-000000000002",
         "49655440148212112345281612277694905571717390814683332642",
         "2024-09-27T09:52:50.166+0000"
        ],
        [
         "partition-key",
         "eyJpbmRleCI6NDMxNSwidW5pcXVlX2lkIjoiMjFiNTliYTktODI5ZC00YzMzLThjMjctNGNkNGM1NmQyNmI4IiwidGl0bGUiOiJQb2RjYXN0cyBmb3IgVGVhY2hlcnMgb3IgUGFyZW50cyBvZiBUZWVuYWdlcnMiLCJkZXNjcmk= (truncated)",
         "streaming-124f98f775af-pin",
         "shardId-000000000002",
         "49655440148212112345281612280216724831433507547998322722",
         "2024-09-27T09:52:52.564+0000"
        ],
        [
         "partition-key",
         "eyJpbmRleCI6MTA3OTQsInVuaXF1ZV9pZCI6ImM0YmQyNTc3LWE3YmItNDQwOS1iYjdhLTE3ZDVlZDdlMWNmMSIsInRpdGxlIjoiVGlyZUJ1eWVyIiwiZGVzY3JpcHRpb24iOiJOaXNzYW4gR1QtUi4gU2ljay4iLCJwb3N0ZXI= (truncated)",
         "streaming-124f98f775af-pin",
         "shardId-000000000002",
         "49655440148212112345281612281808880135865974239805833250",
         "2024-09-27T09:52:53.977+0000"
        ],
        [
         "partition-key",
         "eyJpbmRleCI6NTQ5NCwidW5pcXVlX2lkIjoiOGZiMmFmNjgtNTQzYi00NjM5LTgxMTktZGUzM2QyODcwNmVkIiwidGl0bGUiOiJEYXZlIFJhbXNleSdzIDcgQmFieSBTdGVwczogV2hhdCBBcmUgVGhleSBBbmQgV2lsbCBUaGU= (truncated)",
         "streaming-124f98f775af-pin",
         "shardId-000000000002",
         "49655440148212112345281612283316410632925416889383911458",
         "2024-09-27T09:52:55.400+0000"
        ],
        [
         "partition-key",
         "eyJpbmRleCI6NTA2OSwidW5pcXVlX2lkIjoiYjc1YjZmODctZGViMy00NDRmLWIyOWUtY2U5MTYxYjJkZjQ5IiwidGl0bGUiOiJUaGUgVmF1bHQ6IEN1cmF0ZWQgJiBSZWZpbmVkIFdlZGRpbmcgSW5zcGlyYXRpb24iLCJkZXM= (truncated)",
         "streaming-124f98f775af-pin",
         "shardId-000000000002",
         "49655440148212112345281612284675243254172260150473130018",
         "2024-09-27T09:52:56.633+0000"
        ],
        [
         "partition-key",
         "eyJpbmRleCI6MjkyMywidW5pcXVlX2lkIjoiNTJmYTNhZjUtMjRhNC00Y2NiLThmMTctOWMzZWIxMjMyN2VlIiwidGl0bGUiOiJVRk8gUGFwZXIgUGxhdGUgQ3JhZnQiLCJkZXNjcmlwdGlvbiI6IkEgZnVuIHNwYWNlIGFjdGk= (truncated)",
         "streaming-124f98f775af-pin",
         "shardId-000000000002",
         "49655440148212112345281612285972420658618757254932856866",
         "2024-09-27T09:52:57.876+0000"
        ],
        [
         "partition-key",
         "eyJpbmRleCI6MzA4OSwidW5pcXVlX2lkIjoiODhmOTIyN2UtODhkMC00YjFjLWIwYmUtYmNmYzMwMjhiOGUyIiwidGl0bGUiOiJObyBUaXRsZSBEYXRhIEF2YWlsYWJsZSIsImRlc2NyaXB0aW9uIjoiTm8gZGVzY3JpcHRpb24= (truncated)",
         "streaming-124f98f775af-pin",
         "shardId-000000000002",
         "49655440148212112345281612287268389137245639936376307746",
         "2024-09-27T09:52:59.125+0000"
        ],
        [
         "partition-key",
         "eyJpbmRleCI6NjA2MywidW5pcXVlX2lkIjoiNjA2OTM3MjctNDkyNy00YmQ2LWE4YzUtMDk2YTM5MmQ2M2U2IiwidGl0bGUiOiI0MSBHb3JnZW91cyBGYWxsIERlY29yIElkZWFzIEZvciBZb3VyIEhvbWUgLSBDaGF5bG9yICY= (truncated)",
         "streaming-124f98f775af-pin",
         "shardId-000000000002",
         "49655440148212112345281612289865161797777863541084127266",
         "2024-09-27T09:53:01.575+0000"
        ],
        [
         "partition-key",
         "eyJpbmRleCI6MzQ1NCwidW5pcXVlX2lkIjoiNDZiZDNmODYtYjA5ZC00ZTI5LTkwMzMtN2ZmMmRmNTk1ZTUxIiwidGl0bGUiOiJXaGF0IGNhbiB5b3UgdXNlIHRvIGNvbG9yIHJlc2luPyIsImRlc2NyaXB0aW9uIjoiSEVMUEY= (truncated)",
         "streaming-124f98f775af-pin",
         "shardId-000000000002",
         "49655440148212112345281612292494575455439682202228490274",
         "2024-09-27T09:53:04.088+0000"
        ],
        [
         "partition-key",
         "eyJpbmRleCI6NzU1NCwidW5pcXVlX2lkIjoiYzZmYTEyZjQtMGQ0YS00YjA3LWEzMzUtNWJmOWYzN2Y4MjgxIiwidGl0bGUiOiJDcmFpZyBTdHlsZSIsImRlc2NyaXB0aW9uIjoiaW1nZW50bGVib3NzOiDigJwgLSBNb3JlIGE= (truncated)",
         "streaming-124f98f775af-pin",
         "shardId-000000000002",
         "49655440148212112345281612295087721338513061919412191266",
         "2024-09-27T09:53:06.480+0000"
        ],
        [
         "partition-key",
         "eyJpbmRleCI6NjE0NSwidW5pcXVlX2lkIjoiODJlMTNhMDctZGI5OS00M2EzLWIxYzAtODlhNGI3NTgyMWRhIiwidGl0bGUiOiJIT0xJREFZIE1BTlRMRSBERUNPUiAtIEBBTUFaT04gJiBAVEFSR0VUIEZJTkRTIiwiZGVzY3I= (truncated)",
         "streaming-124f98f775af-pin",
         "shardId-000000000002",
         "49655440148212112345281612297656688705194149121821245474",
         "2024-09-27T09:53:08.886+0000"
        ],
        [
         "partition-key",
         "eyJpbmRleCI6MTA2MjUsInVuaXF1ZV9pZCI6ImQzMTg4NWI3LTc0MmEtNGUyYS1iYmI3LWFjNWY5ZDMzNDM0MCIsInRpdGxlIjoiSmFndWFyIFR5cGUgRSIsImRlc2NyaXB0aW9uIjoiMTkzNyBKYWd1YXIgU1MxMDAgLSAyIDE= (truncated)",
         "streaming-124f98f775af-pin",
         "shardId-000000000002",
         "49655440148212112345281612299268186822740449880424054818",
         "2024-09-27T09:53:10.367+0000"
        ],
        [
         "partition-key",
         "eyJpbmRleCI6Mjk1OSwidW5pcXVlX2lkIjoiNDM5Y2FjNGItMThlOC00YWFhLTg4YzUtZWRiMjZhNzAxMTExIiwidGl0bGUiOiJUaGUgQ3V0ZXN0IFRvaWxldCBQYXBlciBDcmFmdHMiLCJkZXNjcmlwdGlvbiI6Ik9uZSB0aGk= (truncated)",
         "streaming-124f98f775af-pin",
         "shardId-000000000002",
         "49655440148212112345281612300758792358325287721556246562",
         "2024-09-27T09:53:11.690+0000"
        ],
        [
         "partition-key",
         "eyJpbmRleCI6OTg3NSwidW5pcXVlX2lkIjoiNzgyZGNiYWQtZmY5MS00MGE2LWJhNjAtMjE2ZWZlMjlhZGI3IiwidGl0bGUiOiJFdXJvcGVhbiBCdWNrZXQgTGlzdDogMzUgVGhpbmdzIE5PVCBUbyBNaXNzIFdoZW4gVHJhdmU= (truncated)",
         "streaming-124f98f775af-pin",
         "shardId-000000000002",
         "49655440148212112345281612302117624979572130982645465122",
         "2024-09-27T09:53:12.967+0000"
        ],
        [
         "partition-key",
         "eyJpbmRleCI6MjQxOCwidW5pcXVlX2lkIjoiZGE4NzQ1YTYtNTE2MC00NmM0LTg3N2QtMTgxZDUwYTcyOWZkIiwidGl0bGUiOiIxMDAgRElZIENocmlzdG1hcyBDZW50ZXJwaWVjZXMgWW91J2xsIExvdmUgVG8gRGVjb3JhdGU= (truncated)",
         "streaming-124f98f775af-pin",
         "shardId-000000000002",
         "49655440148212112345281612304448433959789136237637402658",
         "2024-09-27T09:53:15.191+0000"
        ],
        [
         "partition-key",
         "eyJpbmRleCI6MzE1NiwidW5pcXVlX2lkIjoiZmE2ZTMxYTQtMThjMi00ZWNhLWE2ZDgtZTkwM2VlZTJjMmE0IiwidGl0bGUiOiJIYW5kcHJpbnQgUmVpbmRlZXIgT3JuYW1lbnRzIC0gQ3JhZnR5IE1vcm5pbmciLCJkZXNjcmk= (truncated)",
         "streaming-124f98f775af-pin",
         "shardId-000000000002",
         "49655440148212112345281612305806057655216364869551915042",
         "2024-09-27T09:53:16.456+0000"
        ],
        [
         "partition-key",
         "eyJpbmRleCI6NDI4LCJ1bmlxdWVfaWQiOiI2MTBiM2Y4My05ZmUwLTQ2OWQtOTQ2Yy1kMTZiNTc3ZmNhNzEiLCJ0aXRsZSI6IkZhc2hpb24gRGVzaWduZXIgSXNhYWMgTWl6cmFoaeKAmXMgVXBkYXRlZCAxOTMwcyBOZXcgWW8= (truncated)",
         "streaming-124f98f775af-pin",
         "shardId-000000000002",
         "49655440148212112345281612307193904496133959230834081826",
         "2024-09-27T09:53:17.720+0000"
        ],
        [
         "partition-key",
         "eyJpbmRleCI6NzM0MywidW5pcXVlX2lkIjoiYjhjNjNhOTUtNmZlOC00ZDdmLTk0NTUtMWVlZjM0NjJmZWUwIiwidGl0bGUiOiJUaGlzIEZhc2hpb24gUnVsZSBJcyBOb25zZW5zZSwgQW5kIFdlIFNob3VsZCBBbGwgRm9yZ2U= (truncated)",
         "streaming-124f98f775af-pin",
         "shardId-000000000002",
         "49655440148212112345281612308446351645254715193268633634",
         "2024-09-27T09:53:18.938+0000"
        ],
        [
         "partition-key",
         "eyJpbmRleCI6MjA3NCwidW5pcXVlX2lkIjoiODZlZDA5YTctODQyZC00OTZkLTk1MDEtMDEwYzY1NGViMzQwIiwidGl0bGUiOiIzNSBDaHJpc3RtYXMgRGVjb3JhdGluZyBJZGVhcyBXZSBCZXQgWW91IEhhdmVuJ3QgVGhvdWc= (truncated)",
         "streaming-124f98f775af-pin",
         "shardId-000000000002",
         "49655440148212112345281612310825517658256305546529341474",
         "2024-09-27T09:53:21.177+0000"
        ],
        [
         "partition-key",
         "eyJpbmRleCI6OTk3OSwidW5pcXVlX2lkIjoiMmIyYWJjODUtZmM1MS00ODFmLThhZTYtMTc2ODE5OTNkYTI4IiwidGl0bGUiOiJQYXJpcyBpbiB0aGUgU3VtbWVyLiAxMCBmdW4gdGhpbmdzIHRvIGRvIGluIFBhcmlzIGluIHQ= (truncated)",
         "streaming-124f98f775af-pin",
         "shardId-000000000002",
         "49655440148212112345281612312195230611879680470190915618",
         "2024-09-27T09:53:22.347+0000"
        ],
        [
         "partition-key",
         "eyJpbmRleCI6MTAxMzgsInVuaXF1ZV9pZCI6IjkyN2M0NjU4LWNjM2YtNGI5Mi05YjVjLTcwNzQzZDBjMjM4ZCIsInRpdGxlIjoiMTQgQW1hemluZyBUaGluZ3MgVG8gRG8gSW4gQ29zdGEgUmljYSB8IFZvbGNhbm9lcywgV2E= (truncated)",
         "streaming-124f98f775af-pin",
         "shardId-000000000002",
         "49655440148212112345281612313502079422883094608048291874",
         "2024-09-27T09:53:23.583+0000"
        ],
        [
         "partition-key",
         "eyJpbmRleCI6OTY3MiwidW5pcXVlX2lkIjoiMWE1MDUwYTQtYWM4Mi00NzJjLWFlZmYtMzQ1N2RlOGJiZWU5IiwidGl0bGUiOiJMYWtlIE1vcmFpbmUsIEJhbmZmLCBDYW5hZGEiLCJkZXNjcmlwdGlvbiI6Ik9uIG91ciBDYWw= (truncated)",
         "streaming-124f98f775af-pin",
         "shardId-000000000002",
         "49655440148212112345281612315882454361704299659203182626",
         "2024-09-27T09:53:25.872+0000"
        ],
        [
         "partition-key",
         "eyJpbmRleCI6ODY1MywidW5pcXVlX2lkIjoiMjRiMTM0M2MtNGQ4Ni00NzA1LThlYzktN2YxZjJkZjJkNzdlIiwidGl0bGUiOiJVbmlxdWUgV29tZW4gVGF0dG9vcyBJZGVhcyAyMDIwIiwiZGVzY3JpcHRpb24iOiJXZSB3ZWw= (truncated)",
         "streaming-124f98f775af-pin",
         "shardId-000000000002",
         "49655440148212112345281612318206009787003617070427406370",
         "2024-09-27T09:53:28.043+0000"
        ],
        [
         "partition-key",
         "eyJpbmRleCI6ODg4NywidW5pcXVlX2lkIjoiNWRmOWY2ZTUtMDdmNS00Y2U4LWE4MmUtOTY1ODZiYmMwNWQ4IiwidGl0bGUiOiIyNSBVbHRyYSBTZXh5IEJhY2sgVGF0dG9vIElkZWFzIEZvciBHaXJscyIsImRlc2NyaXB0aW8= (truncated)",
         "streaming-124f98f775af-pin",
         "shardId-000000000002",
         "49655440148212112345281612320536818767220622325419343906",
         "2024-09-27T09:53:30.396+0000"
        ],
        [
         "partition-key",
         "eyJpbmRleCI6NzkyMiwidW5pcXVlX2lkIjoiYTU4NDU4MWMtMWIzOC00NzMxLWExY2MtZjM2MTE1ZWNmMjI5IiwidGl0bGUiOiI0NSBUb3AgTGlmZSBRdW90ZXMgU2Nob29sIERpZCBOb3QgVGVhY2ggWW91IiwiZGVzY3JpcHQ= (truncated)",
         "streaming-124f98f775af-pin",
         "shardId-000000000002",
         "49655440148212112345281612322866418821618012882517098530",
         "2024-09-27T09:53:32.647+0000"
        ],
        [
         "partition-key",
         "eyJpbmRleCI6MTAxNCwidW5pcXVlX2lkIjoiOWFjOTQzMDctYmIyNy00MTBlLWI1NTQtMGEwYWI2YzE5ODQ3IiwidGl0bGUiOiJIYWlyc3R5bGVzICYgQmVhdXR5IiwiZGVzY3JpcHRpb24iOiJVbnRpdGxlZCIsInBvc3Rlcl8= (truncated)",
         "streaming-124f98f775af-pin",
         "shardId-000000000002",
         "49655440148212112345281612325054574555120491826174230562",
         "2024-09-27T09:53:34.851+0000"
        ],
        [
         "partition-key",
         "eyJpbmRleCI6NDkxMywidW5pcXVlX2lkIjoiNGQyZDc5YzYtOWNhOC00NmM5LWEzOGUtOTMxYzVkOTY3ODA0IiwidGl0bGUiOiJIb3cgdG8gV29yayBGcm9tIEhvbWUgYXMgYW4gRXZlbnQgUGxhbm5lciIsImRlc2NyaXB0aW8= (truncated)",
         "streaming-124f98f775af-pin",
         "shardId-000000000002",
         "49655440148212112345281612326373512624320052393217622050",
         "2024-09-27T09:53:36.112+0000"
        ],
        [
         "partition-key",
         "eyJpbmRleCI6NDEzNywidW5pcXVlX2lkIjoiYmYyNzUwNTQtNDQ2NC00NDhiLTkxNDMtMWJmMTAxYWEzNjZkIiwidGl0bGUiOiIxNSBFc3NlbnRpYWwgQ2xhc3Nyb29tIEl0ZW1zIEZvciBGaXJzdCBZZWFyIFRlYWNoZXJzIC8= (truncated)",
         "streaming-124f98f775af-pin",
         "shardId-000000000002",
         "49655440148212112345281612328759932192239330521526566946",
         "2024-09-27T09:53:38.329+0000"
        ],
        [
         "partition-key",
         "eyJpbmRleCI6NzE2NiwidW5pcXVlX2lkIjoiNGE4NDRiMDMtZTE2MS00N2ExLTkwNGItNTkxZWI1ZGM0ZmIxIiwidGl0bGUiOiJUaGUgS2lsbGVycyAtIE1yLiBCcmlnaHRzaWRlIC0gV29tZW4ncyBULVNoaXJ0IC0gSGVhdGg= (truncated)",
         "streaming-124f98f775af-pin",
         "shardId-000000000002",
         "49655440148212112345281612329984574047508949944223399970",
         "2024-09-27T09:53:39.544+0000"
        ],
        [
         "partition-key",
         "eyJpbmRleCI6OTU0NiwidW5pcXVlX2lkIjoiZWZkNWIyZDYtMmY2OS00MGNkLWJiNTktNDFmMThjMDg5ZTUyIiwidGl0bGUiOiIyMCBBbWF6aW5nIFRyaXBzIHRvIFRha2UgaW4gWW91ciBUd2VudGllcyEiLCJkZXNjcmlwdGk= (truncated)",
         "streaming-124f98f775af-pin",
         "shardId-000000000002",
         "49655440148212112345281612332167894077732970439901184034",
         "2024-09-27T09:53:41.781+0000"
        ],
        [
         "partition-key",
         "eyJpbmRleCI6MjQxMSwidW5pcXVlX2lkIjoiNGUxMTgwMWUtN2E2NC00ZjFlLTkwZGQtZTkwMDY3NzU5NWM1IiwidGl0bGUiOiJUaGUgU3dlZXRlc3QgR2luZ2VyYnJlYWQgSG91c2UgT3JuYW1lbnRzIEtpZHMgQ2FuIE1ha2U= (truncated)",
         "streaming-124f98f775af-pin",
         "shardId-000000000002",
         "49655440148212112345281612334186800196489401230379974690",
         "2024-09-27T09:53:43.968+0000"
        ],
        [
         "partition-key",
         "eyJpbmRleCI6OTU5MCwidW5pcXVlX2lkIjoiYjg0OWU5NzYtNTJmNi00NWQ3LThiMjUtNTE1NTkzMThmMTY3IiwidGl0bGUiOiJUb3AgMjAgVGhpbmdzIFRvIFNlZSBBbmQgRG8gSW4gSXJlbGFuZCIsImRlc2NyaXB0aW9uIjo= (truncated)",
         "streaming-124f98f775af-pin",
         "shardId-000000000002",
         "49655440148212112345281612335295385173076016252305014818",
         "2024-09-27T09:53:45.193+0000"
        ],
        [
         "partition-key",
         "eyJpbmRleCI6MjY5OCwidW5pcXVlX2lkIjoiNzNmMTYzMDItNDg3MS00ODZhLTg4MzYtOTQ3NTMwNTI2MzM3IiwidGl0bGUiOiJESVkgRG9sbGFyIFRyZWUgVmFsZW50aW5lJ3MgRGF5IFdyZWF0aCIsImRlc2NyaXB0aW9uIjo= (truncated)",
         "streaming-124f98f775af-pin",
         "shardId-000000000002",
         "49655440148212112345281612337558494307394602273513406498",
         "2024-09-27T09:53:47.440+0000"
        ],
        [
         "partition-key",
         "eyJpbmRleCI6NDUwOCwidW5pcXVlX2lkIjoiOTA2NGY0YTItMjc1My00NzZjLTgxNWUtZGIzNjBmNDVhOTNlIiwidGl0bGUiOiJDdXN0b20gRXZlbnQgYW5kIFNob3AgTmVvbiBTaWduIExpZ2h0cyAtIEV2ZW50ICYgU2hvcCI= (truncated)",
         "streaming-124f98f775af-pin",
         "shardId-000000000002",
         "49655440148212112345281612338751704091354241337667878946",
         "2024-09-27T09:53:48.693+0000"
        ],
        [
         "partition-key",
         "eyJpbmRleCI6ODMxLCJ1bmlxdWVfaWQiOiI1ZTY1OTE0ZC05ZjU4LTRmZjEtOTY3Ni02NThlNDI2ZThjZTUiLCJ0aXRsZSI6ImNyZWF0aW5nIG1peGVkLW1lZGlhIGZhY2VzIHR1dG9yaWFsIiwiZGVzY3JpcHRpb24iOiJGcmU= (truncated)",
         "streaming-124f98f775af-pin",
         "shardId-000000000002",
         "49655440148212112345281612340135924154812991880145403938",
         "2024-09-27T09:53:50.036+0000"
        ],
        [
         "partition-key",
         "eyJpbmRleCI6NTA3NiwidW5pcXVlX2lkIjoiZmEzYWYyOWMtZGM3OC00ZWVkLWE0YzUtNTJhNDA3ZWEwNGMwIiwidGl0bGUiOiJRdWl6OiBUZXN0IFlvdXIgRXZlbnQgSVEhIC0gUG9pbnRlcnMgRm9yIFBsYW5uZXJzIiwiZGU= (truncated)",
         "streaming-124f98f775af-pin",
         "shardId-000000000002",
         "49655440148212112345281612341326716087133401685950464034",
         "2024-09-27T09:53:51.244+0000"
        ],
        [
         "partition-key",
         "eyJpbmRleCI6MTA2NjMsInVuaXF1ZV9pZCI6ImQ1MjA4YzE2LTgyYWUtNGZkMS04N2YwLTM2ZTVlZjc4OTQxMiIsInRpdGxlIjoiMjErIENsYXNzaWMgQ2FyIFBpY3R1cmUgb2YgdGhlIDE5NTBzIC0gVmludGFnZXRvcGlhIiw= (truncated)",
         "streaming-124f98f775af-pin",
         "shardId-000000000002",
         "49655440148212112345281612342613013159203367196557312034",
         "2024-09-27T09:53:52.521+0000"
        ],
        [
         "partition-key",
         "eyJpbmRleCI6NTQ2OCwidW5pcXVlX2lkIjoiOTFlZTQ5ZjYtMDA3MC00MjcwLWJhMTktZmRlODhiYTUxYzkxIiwidGl0bGUiOiJCdWRnZXRzLCBTcG91c2VzICYgTWFraW5nIEl0IFdvcmshIC0gVHNoYW5pbmEgUGV0ZXJzb24= (truncated)",
         "streaming-124f98f775af-pin",
         "shardId-000000000002",
         "49655440148212112345281612344766110043937021894147964962",
         "2024-09-27T09:53:54.776+0000"
        ],
        [
         "partition-key",
         "eyJpbmRleCI6MjA1LCJ1bmlxdWVfaWQiOiJmNGFmZDU0My1iOWZlLTQ0YzMtODA2NC1mMjE5OGZhYTEzNzIiLCJ0aXRsZSI6IkRJWSBBYnN0cmFjdCBIZWFydCBQYWludGluZyBhbmQgYSBGdW4gUGFpbnQgUGFydHkiLCJkZXM= (truncated)",
         "streaming-124f98f775af-pin",
         "shardId-000000000002",
         "49655440148212112345281612347109008282350173440886964258",
         "2024-09-27T09:53:57.082+0000"
        ],
        [
         "partition-key",
         "eyJpbmRleCI6Nzc5MCwidW5pcXVlX2lkIjoiOWNkODlmYjktZDFhZi00ZTY2LTg1Y2EtYzlkNjU2YzkxOGI0IiwidGl0bGUiOiI1MCBIZWFydCBUb3VjaGluZyBTYWQgUXVvdGVzIFRoYXQgV2lsbCBNYWtlIFlvdSBDcnkiLCI= (truncated)",
         "streaming-124f98f775af-pin",
         "shardId-000000000002",
         "49655440148212112345281612348437617758106650903889051682",
         "2024-09-27T09:53:58.388+0000"
        ],
        [
         "partition-key",
         "eyJpbmRleCI6ODYwNiwidW5pcXVlX2lkIjoiNzE3NTcwNDAtYmZjOC00NjMxLTljYWMtMjI4MDFlNjFkOWUzIiwidGl0bGUiOiIzMCsgRWFnbGUgVGF0dG9vcyBJZGVhcyBmb3IgV29tZW4iLCJkZXNjcmlwdGlvbiI6InN1bW0= (truncated)",
         "streaming-124f98f775af-pin",
         "shardId-000000000002",
         "49655440148212112345281612349687647055588177539254714402",
         "2024-09-27T09:53:59.716+0000"
        ],
        [
         "partition-key",
         "eyJpbmRleCI6OTc1OSwidW5pcXVlX2lkIjoiZDEwNWViNmUtMGY5Zi00NmU3LThkMDItZDI0YjYyZjZhZTkwIiwidGl0bGUiOiI4IEJlc3QgR3JlZWsgSXNsYW5kcyBZb3UgSGF2ZSBUbyBWaXNpdCAtIFRoZUZhYjIwcyIsImQ= (truncated)",
         "streaming-124f98f775af-pin",
         "shardId-000000000002",
         "49655440148212112345281612350907453207579338582691676194",
         "2024-09-27T09:54:00.984+0000"
        ],
        [
         "partition-key",
         "eyJpbmRleCI6NzE5LCJ1bmlxdWVfaWQiOiJkN2M1M2UzNC05NTQwLTRmNDgtYTMxYi04OWI2ZWQxODUyYmIiLCJ0aXRsZSI6IjEwIEFydCBTdWIgTGVzc29ucyB0aGF0IG9ubHkgbmVlZCBhIFBlbmNpbCIsImRlc2NyaXB0aW8= (truncated)",
         "streaming-124f98f775af-pin",
         "shardId-000000000002",
         "49655440148212112345281612352039007774738631558936133666",
         "2024-09-27T09:54:02.198+0000"
        ],
        [
         "partition-key",
         "eyJpbmRleCI6MTcwNCwidW5pcXVlX2lkIjoiNWZiZjk4NjMtZmI3OS00NzdjLWE1YjYtNTQwYzMwMjBhNTVmIiwidGl0bGUiOiJDaHJpc3RtYXMgVHJlZXMgRnJvbSBQYWxsZXQgV29vZCB8IEhvbGlkYXkgRElZIiwiZGVzY3I= (truncated)",
         "streaming-124f98f775af-pin",
         "shardId-000000000002",
         "49655440148212112345281612354248924172994173827737976866",
         "2024-09-27T09:54:04.422+0000"
        ],
        [
         "partition-key",
         "eyJpbmRleCI6MjQ4MiwidW5pcXVlX2lkIjoiMDg2MDRmMjAtZmExNy00YjlhLTk5NDktNzgxNzE3ZWNhNmNkIiwidGl0bGUiOiJGT1JOVCBQT1JDSCBDSFJJU1RNQVMgREVDT1JBVElORyBJREVBUyIsImRlc2NyaXB0aW9uIjo= (truncated)",
         "streaming-124f98f775af-pin",
         "shardId-000000000002",
         "49655440148212112345281612356366962208959004279262150690",
         "2024-09-27T09:54:06.674+0000"
        ],
        [
         "partition-key",
         "eyJpbmRleCI6ODkzMCwidW5pcXVlX2lkIjoiYTI5OTljMjgtZjdiMi00NTc3LWFmODctNDlkMjFkNmQ4YTE4IiwidGl0bGUiOiIxMzUgU3VuZmxvd2VyIFRhdHRvbyBJZGVhcyAtIFtCZXN0IFJhdGVkIERlc2lnbnMgaW4gMjA= (truncated)",
         "streaming-124f98f775af-pin",
         "shardId-000000000002",
         "49655440148212112345281612358546655461724180818696339490",
         "2024-09-27T09:54:08.987+0000"
        ],
        [
         "partition-key",
         "eyJpbmRleCI6NzI5NCwidW5pcXVlX2lkIjoiOWQ4NDA5ZWYtYmVhNy00MTMzLWEwMjEtYzU4YjljMDQyMjEwIiwidGl0bGUiOiJGb29scHJvb2YgRmFsbCBGYXNoaW9uIEZvciBNZW4gWW91J2xsIExvdmUiLCJkZXNjcmlwdGk= (truncated)",
         "streaming-124f98f775af-pin",
         "shardId-000000000002",
         "49655440148212112345281612359761625910436883276714999842",
         "2024-09-27T09:54:10.239+0000"
        ],
        [
         "partition-key",
         "eyJpbmRleCI6ODA4LCJ1bmlxdWVfaWQiOiIyM2Y2N2U0Mi1kYjlmLTRhYWUtOGI4Mi1jYmVjNjRhZDlmNGQiLCJ0aXRsZSI6IkNoYWxrIFBhc3RlbCBIb3QgQ2hvY29sYXRlIEFydCBQcm9qZWN0IiwiZGVzY3JpcHRpb24iOiI= (truncated)",
         "streaming-124f98f775af-pin",
         "shardId-000000000002",
         "49655440148212112345281612360975387433329971036839477282",
         "2024-09-27T09:54:11.487+0000"
        ],
        [
         "partition-key",
         "eyJpbmRleCI6NzcxLCJ1bmlxdWVfaWQiOiJhNTAyMTc2Ni1hOGFhLTRkYzctOTg1Ny00ZGE2YjhlM2RjMWEiLCJ0aXRsZSI6IkFmcmljYW4gU3Vuc2V0IFNoYWRvdyBUcmFjaW5nIEFydCAtIFRhbWluZyBMaXR0bGUgTW9uc3Q= (truncated)",
         "streaming-124f98f775af-pin",
         "shardId-000000000002",
         "49655440148212112345281612363181677054126669418117201954",
         "2024-09-27T09:54:13.769+0000"
        ]
       ],
       "datasetInfos": [],
       "dbfsResultPath": null,
       "isJsonSchema": true,
       "metadata": {},
       "overflow": false,
       "plotOptions": {
        "customPlotOptions": {},
        "displayType": "table",
        "pivotAggregation": null,
        "pivotColumns": null,
        "xColumns": null,
        "yColumns": null
       },
       "removedWidgets": [],
       "schema": [
        {
         "metadata": "{}",
         "name": "partitionKey",
         "type": "\"string\""
        },
        {
         "metadata": "{}",
         "name": "data",
         "type": "\"binary\""
        },
        {
         "metadata": "{}",
         "name": "stream",
         "type": "\"string\""
        },
        {
         "metadata": "{}",
         "name": "shardId",
         "type": "\"string\""
        },
        {
         "metadata": "{}",
         "name": "sequenceNumber",
         "type": "\"string\""
        },
        {
         "metadata": "{}",
         "name": "approximateArrivalTimestamp",
         "type": "\"timestamp\""
        }
       ],
       "type": "table"
      }
     },
     "output_type": "display_data"
    }
   ],
   "source": [
    "display(df_pin)"
   ]
  },
  {
   "cell_type": "code",
   "execution_count": 0,
   "metadata": {
    "application/vnd.databricks.v1+cell": {
     "cellMetadata": {
      "byteLimit": 2048000,
      "rowLimit": 10000
     },
     "inputWidgets": {},
     "nuid": "9a0eacde-87a4-4e53-9701-17bec7539504",
     "showTitle": false,
     "title": ""
    }
   },
   "outputs": [
    {
     "output_type": "display_data",
     "data": {
      "text/html": [
       "<style scoped>\n",
       "  .ansiout {\n",
       "    display: block;\n",
       "    unicode-bidi: embed;\n",
       "    white-space: pre-wrap;\n",
       "    word-wrap: break-word;\n",
       "    word-break: break-all;\n",
       "    font-family: \"Menlo\", \"Monaco\", \"Consolas\", \"Ubuntu Mono\", \"Source Code Pro\", monospace;\n",
       "    font-size: 13px;\n",
       "    color: #555;\n",
       "    margin-left: 4px;\n",
       "    line-height: 19px;\n",
       "  }\n",
       "</style>\n",
       "<div class=\"ansiout\"></div>"
      ]
     },
     "metadata": {
      "application/vnd.databricks.v1+output": {
       "addedWidgets": {},
       "arguments": {},
       "data": "<div class=\"ansiout\"></div>",
       "datasetInfos": [],
       "metadata": {},
       "removedWidgets": [],
       "type": "html"
      }
     },
     "output_type": "display_data"
    }
   ],
   "source": [
    "df_user = spark \\\n",
    ".readStream \\\n",
    ".format('kinesis') \\\n",
    ".option('streamName','streaming-124f98f775af-user') \\\n",
    ".option('initialPosition','earliest') \\\n",
    ".option('region','us-east-1') \\\n",
    ".option('awsAccessKey', ACCESS_KEY) \\\n",
    ".option('awsSecretKey', SECRET_KEY) \\\n",
    ".load()"
   ]
  },
  {
   "cell_type": "code",
   "execution_count": 0,
   "metadata": {
    "application/vnd.databricks.v1+cell": {
     "cellMetadata": {
      "byteLimit": 2048000,
      "rowLimit": 10000
     },
     "inputWidgets": {},
     "nuid": "c9f3140c-1fc3-445a-bbe9-21670a6bdbef",
     "showTitle": false,
     "title": ""
    }
   },
   "outputs": [
    {
     "output_type": "display_data",
     "data": {
      "text/html": [
       "<style scoped>\n",
       "  .ansiout {\n",
       "    display: block;\n",
       "    unicode-bidi: embed;\n",
       "    white-space: pre-wrap;\n",
       "    word-wrap: break-word;\n",
       "    word-break: break-all;\n",
       "    font-family: \"Menlo\", \"Monaco\", \"Consolas\", \"Ubuntu Mono\", \"Source Code Pro\", monospace;\n",
       "    font-size: 13px;\n",
       "    color: #555;\n",
       "    margin-left: 4px;\n",
       "    line-height: 19px;\n",
       "  }\n",
       "</style>\n",
       "<div class=\"ansiout\"></div>"
      ]
     },
     "metadata": {
      "application/vnd.databricks.v1+output": {
       "addedWidgets": {},
       "arguments": {},
       "data": "<div class=\"ansiout\"></div>",
       "datasetInfos": [],
       "metadata": {},
       "removedWidgets": [],
       "type": "html"
      }
     },
     "output_type": "display_data"
    }
   ],
   "source": [
    "df_geo = spark \\\n",
    ".readStream \\\n",
    ".format('kinesis') \\\n",
    ".option('streamName','streaming-124f98f775af-geo') \\\n",
    ".option('initialPosition','earliest') \\\n",
    ".option('region','us-east-1') \\\n",
    ".option('awsAccessKey', ACCESS_KEY) \\\n",
    ".option('awsSecretKey', SECRET_KEY) \\\n",
    ".load()\n",
    "\n"
   ]
  },
  {
   "cell_type": "code",
   "execution_count": 0,
   "metadata": {
    "application/vnd.databricks.v1+cell": {
     "cellMetadata": {
      "byteLimit": 2048000,
      "rowLimit": 10000
     },
     "inputWidgets": {},
     "nuid": "3e27e655-1249-4cb3-839d-7acc63208b3b",
     "showTitle": false,
     "title": ""
    }
   },
   "outputs": [
    {
     "output_type": "display_data",
     "data": {
      "text/html": [
       "<style scoped>\n",
       "  .ansiout {\n",
       "    display: block;\n",
       "    unicode-bidi: embed;\n",
       "    white-space: pre-wrap;\n",
       "    word-wrap: break-word;\n",
       "    word-break: break-all;\n",
       "    font-family: \"Menlo\", \"Monaco\", \"Consolas\", \"Ubuntu Mono\", \"Source Code Pro\", monospace;\n",
       "    font-size: 13px;\n",
       "    color: #555;\n",
       "    margin-left: 4px;\n",
       "    line-height: 19px;\n",
       "  }\n",
       "</style>\n",
       "<div class=\"ansiout\"></div>"
      ]
     },
     "metadata": {
      "application/vnd.databricks.v1+output": {
       "addedWidgets": {},
       "arguments": {},
       "data": "<div class=\"ansiout\"></div>",
       "datasetInfos": [],
       "metadata": {},
       "removedWidgets": [],
       "type": "html"
      }
     },
     "output_type": "display_data"
    }
   ],
   "source": [
    "df_geo = df_geo.selectExpr(\"CAST(data as STRING)\")"
   ]
  },
  {
   "cell_type": "code",
   "execution_count": 0,
   "metadata": {
    "application/vnd.databricks.v1+cell": {
     "cellMetadata": {
      "byteLimit": 2048000,
      "rowLimit": 10000
     },
     "inputWidgets": {},
     "nuid": "86896f66-ce29-4b93-b9f0-ea6568c1435e",
     "showTitle": false,
     "title": ""
    }
   },
   "outputs": [
    {
     "output_type": "display_data",
     "data": {
      "text/html": [
       "<style scoped>\n",
       "  .table-result-container {\n",
       "    max-height: 300px;\n",
       "    overflow: auto;\n",
       "  }\n",
       "  table, th, td {\n",
       "    border: 1px solid black;\n",
       "    border-collapse: collapse;\n",
       "  }\n",
       "  th, td {\n",
       "    padding: 5px;\n",
       "  }\n",
       "  th {\n",
       "    text-align: left;\n",
       "  }\n",
       "</style><div class='table-result-container'><table class='table-result'><thead style='background-color: white'><tr><th>data</th></tr></thead><tbody><tr><td>{\"ind\":7528,\"timestamp\":\"2020-08-28T03:52:47\",\"latitude\":-89.9787,\"longitude\":-173.293,\"country\":\"Albania\"}</td></tr><tr><td>{\"ind\":2863,\"timestamp\":\"2020-04-27T13:34:16\",\"latitude\":-5.34445,\"longitude\":-177.924,\"country\":\"Armenia\"}</td></tr><tr><td>{\"ind\":5730,\"timestamp\":\"2021-04-19T17:37:03\",\"latitude\":-77.015,\"longitude\":-101.437,\"country\":\"Colombia\"}</td></tr><tr><td>{\"ind\":8304,\"timestamp\":\"2019-09-13T04:50:29\",\"latitude\":-28.8852,\"longitude\":-164.87,\"country\":\"French Guiana\"}</td></tr><tr><td>{\"ind\":8731,\"timestamp\":\"2020-07-17T04:39:09\",\"latitude\":-83.104,\"longitude\":-171.302,\"country\":\"Aruba\"}</td></tr><tr><td>{\"ind\":1313,\"timestamp\":\"2018-06-26T02:39:25\",\"latitude\":77.0447,\"longitude\":61.9119,\"country\":\"Maldives\"}</td></tr><tr><td>{\"ind\":4315,\"timestamp\":\"2019-12-15T03:51:28\",\"latitude\":-45.8508,\"longitude\":66.1003,\"country\":\"Cote d'Ivoire\"}</td></tr><tr><td>{\"ind\":10794,\"timestamp\":\"2022-01-01T02:26:50\",\"latitude\":-89.5236,\"longitude\":-154.567,\"country\":\"Cocos (Keeling) Islands\"}</td></tr><tr><td>{\"ind\":5494,\"timestamp\":\"2021-07-21T02:02:35\",\"latitude\":-82.6768,\"longitude\":-129.202,\"country\":\"Bulgaria\"}</td></tr><tr><td>{\"ind\":5069,\"timestamp\":\"2021-03-20T09:32:44\",\"latitude\":-63.0063,\"longitude\":-157.474,\"country\":\"Azerbaijan\"}</td></tr><tr><td>{\"ind\":2923,\"timestamp\":\"2019-09-08T22:53:09\",\"latitude\":-84.6302,\"longitude\":-164.507,\"country\":\"Cote d'Ivoire\"}</td></tr><tr><td>{\"ind\":3089,\"timestamp\":\"2018-02-28T05:31:29\",\"latitude\":-89.9787,\"longitude\":-173.293,\"country\":\"Albania\"}</td></tr><tr><td>{\"ind\":6063,\"timestamp\":\"2021-07-20T09:02:47\",\"latitude\":-89.1797,\"longitude\":-174.015,\"country\":\"Anguilla\"}</td></tr><tr><td>{\"ind\":3454,\"timestamp\":\"2021-07-25T02:20:29\",\"latitude\":-0.375174,\"longitude\":49.8106,\"country\":\"Cambodia\"}</td></tr><tr><td>{\"ind\":7554,\"timestamp\":\"2019-03-20T03:15:07\",\"latitude\":-51.2172,\"longitude\":-77.9768,\"country\":\"Sudan\"}</td></tr><tr><td>{\"ind\":6145,\"timestamp\":\"2019-12-05T02:09:44\",\"latitude\":-65.9079,\"longitude\":-143.845,\"country\":\"Mozambique\"}</td></tr><tr><td>{\"ind\":10625,\"timestamp\":\"2018-07-13T11:51:15\",\"latitude\":-84.4944,\"longitude\":-81.0613,\"country\":\"Jamaica\"}</td></tr><tr><td>{\"ind\":2959,\"timestamp\":\"2019-08-19T08:22:02\",\"latitude\":-68.0095,\"longitude\":-157.227,\"country\":\"Angola\"}</td></tr><tr><td>{\"ind\":9875,\"timestamp\":\"2020-03-20T13:03:18\",\"latitude\":-74.3382,\"longitude\":-110.484,\"country\":\"Barbados\"}</td></tr><tr><td>{\"ind\":2418,\"timestamp\":\"2022-05-27T11:30:59\",\"latitude\":-88.4642,\"longitude\":-171.061,\"country\":\"Antarctica (the territory South of 60 deg S)\"}</td></tr><tr><td>{\"ind\":3156,\"timestamp\":\"2018-01-13T19:33:49\",\"latitude\":-84.738,\"longitude\":-160.795,\"country\":\"Armenia\"}</td></tr><tr><td>{\"ind\":428,\"timestamp\":\"2020-09-27T18:46:41\",\"latitude\":-83.4105,\"longitude\":-150.788,\"country\":\"Bangladesh\"}</td></tr><tr><td>{\"ind\":7343,\"timestamp\":\"2018-08-06T12:17:07\",\"latitude\":-65.4428,\"longitude\":-161.684,\"country\":\"Australia\"}</td></tr><tr><td>{\"ind\":2074,\"timestamp\":\"2019-11-03T05:41:59\",\"latitude\":-52.3213,\"longitude\":-50.11,\"country\":\"Central African Republic\"}</td></tr><tr><td>{\"ind\":9979,\"timestamp\":\"2018-07-18T19:01:46\",\"latitude\":14.9967,\"longitude\":-120.682,\"country\":\"Dominican Republic\"}</td></tr><tr><td>{\"ind\":10138,\"timestamp\":\"2019-08-03T00:59:29\",\"latitude\":-72.142,\"longitude\":-74.3545,\"country\":\"Austria\"}</td></tr><tr><td>{\"ind\":9672,\"timestamp\":\"2019-11-03T13:15:52\",\"latitude\":79.4658,\"longitude\":-69.4133,\"country\":\"India\"}</td></tr><tr><td>{\"ind\":8653,\"timestamp\":\"2022-04-11T18:30:19\",\"latitude\":48.4569,\"longitude\":-139.658,\"country\":\"Seychelles\"}</td></tr><tr><td>{\"ind\":8887,\"timestamp\":\"2021-09-19T05:27:43\",\"latitude\":-28.0137,\"longitude\":-160.708,\"country\":\"Botswana\"}</td></tr><tr><td>{\"ind\":7922,\"timestamp\":\"2021-01-27T09:14:19\",\"latitude\":-88.0974,\"longitude\":-172.052,\"country\":\"Antigua and Barbuda\"}</td></tr><tr><td>{\"ind\":1014,\"timestamp\":\"2022-02-03T22:05:34\",\"latitude\":81.1477,\"longitude\":69.3538,\"country\":\"Tonga\"}</td></tr><tr><td>{\"ind\":4913,\"timestamp\":\"2019-03-08T06:45:39\",\"latitude\":-84.3768,\"longitude\":-157.544,\"country\":\"Aruba\"}</td></tr><tr><td>{\"ind\":4137,\"timestamp\":\"2019-06-23T22:16:34\",\"latitude\":-55.3079,\"longitude\":108.918,\"country\":\"Australia\"}</td></tr><tr><td>{\"ind\":7166,\"timestamp\":\"2022-07-25T03:07:37\",\"latitude\":-86.4063,\"longitude\":-136.657,\"country\":\"Aruba\"}</td></tr><tr><td>{\"ind\":9546,\"timestamp\":\"2018-02-10T06:16:40\",\"latitude\":-70.0295,\"longitude\":-155.428,\"country\":\"Austria\"}</td></tr><tr><td>{\"ind\":2411,\"timestamp\":\"2020-11-15T17:10:07\",\"latitude\":-71.6856,\"longitude\":-179.126,\"country\":\"Albania\"}</td></tr><tr><td>{\"ind\":9590,\"timestamp\":\"2019-05-20T19:48:48\",\"latitude\":-64.3876,\"longitude\":-174.281,\"country\":\"Algeria\"}</td></tr><tr><td>{\"ind\":2698,\"timestamp\":\"2021-11-24T08:33:51\",\"latitude\":-72.7174,\"longitude\":24.169,\"country\":\"Egypt\"}</td></tr><tr><td>{\"ind\":4508,\"timestamp\":\"2019-01-04T11:15:27\",\"latitude\":69.1858,\"longitude\":-76.0761,\"country\":\"Philippines\"}</td></tr><tr><td>{\"ind\":831,\"timestamp\":\"2021-06-23T23:16:10\",\"latitude\":-43.7816,\"longitude\":-66.1592,\"country\":\"Congo\"}</td></tr><tr><td>{\"ind\":5076,\"timestamp\":\"2019-05-05T16:22:23\",\"latitude\":-70.7195,\"longitude\":-91.1935,\"country\":\"Germany\"}</td></tr><tr><td>{\"ind\":10663,\"timestamp\":\"2019-07-25T18:53:51\",\"latitude\":-27.3474,\"longitude\":-162.83,\"country\":\"Saint Kitts and Nevis\"}</td></tr><tr><td>{\"ind\":5468,\"timestamp\":\"2020-05-16T23:17:50\",\"latitude\":-83.544,\"longitude\":33.9473,\"country\":\"Isle of Man\"}</td></tr><tr><td>{\"ind\":205,\"timestamp\":\"2020-07-08T14:10:38\",\"latitude\":-75.8378,\"longitude\":-163.945,\"country\":\"Barbados\"}</td></tr><tr><td>{\"ind\":7790,\"timestamp\":\"2018-07-31T08:19:15\",\"latitude\":-43.692,\"longitude\":64.9839,\"country\":\"Papua New Guinea\"}</td></tr><tr><td>{\"ind\":8606,\"timestamp\":\"2021-03-28T14:54:07\",\"latitude\":-88.0974,\"longitude\":-172.052,\"country\":\"Antigua and Barbuda\"}</td></tr><tr><td>{\"ind\":9759,\"timestamp\":\"2017-12-30T13:05:49\",\"latitude\":-77.9744,\"longitude\":-106.258,\"country\":\"American Samoa\"}</td></tr><tr><td>{\"ind\":719,\"timestamp\":\"2018-10-29T04:05:12\",\"latitude\":-38.4062,\"longitude\":-154.323,\"country\":\"Armenia\"}</td></tr><tr><td>{\"ind\":1704,\"timestamp\":\"2018-11-29T04:46:39\",\"latitude\":-56.8702,\"longitude\":-93.6232,\"country\":\"Christmas Island\"}</td></tr><tr><td>{\"ind\":2482,\"timestamp\":\"2019-09-13T08:20:13\",\"latitude\":63.4563,\"longitude\":-164.709,\"country\":\"Bermuda\"}</td></tr><tr><td>{\"ind\":8930,\"timestamp\":\"2021-09-29T13:25:49\",\"latitude\":-89.4739,\"longitude\":-176.154,\"country\":\"Argentina\"}</td></tr><tr><td>{\"ind\":7294,\"timestamp\":\"2018-02-12T08:06:28\",\"latitude\":-76.2967,\"longitude\":-136.501,\"country\":\"Australia\"}</td></tr><tr><td>{\"ind\":808,\"timestamp\":\"2019-01-03T15:43:12\",\"latitude\":-71.6856,\"longitude\":-179.126,\"country\":\"Albania\"}</td></tr><tr><td>{\"ind\":771,\"timestamp\":\"2018-06-21T08:42:57\",\"latitude\":-29.1712,\"longitude\":-107.111,\"country\":\"Montserrat\"}</td></tr></tbody></table></div>"
      ]
     },
     "metadata": {
      "application/vnd.databricks.v1+output": {
       "addedWidgets": {},
       "aggData": [],
       "aggError": "",
       "aggOverflow": false,
       "aggSchema": [],
       "aggSeriesLimitReached": false,
       "aggType": "",
       "arguments": {},
       "columnCustomDisplayInfos": {},
       "data": [
        [
         "{\"ind\":7528,\"timestamp\":\"2020-08-28T03:52:47\",\"latitude\":-89.9787,\"longitude\":-173.293,\"country\":\"Albania\"}"
        ],
        [
         "{\"ind\":2863,\"timestamp\":\"2020-04-27T13:34:16\",\"latitude\":-5.34445,\"longitude\":-177.924,\"country\":\"Armenia\"}"
        ],
        [
         "{\"ind\":5730,\"timestamp\":\"2021-04-19T17:37:03\",\"latitude\":-77.015,\"longitude\":-101.437,\"country\":\"Colombia\"}"
        ],
        [
         "{\"ind\":8304,\"timestamp\":\"2019-09-13T04:50:29\",\"latitude\":-28.8852,\"longitude\":-164.87,\"country\":\"French Guiana\"}"
        ],
        [
         "{\"ind\":8731,\"timestamp\":\"2020-07-17T04:39:09\",\"latitude\":-83.104,\"longitude\":-171.302,\"country\":\"Aruba\"}"
        ],
        [
         "{\"ind\":1313,\"timestamp\":\"2018-06-26T02:39:25\",\"latitude\":77.0447,\"longitude\":61.9119,\"country\":\"Maldives\"}"
        ],
        [
         "{\"ind\":4315,\"timestamp\":\"2019-12-15T03:51:28\",\"latitude\":-45.8508,\"longitude\":66.1003,\"country\":\"Cote d'Ivoire\"}"
        ],
        [
         "{\"ind\":10794,\"timestamp\":\"2022-01-01T02:26:50\",\"latitude\":-89.5236,\"longitude\":-154.567,\"country\":\"Cocos (Keeling) Islands\"}"
        ],
        [
         "{\"ind\":5494,\"timestamp\":\"2021-07-21T02:02:35\",\"latitude\":-82.6768,\"longitude\":-129.202,\"country\":\"Bulgaria\"}"
        ],
        [
         "{\"ind\":5069,\"timestamp\":\"2021-03-20T09:32:44\",\"latitude\":-63.0063,\"longitude\":-157.474,\"country\":\"Azerbaijan\"}"
        ],
        [
         "{\"ind\":2923,\"timestamp\":\"2019-09-08T22:53:09\",\"latitude\":-84.6302,\"longitude\":-164.507,\"country\":\"Cote d'Ivoire\"}"
        ],
        [
         "{\"ind\":3089,\"timestamp\":\"2018-02-28T05:31:29\",\"latitude\":-89.9787,\"longitude\":-173.293,\"country\":\"Albania\"}"
        ],
        [
         "{\"ind\":6063,\"timestamp\":\"2021-07-20T09:02:47\",\"latitude\":-89.1797,\"longitude\":-174.015,\"country\":\"Anguilla\"}"
        ],
        [
         "{\"ind\":3454,\"timestamp\":\"2021-07-25T02:20:29\",\"latitude\":-0.375174,\"longitude\":49.8106,\"country\":\"Cambodia\"}"
        ],
        [
         "{\"ind\":7554,\"timestamp\":\"2019-03-20T03:15:07\",\"latitude\":-51.2172,\"longitude\":-77.9768,\"country\":\"Sudan\"}"
        ],
        [
         "{\"ind\":6145,\"timestamp\":\"2019-12-05T02:09:44\",\"latitude\":-65.9079,\"longitude\":-143.845,\"country\":\"Mozambique\"}"
        ],
        [
         "{\"ind\":10625,\"timestamp\":\"2018-07-13T11:51:15\",\"latitude\":-84.4944,\"longitude\":-81.0613,\"country\":\"Jamaica\"}"
        ],
        [
         "{\"ind\":2959,\"timestamp\":\"2019-08-19T08:22:02\",\"latitude\":-68.0095,\"longitude\":-157.227,\"country\":\"Angola\"}"
        ],
        [
         "{\"ind\":9875,\"timestamp\":\"2020-03-20T13:03:18\",\"latitude\":-74.3382,\"longitude\":-110.484,\"country\":\"Barbados\"}"
        ],
        [
         "{\"ind\":2418,\"timestamp\":\"2022-05-27T11:30:59\",\"latitude\":-88.4642,\"longitude\":-171.061,\"country\":\"Antarctica (the territory South of 60 deg S)\"}"
        ],
        [
         "{\"ind\":3156,\"timestamp\":\"2018-01-13T19:33:49\",\"latitude\":-84.738,\"longitude\":-160.795,\"country\":\"Armenia\"}"
        ],
        [
         "{\"ind\":428,\"timestamp\":\"2020-09-27T18:46:41\",\"latitude\":-83.4105,\"longitude\":-150.788,\"country\":\"Bangladesh\"}"
        ],
        [
         "{\"ind\":7343,\"timestamp\":\"2018-08-06T12:17:07\",\"latitude\":-65.4428,\"longitude\":-161.684,\"country\":\"Australia\"}"
        ],
        [
         "{\"ind\":2074,\"timestamp\":\"2019-11-03T05:41:59\",\"latitude\":-52.3213,\"longitude\":-50.11,\"country\":\"Central African Republic\"}"
        ],
        [
         "{\"ind\":9979,\"timestamp\":\"2018-07-18T19:01:46\",\"latitude\":14.9967,\"longitude\":-120.682,\"country\":\"Dominican Republic\"}"
        ],
        [
         "{\"ind\":10138,\"timestamp\":\"2019-08-03T00:59:29\",\"latitude\":-72.142,\"longitude\":-74.3545,\"country\":\"Austria\"}"
        ],
        [
         "{\"ind\":9672,\"timestamp\":\"2019-11-03T13:15:52\",\"latitude\":79.4658,\"longitude\":-69.4133,\"country\":\"India\"}"
        ],
        [
         "{\"ind\":8653,\"timestamp\":\"2022-04-11T18:30:19\",\"latitude\":48.4569,\"longitude\":-139.658,\"country\":\"Seychelles\"}"
        ],
        [
         "{\"ind\":8887,\"timestamp\":\"2021-09-19T05:27:43\",\"latitude\":-28.0137,\"longitude\":-160.708,\"country\":\"Botswana\"}"
        ],
        [
         "{\"ind\":7922,\"timestamp\":\"2021-01-27T09:14:19\",\"latitude\":-88.0974,\"longitude\":-172.052,\"country\":\"Antigua and Barbuda\"}"
        ],
        [
         "{\"ind\":1014,\"timestamp\":\"2022-02-03T22:05:34\",\"latitude\":81.1477,\"longitude\":69.3538,\"country\":\"Tonga\"}"
        ],
        [
         "{\"ind\":4913,\"timestamp\":\"2019-03-08T06:45:39\",\"latitude\":-84.3768,\"longitude\":-157.544,\"country\":\"Aruba\"}"
        ],
        [
         "{\"ind\":4137,\"timestamp\":\"2019-06-23T22:16:34\",\"latitude\":-55.3079,\"longitude\":108.918,\"country\":\"Australia\"}"
        ],
        [
         "{\"ind\":7166,\"timestamp\":\"2022-07-25T03:07:37\",\"latitude\":-86.4063,\"longitude\":-136.657,\"country\":\"Aruba\"}"
        ],
        [
         "{\"ind\":9546,\"timestamp\":\"2018-02-10T06:16:40\",\"latitude\":-70.0295,\"longitude\":-155.428,\"country\":\"Austria\"}"
        ],
        [
         "{\"ind\":2411,\"timestamp\":\"2020-11-15T17:10:07\",\"latitude\":-71.6856,\"longitude\":-179.126,\"country\":\"Albania\"}"
        ],
        [
         "{\"ind\":9590,\"timestamp\":\"2019-05-20T19:48:48\",\"latitude\":-64.3876,\"longitude\":-174.281,\"country\":\"Algeria\"}"
        ],
        [
         "{\"ind\":2698,\"timestamp\":\"2021-11-24T08:33:51\",\"latitude\":-72.7174,\"longitude\":24.169,\"country\":\"Egypt\"}"
        ],
        [
         "{\"ind\":4508,\"timestamp\":\"2019-01-04T11:15:27\",\"latitude\":69.1858,\"longitude\":-76.0761,\"country\":\"Philippines\"}"
        ],
        [
         "{\"ind\":831,\"timestamp\":\"2021-06-23T23:16:10\",\"latitude\":-43.7816,\"longitude\":-66.1592,\"country\":\"Congo\"}"
        ],
        [
         "{\"ind\":5076,\"timestamp\":\"2019-05-05T16:22:23\",\"latitude\":-70.7195,\"longitude\":-91.1935,\"country\":\"Germany\"}"
        ],
        [
         "{\"ind\":10663,\"timestamp\":\"2019-07-25T18:53:51\",\"latitude\":-27.3474,\"longitude\":-162.83,\"country\":\"Saint Kitts and Nevis\"}"
        ],
        [
         "{\"ind\":5468,\"timestamp\":\"2020-05-16T23:17:50\",\"latitude\":-83.544,\"longitude\":33.9473,\"country\":\"Isle of Man\"}"
        ],
        [
         "{\"ind\":205,\"timestamp\":\"2020-07-08T14:10:38\",\"latitude\":-75.8378,\"longitude\":-163.945,\"country\":\"Barbados\"}"
        ],
        [
         "{\"ind\":7790,\"timestamp\":\"2018-07-31T08:19:15\",\"latitude\":-43.692,\"longitude\":64.9839,\"country\":\"Papua New Guinea\"}"
        ],
        [
         "{\"ind\":8606,\"timestamp\":\"2021-03-28T14:54:07\",\"latitude\":-88.0974,\"longitude\":-172.052,\"country\":\"Antigua and Barbuda\"}"
        ],
        [
         "{\"ind\":9759,\"timestamp\":\"2017-12-30T13:05:49\",\"latitude\":-77.9744,\"longitude\":-106.258,\"country\":\"American Samoa\"}"
        ],
        [
         "{\"ind\":719,\"timestamp\":\"2018-10-29T04:05:12\",\"latitude\":-38.4062,\"longitude\":-154.323,\"country\":\"Armenia\"}"
        ],
        [
         "{\"ind\":1704,\"timestamp\":\"2018-11-29T04:46:39\",\"latitude\":-56.8702,\"longitude\":-93.6232,\"country\":\"Christmas Island\"}"
        ],
        [
         "{\"ind\":2482,\"timestamp\":\"2019-09-13T08:20:13\",\"latitude\":63.4563,\"longitude\":-164.709,\"country\":\"Bermuda\"}"
        ],
        [
         "{\"ind\":8930,\"timestamp\":\"2021-09-29T13:25:49\",\"latitude\":-89.4739,\"longitude\":-176.154,\"country\":\"Argentina\"}"
        ],
        [
         "{\"ind\":7294,\"timestamp\":\"2018-02-12T08:06:28\",\"latitude\":-76.2967,\"longitude\":-136.501,\"country\":\"Australia\"}"
        ],
        [
         "{\"ind\":808,\"timestamp\":\"2019-01-03T15:43:12\",\"latitude\":-71.6856,\"longitude\":-179.126,\"country\":\"Albania\"}"
        ],
        [
         "{\"ind\":771,\"timestamp\":\"2018-06-21T08:42:57\",\"latitude\":-29.1712,\"longitude\":-107.111,\"country\":\"Montserrat\"}"
        ]
       ],
       "datasetInfos": [],
       "dbfsResultPath": null,
       "isJsonSchema": true,
       "metadata": {
        "isDbfsCommandResult": false
       },
       "overflow": false,
       "plotOptions": {
        "customPlotOptions": {},
        "displayType": "table",
        "pivotAggregation": null,
        "pivotColumns": null,
        "xColumns": null,
        "yColumns": null
       },
       "removedWidgets": [],
       "schema": [
        {
         "metadata": "{}",
         "name": "data",
         "type": "\"string\""
        }
       ],
       "type": "table"
      }
     },
     "output_type": "display_data"
    }
   ],
   "source": [
    "display(df_geo)"
   ]
  },
  {
   "cell_type": "code",
   "execution_count": 0,
   "metadata": {
    "application/vnd.databricks.v1+cell": {
     "cellMetadata": {
      "byteLimit": 2048000,
      "rowLimit": 10000
     },
     "inputWidgets": {},
     "nuid": "42dc38dc-4898-452f-83c9-7c7e0788586a",
     "showTitle": false,
     "title": ""
    }
   },
   "outputs": [
    {
     "output_type": "display_data",
     "data": {
      "text/html": [
       "<style scoped>\n",
       "  .ansiout {\n",
       "    display: block;\n",
       "    unicode-bidi: embed;\n",
       "    white-space: pre-wrap;\n",
       "    word-wrap: break-word;\n",
       "    word-break: break-all;\n",
       "    font-family: \"Menlo\", \"Monaco\", \"Consolas\", \"Ubuntu Mono\", \"Source Code Pro\", monospace;\n",
       "    font-size: 13px;\n",
       "    color: #555;\n",
       "    margin-left: 4px;\n",
       "    line-height: 19px;\n",
       "  }\n",
       "</style>\n",
       "<div class=\"ansiout\"></div>"
      ]
     },
     "metadata": {
      "application/vnd.databricks.v1+output": {
       "addedWidgets": {},
       "arguments": {},
       "data": "<div class=\"ansiout\"></div>",
       "datasetInfos": [],
       "metadata": {},
       "removedWidgets": [],
       "type": "html"
      }
     },
     "output_type": "display_data"
    }
   ],
   "source": [
    "df_pin = df_pin.selectExpr(\"CAST(data as STRING)\")"
   ]
  },
  {
   "cell_type": "code",
   "execution_count": 0,
   "metadata": {
    "application/vnd.databricks.v1+cell": {
     "cellMetadata": {
      "byteLimit": 2048000,
      "rowLimit": 10000
     },
     "inputWidgets": {},
     "nuid": "29637827-23a6-4beb-98b5-4ae764051d94",
     "showTitle": false,
     "title": ""
    }
   },
   "outputs": [
    {
     "output_type": "display_data",
     "data": {
      "text/html": [
       "<style scoped>\n",
       "  .table-result-container {\n",
       "    max-height: 300px;\n",
       "    overflow: auto;\n",
       "  }\n",
       "  table, th, td {\n",
       "    border: 1px solid black;\n",
       "    border-collapse: collapse;\n",
       "  }\n",
       "  th, td {\n",
       "    padding: 5px;\n",
       "  }\n",
       "  th {\n",
       "    text-align: left;\n",
       "  }\n",
       "</style><div class='table-result-container'><table class='table-result'><thead style='background-color: white'><tr><th>data</th></tr></thead><tbody><tr><td>{\"index\":7528,\"unique_id\":\"fbe53c66-3442-4773-b19e-d3ec6f54dddf\",\"title\":\"No Title Data Available\",\"description\":\"No description available Story format\",\"poster_name\":\"User Info Error\",\"follower_count\":\"User Info Error\",\"tag_list\":\"N,o, ,T,a,g,s, ,A,v,a,i,l,a,b,l,e\",\"is_image_or_video\":\"multi-video(story page format)\",\"image_src\":\"Image src error.\",\"downloaded\":0,\"save_location\":\"Local save in /data/mens-fashion\",\"category\":\"mens-fashion\"}</td></tr><tr><td>{\"index\":2863,\"unique_id\":\"9bf39437-42a6-4f02-99a0-9a0383d8cd70\",\"title\":\"25 Super Fun Summer Crafts for Kids - Of Life and Lisa\",\"description\":\"Keep the kids busy this summer with these easy diy crafts and projects. Creative and…\",\"poster_name\":\"Of Life & Lisa | Lifestyle Blog\",\"follower_count\":\"124k\",\"tag_list\":\"Summer Crafts For Kids,Fun Crafts For Kids,Summer Kids,Toddler Crafts,Crafts To Do,Diy For Kids,Summer Snow,Diys For Summer,Craft Ideas For Girls\",\"is_image_or_video\":\"image\",\"image_src\":\"https://i.pinimg.com/originals/b3/bc/e2/b3bce2964e8c8975387b39660eed5f16.jpg\",\"downloaded\":1,\"save_location\":\"Local save in /data/diy-and-crafts\",\"category\":\"diy-and-crafts\"}</td></tr><tr><td>{\"index\":5730,\"unique_id\":\"1e1f0c8b-9fcf-460b-9154-c775827206eb\",\"title\":\"Island Oasis Coupon Organizer\",\"description\":\"Description Coupon Organizer in a fun colorful fabric -island oasis, Great Size for the \\\"basic\\\" couponer - holds up to 500 coupons with ease, and is made long enough so that you… \",\"poster_name\":\"Consuelo Aguirre\",\"follower_count\":\"0\",\"tag_list\":\"Grocery Items,Grocery Coupons,Care Organization,Coupon Organization,Extreme Couponing,Couponing 101,Life Binder,Save My Money,Love Coupons\",\"is_image_or_video\":\"image\",\"image_src\":\"https://i.pinimg.com/originals/65/bb/ea/65bbeaf458907bb079317d8303c4fa0e.jpg\",\"downloaded\":1,\"save_location\":\"Local save in /data/finance\",\"category\":\"finance\"}</td></tr><tr><td>{\"index\":8304,\"unique_id\":\"5b6d0913-25e4-43ab-839d-85d5516f78a4\",\"title\":\"The #1 Reason You’re Not His Priority Anymore - Matthew Coast\",\"description\":\"#lovequotes #matchmaker #matchmadeinheaven #loveyourself #respectyourself\",\"poster_name\":\"Commitment Connection\",\"follower_count\":\"51k\",\"tag_list\":\"Wise Quotes,Quotable Quotes,Words Quotes,Wise Words,Quotes To Live By,Great Quotes,Motivational Quotes,Inspirational Quotes,Funny Quotes\",\"is_image_or_video\":\"image\",\"image_src\":\"https://i.pinimg.com/originals/c6/64/ee/c664ee71524fb5a6e7b7b49233f93b43.png\",\"downloaded\":1,\"save_location\":\"Local save in /data/quotes\",\"category\":\"quotes\"}</td></tr><tr><td>{\"index\":8731,\"unique_id\":\"ea760f71-febf-4023-b592-d17396659039\",\"title\":\"20 Koi Fish Tattoos For Lucky Men\",\"description\":\"Koi fish tattoos are a popular choice for men who want to make a statement, thanks to their rich symbolism and bold design.\",\"poster_name\":\"TheTrendSpotter\",\"follower_count\":\"211k\",\"tag_list\":\"Dr Tattoo,Wörter Tattoos,Pisces Tattoos,Tatoo Art,Dream Tattoos,Dope Tattoos,Mini Tattoos,Finger Tattoos,Body Art Tattoos\",\"is_image_or_video\":\"image\",\"image_src\":\"https://i.pinimg.com/originals/8a/0c/0a/8a0c0a7b6236565c519acd41ad1a52c0.jpg\",\"downloaded\":1,\"save_location\":\"Local save in /data/tattoos\",\"category\":\"tattoos\"}</td></tr><tr><td>{\"index\":1313,\"unique_id\":\"44662045-e891-4821-8a19-ebe7eedd371a\",\"title\":\"Liquid Lash Extensions Mascara\",\"description\":\"Instantly create the look of lash extensions with this award-winning, best-selling mascara that won't clump, flake or smudge. Available in 3 shades!\",\"poster_name\":\"Thrive Causemetics\",\"follower_count\":\"43k\",\"tag_list\":\"N,o, ,T,a,g,s, ,A,v,a,i,l,a,b,l,e\",\"is_image_or_video\":\"video\",\"image_src\":\"https://i.pinimg.com/videos/thumbnails/originals/69/84/e2/6984e20f3e262098fa9c0614c3453254.0000001.jpg\",\"downloaded\":1,\"save_location\":\"Local save in /data/beauty\",\"category\":\"beauty\"}</td></tr><tr><td>{\"index\":4315,\"unique_id\":\"21b59ba9-829d-4c33-8c27-4cd4c56d26b8\",\"title\":\"Podcasts for Teachers or Parents of Teenagers\",\"description\":\"Podcasts for Teachers or Parents of Teenagers: Teaching teens middle school and high school can feel joyful and rewarding most days, but can also frustrate you with one challeng… \",\"poster_name\":\"Math Giraffe\",\"follower_count\":\"25k\",\"tag_list\":\"Middle School Classroom,High School Students,High School Teachers,Middle School Tips,High School Counseling,Ela Classroom,High School Science,Future Classroom,Google Classroom\",\"is_image_or_video\":\"image\",\"image_src\":\"https://i.pinimg.com/originals/50/19/31/501931a27ee4d076658980851b995b2c.jpg\",\"downloaded\":1,\"save_location\":\"Local save in /data/education\",\"category\":\"education\"}</td></tr><tr><td>{\"index\":10794,\"unique_id\":\"c4bd2577-a7bb-4409-bb7a-17d5ed7e1cf1\",\"title\":\"TireBuyer\",\"description\":\"Nissan GT-R. Sick.\",\"poster_name\":\"Ray Uyemura\",\"follower_count\":\"437\",\"tag_list\":\"Lowrider,Old Vintage Cars,Antique Cars,Austin Martin,Nissan Gtr Black,Jaguar,1959 Cadillac,Cadillac Ct6,Old School Cars\",\"is_image_or_video\":\"image\",\"image_src\":\"https://i.pinimg.com/originals/0d/29/9f/0d299f3df020395aa7ce8387f40fbeed.jpg\",\"downloaded\":1,\"save_location\":\"Local save in /data/vehicles\",\"category\":\"vehicles\"}</td></tr><tr><td>{\"index\":5494,\"unique_id\":\"8fb2af68-543b-4639-8119-de33d28706ed\",\"title\":\"Dave Ramsey's 7 Baby Steps: What Are They And Will They Work For You\",\"description\":\"If you love budgeting, make sure to give Dave Ramsey's 7 Baby Steps a try. Follow these steps to begin your debt snowball, build an emergency fund, invest and reach riches. I ca… \",\"poster_name\":\"Living Low Key | Save Money, Make Money, & Frugal Living\",\"follower_count\":\"26k\",\"tag_list\":\"Financial Peace,Financial Tips,Saving Money Quotes,Total Money Makeover,Budgeting Finances,Money Management,Wealth Management,Personal Finance,Making Ideas\",\"is_image_or_video\":\"image\",\"image_src\":\"https://i.pinimg.com/originals/1e/9d/90/1e9d906e4e150e3b95187f3b76ea7c71.png\",\"downloaded\":1,\"save_location\":\"Local save in /data/finance\",\"category\":\"finance\"}</td></tr><tr><td>{\"index\":5069,\"unique_id\":\"b75b6f87-deb3-444f-b29e-ce9161b2df49\",\"title\":\"The Vault: Curated & Refined Wedding Inspiration\",\"description\":\"Sacramento California Wedding 2 Chic Events & Design Jodi Yorston Photography Wilson Vineyards Barn Miosa Couture Yellow Barn Vineyard Outdoor Candles DIY\",\"poster_name\":\"Style Me Pretty\",\"follower_count\":\"6M\",\"tag_list\":\"60th Anniversary Parties,Anniversary Decorations,Golden Anniversary,25th Wedding Anniversary,Anniversary Pictures,Anniversary Ideas,Birthday Decorations,Event Planning Design,Event Design\",\"is_image_or_video\":\"image\",\"image_src\":\"https://i.pinimg.com/originals/7e/45/90/7e45905fefa36347e83333fd6d091140.jpg\",\"downloaded\":1,\"save_location\":\"Local save in /data/event-planning\",\"category\":\"event-planning\"}</td></tr><tr><td>{\"index\":2923,\"unique_id\":\"52fa3af5-24a4-4ccb-8f17-9c3eb12327ee\",\"title\":\"UFO Paper Plate Craft\",\"description\":\"A fun space activity for kids. Preshoolers and kindergartners will love making their own alien spacecraft!\",\"poster_name\":\"The Crafting Chicks\",\"follower_count\":\"192k\",\"tag_list\":\"Paper Plate Crafts For Kids,Fun Crafts For Kids,Summer Crafts,Toddler Crafts,Art For Kids,Outer Space Crafts For Kids,Kid Crafts,Space Kids,Back To School Crafts For Kids\",\"is_image_or_video\":\"image\",\"image_src\":\"https://i.pinimg.com/originals/6f/e8/aa/6fe8aa405513c6d2f77b5f47d17cdce8.jpg\",\"downloaded\":1,\"save_location\":\"Local save in /data/diy-and-crafts\",\"category\":\"diy-and-crafts\"}</td></tr><tr><td>{\"index\":3089,\"unique_id\":\"88f9227e-88d0-4b1c-b0be-bcfc3028b8e2\",\"title\":\"No Title Data Available\",\"description\":\"No description available Story format\",\"poster_name\":\"User Info Error\",\"follower_count\":\"User Info Error\",\"tag_list\":\"N,o, ,T,a,g,s, ,A,v,a,i,l,a,b,l,e\",\"is_image_or_video\":\"multi-video(story page format)\",\"image_src\":\"Image src error.\",\"downloaded\":0,\"save_location\":\"Local save in /data/diy-and-crafts\",\"category\":\"diy-and-crafts\"}</td></tr><tr><td>{\"index\":6063,\"unique_id\":\"60693727-4927-4bd6-a8c5-096a392d63e6\",\"title\":\"41 Gorgeous Fall Decor Ideas For Your Home - Chaylor & Mads\",\"description\":\"Beautiful and easy ways to update every room in your home with fall decor. Plus, my favorite finds in fall decor for 2020!\",\"poster_name\":\"Kristen | Lifestyle, Mom Tips & Teacher Stuff Blog\",\"follower_count\":\"92k\",\"tag_list\":\"Fall Home Decor,Autumn Home,Fall Decor Outdoor,Front Porch Fall Decor,Home Decor Ideas,Porch Ideas For Fall,Fall Outdoor Decorating,Decorating Ideas For Fall,Fall Front Doors\",\"is_image_or_video\":\"image\",\"image_src\":\"https://i.pinimg.com/originals/e5/ae/dc/e5aedc14ce557e3a69f672e0f8c88f6e.png\",\"downloaded\":1,\"save_location\":\"Local save in /data/home-decor\",\"category\":\"home-decor\"}</td></tr><tr><td>{\"index\":3454,\"unique_id\":\"46bd3f86-b09d-4e29-9033-7ff2df595e51\",\"title\":\"What can you use to color resin?\",\"description\":\"HELPFUL RESOURCES – Check out my resin colorants resources page here with links to all the products mentioned in this article (and more). Let me know if you have any that you lo… \",\"poster_name\":\"Mixed Media Crafts\",\"follower_count\":\"6k\",\"tag_list\":\"Epoxy Resin Art,Diy Resin Art,Diy Resin Crafts,Resin Molds,Ice Resin,Resin Pour,Diy Epoxy,Diy Resin Painting,Diy Resin Dice\",\"is_image_or_video\":\"image\",\"image_src\":\"https://i.pinimg.com/originals/d4/12/78/d4127833023ca32600571ddca16f1556.jpg\",\"downloaded\":1,\"save_location\":\"Local save in /data/diy-and-crafts\",\"category\":\"diy-and-crafts\"}</td></tr><tr><td>{\"index\":7554,\"unique_id\":\"c6fa12f4-0d4a-4b07-a335-5bf9f37f8281\",\"title\":\"Craig Style\",\"description\":\"imgentleboss: “ - More about men’s fashion at @Gentleboss - GB’s Facebook - ”\",\"poster_name\":\"iElylike ..✿◕‿◕✿ஐ✿◕‿◕✿\",\"follower_count\":\"940\",\"tag_list\":\"Mens Fashion Blog,Look Fashion,Autumn Fashion,Fashion News,Fashion Sale,80s Fashion,Paris Fashion,Runway Fashion,Fashion Trends\",\"is_image_or_video\":\"image\",\"image_src\":\"https://i.pinimg.com/originals/e7/6e/8e/e76e8ed6cc838b84a934c6948a5caff7.jpg\",\"downloaded\":1,\"save_location\":\"Local save in /data/mens-fashion\",\"category\":\"mens-fashion\"}</td></tr><tr><td>{\"index\":6145,\"unique_id\":\"82e13a07-db99-43a3-b1c0-89a4b75821da\",\"title\":\"HOLIDAY MANTLE DECOR - @AMAZON & @TARGET FINDS\",\"description\":\"Holiday mantle decor, Christmas decor, metallic mercury glass style Christmas trees, eucalyptus vine, evergreen pine branches, white neutral holiday decor, cozy mantle for the h… \",\"poster_name\":\"Stylin by Aylin\",\"follower_count\":\"83k\",\"tag_list\":\"Winter Home Decor,Christmas Living Room Decor,Living Room Decor Cozy,Christmas Decor,Cozy Fireplace,Rustic Fireplace Decor,Fireplace Decorations,Rustic Room,House Decorations\",\"is_image_or_video\":\"image\",\"image_src\":\"https://i.pinimg.com/originals/9d/82/1a/9d821a80acd8f90c16454e978bd9b115.jpg\",\"downloaded\":1,\"save_location\":\"Local save in /data/home-decor\",\"category\":\"home-decor\"}</td></tr><tr><td>{\"index\":10625,\"unique_id\":\"d31885b7-742a-4e2a-bbb7-ac5f9d334340\",\"title\":\"Jaguar Type E\",\"description\":\"1937 Jaguar SS100 - 2 1/2 Litre Roadster, one of the most sought after pre-war sports cars\",\"poster_name\":\"hobbyDB\",\"follower_count\":\"8k\",\"tag_list\":\"Jaguar Type E,Jaguar Xk,Jaguar Cars,Jaguar Roadster,Jaguar Sport,Retro Cars,Vintage Cars,Antique Cars,British Sports Cars\",\"is_image_or_video\":\"image\",\"image_src\":\"https://i.pinimg.com/originals/26/81/a7/2681a71bd0c8f7fd0ab79c455338a49a.jpg\",\"downloaded\":1,\"save_location\":\"Local save in /data/vehicles\",\"category\":\"vehicles\"}</td></tr><tr><td>{\"index\":2959,\"unique_id\":\"439cac4b-18e8-4aaa-88c5-edb26a701111\",\"title\":\"The Cutest Toilet Paper Crafts\",\"description\":\"One thing I love about Crafts is how the evolve! These toilet paper rolls are adorable and modern. I love that something as simple as a recycled toilet paper roll can be taken t… \",\"poster_name\":\"CraftGossip.com\",\"follower_count\":\"502k\",\"tag_list\":\"Toilet Paper Roll Crafts,Cardboard Crafts,Diy Paper,Paper Crafting,Toilet Paper Rolls,Cardboard Playhouse,Paper Art,Kids Crafts,Toddler Crafts\",\"is_image_or_video\":\"image\",\"image_src\":\"https://i.pinimg.com/originals/c6/cd/0d/c6cd0d04da9cfc11566cfd34eeb1f918.jpg\",\"downloaded\":1,\"save_location\":\"Local save in /data/diy-and-crafts\",\"category\":\"diy-and-crafts\"}</td></tr><tr><td>{\"index\":9875,\"unique_id\":\"782dcbad-ff91-40a6-ba60-216efe29adb7\",\"title\":\"European Bucket List: 35 Things NOT To Miss When Traveling Europe\",\"description\":\"35 European bucket list destinations for any traveler heading to Europe. From Cinque Terre, Italy to Iceland - there are so many amazing sites to see in Europe.\",\"poster_name\":\"Nicki \",\"follower_count\":\"28k\",\"tag_list\":\"Backpacking Europe,Europe Travel Guide,Travel Guides,Travel Packing,Traveling Europe,Travelling,Travel Backpack,Budget Travel,2 Week Europe Itinerary\",\"is_image_or_video\":\"image\",\"image_src\":\"https://i.pinimg.com/originals/71/04/1a/71041ad83ede43d9665741e719c58a86.jpg\",\"downloaded\":1,\"save_location\":\"Local save in /data/travel\",\"category\":\"travel\"}</td></tr><tr><td>{\"index\":2418,\"unique_id\":\"da8745a6-5160-46c4-877d-181d50a729fd\",\"title\":\"100 DIY Christmas Centerpieces You'll Love To Decorate Your Home With For The Christmas Season - Hike n Dip\",\"description\":\"Here are the best DIY Christmas Centerpieces ideas perfect for your Christmas & holiday season home decor. From Christmas Vignettes to Table Centerpieces.\",\"poster_name\":\"HikenDip\",\"follower_count\":\"500k\",\"tag_list\":\"Farmhouse Christmas Decor,Rustic Christmas,Christmas Time,Vintage Christmas,Xmas,Primitive Christmas Crafts,Christmas Vignette,Indoor Christmas Decorations,Diy Christmas Ornaments\",\"is_image_or_video\":\"image\",\"image_src\":\"https://i.pinimg.com/originals/aa/6d/0f/aa6d0f44d7c1c96b998cb9aa6c4446b8.png\",\"downloaded\":1,\"save_location\":\"Local save in /data/christmas\",\"category\":\"christmas\"}</td></tr><tr><td>{\"index\":3156,\"unique_id\":\"fa6e31a4-18c2-4eca-a6d8-e903eee2c2a4\",\"title\":\"Handprint Reindeer Ornaments - Crafty Morning\",\"description\":\"This post may contain affiliate links, read our Disclosure Policy for more information. As an Amazon Associate I earn from qualifying purchases, thank you! Make some cute handpr… \",\"poster_name\":\"Michelle {CraftyMorning.com}\",\"follower_count\":\"892k\",\"tag_list\":\"Christmas Gifts For Parents,Christmas Decorations For Kids,Christmas Crafts For Toddlers,Preschool Christmas,Christmas Crafts For Gifts,Christmas Activities,Toddler Crafts,Kids Christmas,Christmas Feeling\",\"is_image_or_video\":\"image\",\"image_src\":\"https://i.pinimg.com/originals/ff/fe/38/fffe384f3ec18a0d87cb2d80cc8c1499.jpg\",\"downloaded\":1,\"save_location\":\"Local save in /data/diy-and-crafts\",\"category\":\"diy-and-crafts\"}</td></tr><tr><td>{\"index\":428,\"unique_id\":\"610b3f83-9fe0-469d-946c-d16b577fca71\",\"title\":\"Fashion Designer Isaac Mizrahi’s Updated 1930s New York City Apartment\",\"description\":\"Fashion designer Issac Mizrahi’s Greenwich Village home is an amalgamation of three apartments that was 20 years in the making\",\"poster_name\":\"Architectural Digest\",\"follower_count\":\"3M\",\"tag_list\":\"Modern Art,Contemporary Art,Contemporary Kitchens,Contemporary Bedroom,New York City Apartment,Manhattan Apartment,Art Moderne,Architectural Digest,Painting Inspiration\",\"is_image_or_video\":\"image\",\"image_src\":\"https://i.pinimg.com/originals/f4/6c/54/f46c546a2e480022a42d842b7dca157e.jpg\",\"downloaded\":1,\"save_location\":\"Local save in /data/art\",\"category\":\"art\"}</td></tr><tr><td>{\"index\":7343,\"unique_id\":\"b8c63a95-6fe8-4d7f-9455-1eef3462fee0\",\"title\":\"This Fashion Rule Is Nonsense, And We Should All Forget About It\",\"description\":\"Black And Brown Outfits You Need To Try This Fall Season. The trick with black and brown outfits is to know how to combine colors, fabrics, and shapes to get a cohesive look. So… \",\"poster_name\":\"Cultura Colectiva\",\"follower_count\":\"1M\",\"tag_list\":\"Winter Outfits Men,Stylish Mens Outfits,Casual Outfits,Men Casual,Smart Casual,Outfits For Men,Fall Outfits,Mens Winter Boots,Business Casual Men\",\"is_image_or_video\":\"image\",\"image_src\":\"https://i.pinimg.com/originals/3e/49/09/3e4909c0ccc4dbba3cad83d97eab4a61.png\",\"downloaded\":1,\"save_location\":\"Local save in /data/mens-fashion\",\"category\":\"mens-fashion\"}</td></tr><tr><td>{\"index\":2074,\"unique_id\":\"86ed09a7-842d-496d-9501-010c654eb340\",\"title\":\"35 Christmas Decorating Ideas We Bet You Haven't Thought Of\",\"description\":\"20 Christmas Decorating Ideas We Bet You Haven't Thought Of via @PureWow\",\"poster_name\":\"PureWow\",\"follower_count\":\"868k\",\"tag_list\":\"Holiday Centerpieces,Xmas Decorations,Centerpiece Ideas,Table Centerpieces,Valentine Decorations,Wedding Centerpieces,Outdoor Decorations,Christmas Centerpieces With Candles,Christmas Dining Table Decorations\",\"is_image_or_video\":\"image\",\"image_src\":\"https://i.pinimg.com/originals/e9/b9/f0/e9b9f01cc3b2cf41948b45854335396c.jpg\",\"downloaded\":1,\"save_location\":\"Local save in /data/christmas\",\"category\":\"christmas\"}</td></tr><tr><td>{\"index\":9979,\"unique_id\":\"2b2abc85-fc51-481f-8ae6-17681993da28\",\"title\":\"Paris in the Summer. 10 fun things to do in Paris in the Summertime • Petite in Paris\",\"description\":\"Are you traveling to Paris during the summer? Find out what to do in Paris, France during the summer. Fun summertime activities in Paris. Enjoy the incredible outdoors when trav… \",\"poster_name\":\"Petite in Paris\",\"follower_count\":\"3k\",\"tag_list\":\"Torre Eiffel Paris,Tour Eiffel,Picnic In Paris,Hello France,Voyage Europe,Destination Voyage,Beautiful Places To Travel,Travel Aesthetic,Paris Travel\",\"is_image_or_video\":\"image\",\"image_src\":\"https://i.pinimg.com/originals/6c/4c/90/6c4c90bba27ebf8c8bfe4c1acfb9f07a.jpg\",\"downloaded\":1,\"save_location\":\"Local save in /data/travel\",\"category\":\"travel\"}</td></tr><tr><td>{\"index\":10138,\"unique_id\":\"927c4658-cc3f-4b92-9b5c-70743d0c238d\",\"title\":\"14 Amazing Things To Do In Costa Rica | Volcanoes, Waterfalls, Wildlife And More\",\"description\":\"This Costa Rica itinerary is the ultimate guide to spending two weeks in Costa Rica. Find out about visiting La Fortuna, Arenal, Monteverde, Naranjo, Corcovado National Park, Or… \",\"poster_name\":\"Wanderlust Chloe ✈️ Travel guides, inspo and adventure travel ✈️\",\"follower_count\":\"10k\",\"tag_list\":\"Costa Rica Travel,Rio Celeste Costa Rica,Dream Vacations,Vacation Spots,Vacation Travel,Travel Pictures,Travel Photos,Fortuna Costa Rica,Costa Rica Pictures\",\"is_image_or_video\":\"image\",\"image_src\":\"https://i.pinimg.com/originals/30/93/cb/3093cb01d9de2d125fda8ba5e3e41946.jpg\",\"downloaded\":1,\"save_location\":\"Local save in /data/travel\",\"category\":\"travel\"}</td></tr><tr><td>{\"index\":9672,\"unique_id\":\"1a5050a4-ac82-472c-aeff-3457de8bbee9\",\"title\":\"Lake Moraine, Banff, Canada\",\"description\":\"On our Calgary to Vancouver road trip we got to spend time in Banff, Canada. We visited the stunning Lake Moraine as well as Lake Louise and plenty of other of Canada's natural… \",\"poster_name\":\"Travel Mad Mum\",\"follower_count\":\"7k\",\"tag_list\":\"Beautiful Places To Travel,Cool Places To Visit,Beautiful Roads,Beautiful Scenery,Wonderful Places,Lac Moraine,Moraine Lake,Lac Louise,Natur Wallpaper\",\"is_image_or_video\":\"video\",\"image_src\":\"https://i.pinimg.com/videos/thumbnails/originals/57/9d/52/579d52242ae5609978c754d393e44e81.0000001.jpg\",\"downloaded\":1,\"save_location\":\"Local save in /data/travel\",\"category\":\"travel\"}</td></tr><tr><td>{\"index\":8653,\"unique_id\":\"24b1343c-4d86-4705-8ec9-7f1f2df2d77e\",\"title\":\"Unique Women Tattoos Ideas 2020\",\"description\":\"We welcome you to our latest collection of Beautiful Tattoo Ideas For Women. Check out and get inspired by the most beautiful design for yourself.\",\"poster_name\":\"ALL FOR WOMAN\",\"follower_count\":\"21k\",\"tag_list\":\"Small Back Tattoos,Small Girl Tattoos,Little Tattoos,Tattoo Girls,Mini Tattoos,Tattoo Small,Back Tattoo Women,Tattoo On Back,Girl Back Tattoos\",\"is_image_or_video\":\"image\",\"image_src\":\"https://i.pinimg.com/originals/fa/cf/7c/facf7cd752a4bc7c09faaa8925ab80b1.jpg\",\"downloaded\":1,\"save_location\":\"Local save in /data/tattoos\",\"category\":\"tattoos\"}</td></tr><tr><td>{\"index\":8887,\"unique_id\":\"5df9f6e5-07f5-4ce8-a82e-96586bbc05d8\",\"title\":\"25 Ultra Sexy Back Tattoo Ideas For Girls\",\"description\":\"Tattoos are one of the most efficient ways through which one decides to express themselves…\",\"poster_name\":\"RapidLeaks\",\"follower_count\":\"4k\",\"tag_list\":\"Dream Tattoos,Body Art Tattoos,New Tattoos,Small Tattoos,Cross Tattoos,Random Tattoos,Fashion Tattoos,Bird Tattoos,Fitness Tattoos\",\"is_image_or_video\":\"image\",\"image_src\":\"https://i.pinimg.com/originals/ab/8e/50/ab8e505b04d4abc8f23e273c15f8a65d.jpg\",\"downloaded\":1,\"save_location\":\"Local save in /data/tattoos\",\"category\":\"tattoos\"}</td></tr><tr><td>{\"index\":7922,\"unique_id\":\"a584581c-1b38-4731-a1cc-f36115ecf229\",\"title\":\"45 Top Life Quotes School Did Not Teach You\",\"description\":\"summcoco gives you inspiration for the women fashion trends you want. Thinking about a new look or lifestyle? This is your ultimate resource to get the hottest trends. 45 Top Li… \",\"poster_name\":\"Sumcoco | Decor Ideas, Hairstyles, Nails Fashion Advice\",\"follower_count\":\"306k\",\"tag_list\":\"Life Quotes Love,Inspirational Quotes About Love,Mood Quotes,Motivational Quotes,Tears Quotes,Quotes About Sadness,Deep Quotes About Life,Quotes Quotes,Quote Life\",\"is_image_or_video\":\"image\",\"image_src\":\"https://i.pinimg.com/originals/bb/c0/e6/bbc0e6a797079505f11ac12bcb0b8c66.jpg\",\"downloaded\":1,\"save_location\":\"Local save in /data/quotes\",\"category\":\"quotes\"}</td></tr><tr><td>{\"index\":1014,\"unique_id\":\"9ac94307-bb27-410e-b554-0a0ab6c19847\",\"title\":\"Hairstyles & Beauty\",\"description\":\"Untitled\",\"poster_name\":\"Grecia Perales\",\"follower_count\":\"0\",\"tag_list\":\"Hair Inspo,Hair Inspiration,Motivation Inspiration,Cl Rapper,Foto Glamour,Kreative Portraits,Classy Aesthetic,Pretty Hairstyles,Hair Looks\",\"is_image_or_video\":\"image\",\"image_src\":\"https://i.pinimg.com/originals/af/c4/59/afc459bd6e1fd8f9aef212504afebf3a.jpg\",\"downloaded\":1,\"save_location\":\"Local save in /data/beauty\",\"category\":\"beauty\"}</td></tr><tr><td>{\"index\":4913,\"unique_id\":\"4d2d79c6-9ca8-46c9-a38e-931c5d967804\",\"title\":\"How to Work From Home as an Event Planner\",\"description\":\"Do you love planning parties? Do you want to work-at-home? This post covers everything you need to know about becoming a home-based event planner!\",\"poster_name\":\"The Work at Home Woman\",\"follower_count\":\"110k\",\"tag_list\":\"Event Planning Tips,Event Planning Business,Party Planning,Business Ideas,Craft Business,Business Chic,Business Inspiration,Business Goals,Business Opportunities\",\"is_image_or_video\":\"image\",\"image_src\":\"https://i.pinimg.com/originals/4d/a3/a4/4da3a4730418239f1b43ce81fb032c15.jpg\",\"downloaded\":1,\"save_location\":\"Local save in /data/event-planning\",\"category\":\"event-planning\"}</td></tr><tr><td>{\"index\":4137,\"unique_id\":\"bf275054-4464-448b-9143-1bf101aa366d\",\"title\":\"15 Essential Classroom Items For First Year Teachers / First Year Teacher Must Haves\",\"description\":\"15 Essential Classroom Items For First Year Teachers / First Year Teacher Must Haves\",\"poster_name\":\"Write Your Story | Budgeting, Healthy Lifestyle, Faith\",\"follower_count\":\"5k\",\"tag_list\":\"1st Year Teachers,First Year Teaching,First Grade Teachers,Elementary Teacher,Montessori Elementary,Teaching Reading,History Teachers,High School Classroom,First Grade Classroom\",\"is_image_or_video\":\"image\",\"image_src\":\"https://i.pinimg.com/originals/4b/b9/a8/4bb9a85f609a8384ed9c9ab14e7bcea0.jpg\",\"downloaded\":1,\"save_location\":\"Local save in /data/education\",\"category\":\"education\"}</td></tr><tr><td>{\"index\":7166,\"unique_id\":\"4a844b03-e161-47a1-904b-591eb5dc4fb1\",\"title\":\"The Killers - Mr. Brightside - Women's T-Shirt - Heather Dark Grey / S\",\"description\":\"Women's T-shirt. Design inspired by the rock band The Killers' hit \\\"Mr. Brightside\\\". One of the greatest song from the album Hot Fuss released in 2004. Soft and light, 100% cott… \",\"poster_name\":\"Mala Rock | Rock T-shirts\",\"follower_count\":\"27\",\"tag_list\":\"Mr Brightside,Rock T Shirts,Greatest Songs,Timeless Classic,Rock Bands,Album,T Shirts For Women,Inspired,Hot\",\"is_image_or_video\":\"image\",\"image_src\":\"https://i.pinimg.com/originals/8c/42/39/8c42391d35fcad51a4a79f7cd81bf26d.jpg\",\"downloaded\":1,\"save_location\":\"Local save in /data/mens-fashion\",\"category\":\"mens-fashion\"}</td></tr><tr><td>{\"index\":9546,\"unique_id\":\"efd5b2d6-2f69-40cd-bb59-41f18c089e52\",\"title\":\"20 Amazing Trips to Take in Your Twenties!\",\"description\":\"The best trips to take when you are young!\",\"poster_name\":\"The World Pursuit Travel Website\",\"follower_count\":\"89k\",\"tag_list\":\"Fun Places To Go,Beautiful Places To Travel,Best Places To Travel,Travel Jobs,Holiday Places,Future Travel,Travel Around The World,Adventure Travel,Travel Photos\",\"is_image_or_video\":\"video\",\"image_src\":\"https://i.pinimg.com/videos/thumbnails/originals/81/97/c1/8197c1beef8bcb19bea5d8b422211f34.0000001.jpg\",\"downloaded\":1,\"save_location\":\"Local save in /data/travel\",\"category\":\"travel\"}</td></tr><tr><td>{\"index\":2411,\"unique_id\":\"4e11801e-7a64-4f1e-90dd-e900677595c5\",\"title\":\"The Sweetest Gingerbread House Ornaments Kids Can Make\",\"description\":\"Transform mini terra cotta pots into the sweetest gingerbread house ornaments! Kids will love making this adorable Christmas craft to hang on the tree.\",\"poster_name\":\"Projects with Kids\",\"follower_count\":\"20k\",\"tag_list\":\"Noel Christmas,Diy Christmas Ornaments,Homemade Christmas,Simple Christmas,Gingerbread Ornaments,Christmas Gingerbread,Gingerbread Houses,Preschool Christmas,Ornaments Ideas\",\"is_image_or_video\":\"image\",\"image_src\":\"https://i.pinimg.com/originals/13/28/09/1328097d7c290d1bf8642b01a6ba1c6c.jpg\",\"downloaded\":1,\"save_location\":\"Local save in /data/christmas\",\"category\":\"christmas\"}</td></tr><tr><td>{\"index\":9590,\"unique_id\":\"b849e976-52f6-45d7-8b25-51559318f167\",\"title\":\"Top 20 Things To See And Do In Ireland\",\"description\":\"Best spots to see for travel through Ireland!\",\"poster_name\":\"Fun Life Crisis\",\"follower_count\":\"130k\",\"tag_list\":\"Vacation Ideas,Vacation Spots,Emerald Isle,London England,Travel Guides,Travel Tips,Travel Hacks,Travel Packing,Places To Travel\",\"is_image_or_video\":\"image\",\"image_src\":\"https://i.pinimg.com/originals/c7/50/d3/c750d36524856873d64406652d69b4fb.png\",\"downloaded\":1,\"save_location\":\"Local save in /data/travel\",\"category\":\"travel\"}</td></tr><tr><td>{\"index\":2698,\"unique_id\":\"73f16302-4871-486a-8836-947530526337\",\"title\":\"DIY Dollar Tree Valentine's Day Wreath\",\"description\":\"DIY Dollar Store Valentine’s Day Heart Wreath Decoration. There are so many great Valentine crafts at the Dollar Tree right now! During our last trip, we picked up a few supplie… \",\"poster_name\":\"South Lumina Style\",\"follower_count\":\"9k\",\"tag_list\":\"Valentine Day Wreaths,Valentines Day Hearts,Valentines Day Decorations,Valentine Day Crafts,Holiday Crafts,Diy Christmas,Christmas Wreaths,Valentine Tree,Printable Valentine\",\"is_image_or_video\":\"image\",\"image_src\":\"https://i.pinimg.com/originals/dc/f6/8a/dcf68adcc63c339c24fa5664f1115994.png\",\"downloaded\":1,\"save_location\":\"Local save in /data/diy-and-crafts\",\"category\":\"diy-and-crafts\"}</td></tr><tr><td>{\"index\":4508,\"unique_id\":\"9064f4a2-2753-476c-815e-db360f45a93e\",\"title\":\"Custom Event and Shop Neon Sign Lights - Event & Shop\",\"description\":\"Personalize your event or shop with a customized neon sign. Make a statement with your own custom vibes! This light is 32 -40 inches (80cm-100cm) if you need something bigger, p… \",\"poster_name\":\"Life of Neon | Custom Neon Light Signs | Home Decor Wall Art\",\"follower_count\":\"111\",\"tag_list\":\"Our Wedding,Wedding Venues,Dream Wedding,Wedding Cakes,Church Wedding,Wedding Flowers,Lace Wedding,Wedding Rings,Wedding Dresses\",\"is_image_or_video\":\"image\",\"image_src\":\"https://i.pinimg.com/originals/e9/c0/7c/e9c07cf0cf16cab23764a36718ab76c1.jpg\",\"downloaded\":1,\"save_location\":\"Local save in /data/event-planning\",\"category\":\"event-planning\"}</td></tr><tr><td>{\"index\":831,\"unique_id\":\"5e65914d-9f58-4ff1-9676-658e426e8ce5\",\"title\":\"creating mixed-media faces tutorial\",\"description\":\"Free quick inspirational video on creating a mixed media face with acrylic, collage, stenciling and simple techniques. Come on over to watch\",\"poster_name\":\"Shawn Petite\",\"follower_count\":\"27k\",\"tag_list\":\"Collage Kunst,Paper Collage Art,Collage Art Mixed Media,Mixed Media Painting,Mixed Media Canvas,Canvas Collage,Art Collages,Wall Canvas,Canvas Art\",\"is_image_or_video\":\"video\",\"image_src\":\"https://i.pinimg.com/videos/thumbnails/originals/05/86/a4/0586a4116e1fc34efc25e064ccd123e8.0000001.jpg\",\"downloaded\":1,\"save_location\":\"Local save in /data/art\",\"category\":\"art\"}</td></tr><tr><td>{\"index\":5076,\"unique_id\":\"fa3af29c-dc78-4eed-a4c5-52a407ea04c0\",\"title\":\"Quiz: Test Your Event IQ! - Pointers For Planners\",\"description\":\"So you're thinking of getting your event planner certification, but how much do you REALLY know about event planning? Event planners need to be knowledgeable and able to answer… \",\"poster_name\":\"QC Career School\",\"follower_count\":\"5k\",\"tag_list\":\"Diy Wedding Food,Best Wedding Makeup,Wedding Events,Wedding Tips,Wedding Stuff,Weddings,Event Planning Business,Business Events,Wedding Makeup Tutorial\",\"is_image_or_video\":\"image\",\"image_src\":\"https://i.pinimg.com/originals/6f/19/bc/6f19bce24921bf843540fc04da9eb6bf.jpg\",\"downloaded\":1,\"save_location\":\"Local save in /data/event-planning\",\"category\":\"event-planning\"}</td></tr><tr><td>{\"index\":10663,\"unique_id\":\"d5208c16-82ae-4fd1-87f0-36e5ef789412\",\"title\":\"21+ Classic Car Picture of the 1950s - Vintagetopia\",\"description\":\"There are a lot of options of places to stay so you probably only have to book the initial one so you know the best place to land from the airport\",\"poster_name\":\"vintagetopia\",\"follower_count\":\"171k\",\"tag_list\":\"Old Classic Cars,Classic Trucks,Old Vintage Cars,Antique Cars,Vintage Trucks,Antique Trucks,Cadillac,Convertible,Mustang\",\"is_image_or_video\":\"image\",\"image_src\":\"https://i.pinimg.com/originals/e9/01/4d/e9014d537dd2b81c606e8466cef3904c.jpg\",\"downloaded\":1,\"save_location\":\"Local save in /data/vehicles\",\"category\":\"vehicles\"}</td></tr><tr><td>{\"index\":5468,\"unique_id\":\"91ee49f6-0070-4270-ba19-fde88ba51c91\",\"title\":\"Budgets, Spouses & Making It Work! - Tshanina Peterson\",\"description\":\"Don't fight about budgets and money with your spouse! Here are a few tips that we've found that make it work in our marriage!\",\"poster_name\":\"Annamarie Hilton\",\"follower_count\":\"313\",\"tag_list\":\"Ways To Save Money,Money Tips,Money Saving Tips,How To Make Money,Managing Money,Saving Time,College Fund,Scholarships For College,Education College\",\"is_image_or_video\":\"image\",\"image_src\":\"https://i.pinimg.com/originals/37/d5/82/37d58296bcef3471a633c76b89d8625e.jpg\",\"downloaded\":1,\"save_location\":\"Local save in /data/finance\",\"category\":\"finance\"}</td></tr><tr><td>{\"index\":205,\"unique_id\":\"f4afd543-b9fe-44c3-8064-f2198faa1372\",\"title\":\"DIY Abstract Heart Painting and a Fun Paint Party\",\"description\":\"Use our easy step by step tutorial to create a DIY abstract heart painting on any canvas size. Lots of inspiration to help you choose colors.\",\"poster_name\":\"The Creativity Exchange\",\"follower_count\":\"410k\",\"tag_list\":\"Painting & Drawing,Watercolor Paintings,Original Paintings,Owl Watercolor,Acrylic Paintings,Owl Art,Bird Art,Beginner Painting,Animal Paintings\",\"is_image_or_video\":\"image\",\"image_src\":\"https://i.pinimg.com/originals/33/85/f8/3385f82ee5e8ecdcccdf798bdcbee3d2.jpg\",\"downloaded\":1,\"save_location\":\"Local save in /data/art\",\"category\":\"art\"}</td></tr><tr><td>{\"index\":7790,\"unique_id\":\"9cd89fb9-d1af-4e66-85ca-c9d656c918b4\",\"title\":\"50 Heart Touching Sad Quotes That Will Make You Cry\",\"description\":\"Are you looking for some heart touching sad quotes and sayings; Here we have collected for you 50 best heart touching sad quotes..\",\"poster_name\":\"AnnaLee Kick\",\"follower_count\":\"112\",\"tag_list\":\"Crush Quotes For Girls,Sad Crush Quotes,Hurt Quotes,Love Me Quotes,Mood Quotes,Quotes To Live By,Life Quotes,Quotes Quotes,Sad Quotes That Make You Cry\",\"is_image_or_video\":\"image\",\"image_src\":\"https://i.pinimg.com/originals/0c/0f/40/0c0f408d96458080e0c82adb50be8e8f.jpg\",\"downloaded\":1,\"save_location\":\"Local save in /data/quotes\",\"category\":\"quotes\"}</td></tr><tr><td>{\"index\":8606,\"unique_id\":\"71757040-bfc8-4631-9cac-22801e61d9e3\",\"title\":\"30+ Eagle Tattoos Ideas for Women\",\"description\":\"summcoco gives you inspiration for the women fashion trends you want. Thinking about a new look or lifestyle? This is your ultimate resource to get the hottest trends. 30+ Eagle… \",\"poster_name\":\"Sumcoco | Decor Ideas, Hairstyles, Nails Fashion Advice\",\"follower_count\":\"306k\",\"tag_list\":\"White Bird Tattoos,Rose Tattoos,Flower Tattoos,Tattoo Black,Bird And Flower Tattoo,Tattoo Floral,Mini Tattoos,Flower Art,Girls With Sleeve Tattoos\",\"is_image_or_video\":\"image\",\"image_src\":\"https://i.pinimg.com/originals/8d/c6/ed/8dc6ed0b212393187a14c7d07a88060f.png\",\"downloaded\":1,\"save_location\":\"Local save in /data/tattoos\",\"category\":\"tattoos\"}</td></tr><tr><td>{\"index\":9759,\"unique_id\":\"d105eb6e-0f9f-46e7-8d02-d24b62f6ae90\",\"title\":\"8 Best Greek Islands You Have To Visit - TheFab20s\",\"description\":\"Although you'd think Greek islands are fairly similar, you'd be completely wrong! Each island has it's own personality and appeal. Here are the 8 Best Greek Islands to visit, es… \",\"poster_name\":\"TheFab20s | Travel+Food+DIY+Listicles\",\"follower_count\":\"42k\",\"tag_list\":\"Greek Islands To Visit,Best Greek Islands,Greece Islands,Cool Places To Visit,Places To Go,Best Places In Portugal,Copenhagen Travel,Paros Island,Santorini Island\",\"is_image_or_video\":\"image\",\"image_src\":\"https://i.pinimg.com/originals/06/1d/ce/061dce38929dec8e74844442116bea4a.jpg\",\"downloaded\":1,\"save_location\":\"Local save in /data/travel\",\"category\":\"travel\"}</td></tr><tr><td>{\"index\":719,\"unique_id\":\"d7c53e34-9540-4f48-a31b-89b6ed1852bb\",\"title\":\"10 Art Sub Lessons that only need a Pencil\",\"description\":\"10 art sub lessons that only need a pencil. Cover lessons for art teachers. Make the perfect art sub lessson folder with this amazing resources.\",\"poster_name\":\"The Arty Teacher\",\"follower_count\":\"25k\",\"tag_list\":\"Art Lessons For Kids,Art Lessons Elementary,Art For Kids,Art Sub Plans,Art Lesson Plans,Art Substitute Plans,High School Art,Middle School Art,Primary School Art\",\"is_image_or_video\":\"image\",\"image_src\":\"https://i.pinimg.com/originals/ee/a8/78/eea878911033897d981a69d9f6b2fb7c.png\",\"downloaded\":1,\"save_location\":\"Local save in /data/art\",\"category\":\"art\"}</td></tr><tr><td>{\"index\":1704,\"unique_id\":\"5fbf9863-fb79-477c-a5b6-540c3020a55f\",\"title\":\"Christmas Trees From Pallet Wood | Holiday DIY\",\"description\":\"Christmas Trees From Pallet Wood | Holiday DIY: Deck the yard with some fun outdoor Christmas Trees! We made these merry and bright decorations from two old pallets we had lying… \",\"poster_name\":\"Instructables\",\"follower_count\":\"3M\",\"tag_list\":\"Pallet Wood Christmas Tree,Wooden Christmas Crafts,Diy Christmas Tree,Christmas Projects,Holiday Crafts,Wooden Xmas Trees,Different Christmas Trees,Pallet Tree,Christmas Kitchen\",\"is_image_or_video\":\"image\",\"image_src\":\"https://i.pinimg.com/originals/64/7b/ca/647bca35169b7c144604116c64bcba8a.png\",\"downloaded\":1,\"save_location\":\"Local save in /data/christmas\",\"category\":\"christmas\"}</td></tr><tr><td>{\"index\":2482,\"unique_id\":\"08604f20-fa17-4b9a-9949-781717eca6cd\",\"title\":\"FORNT PORCH CHRISTMAS DECORATING IDEAS\",\"description\":\"Christmas decorating ideas for porches. Beautiful holiday decor ideas for front porches both small and large. Outdoor decorations like sleds, lanterns, Christmas trees, wreaths,… \",\"poster_name\":\"Life on Summerhill | Home, Holiday Decor & DIY Website\",\"follower_count\":\"46k\",\"tag_list\":\"Diy Christmas Decorations For Home,Farmhouse Christmas Decor,Christmas Home,Christmas Holidays,Christmas Front Porches,How To Decorate For Christmas,Christmas Porch Ideas,Christmas Decorating Ideas,Large Outdoor Christmas Decorations\",\"is_image_or_video\":\"video\",\"image_src\":\"https://i.pinimg.com/videos/thumbnails/originals/40/83/f5/4083f5b4971bf235f89a4784ab87271e.0000001.jpg\",\"downloaded\":1,\"save_location\":\"Local save in /data/christmas\",\"category\":\"christmas\"}</td></tr><tr><td>{\"index\":8930,\"unique_id\":\"a2999c28-f7b2-4577-af87-49d21d6d8a18\",\"title\":\"135 Sunflower Tattoo Ideas - [Best Rated Designs in 2021]\",\"description\":\"We have put together the Ultimative Sunflower Tattoo Collection in 2020. Check out our highest rated handpicked Sunflower designs here!\",\"poster_name\":\"Next Luxury\",\"follower_count\":\"800k\",\"tag_list\":\"Sunflower Tattoo Sleeve,Sunflower Tattoo Shoulder,Sunflower Tattoo Small,Sunflower Tattoos,Sunflower Tattoo Design,Shoulder Tattoo,Sunflower Mandala Tattoo,Sunflower Tattoo Meaning,Form Tattoo\",\"is_image_or_video\":\"image\",\"image_src\":\"https://i.pinimg.com/originals/18/de/6c/18de6c81a8637e224c7d63dce1414ceb.jpg\",\"downloaded\":1,\"save_location\":\"Local save in /data/tattoos\",\"category\":\"tattoos\"}</td></tr><tr><td>{\"index\":7294,\"unique_id\":\"9d8409ef-bea7-4133-a021-c58b9c042210\",\"title\":\"Foolproof Fall Fashion For Men You'll Love\",\"description\":\"Looking for the coolest fall fashion for men this season? Click to read this article on fall fashion for men to look sharp on LLEGANCE.\",\"poster_name\":\"LLEGANCE | Workwear Fashion Woman Advice For Driven Professionals\",\"follower_count\":\"28k\",\"tag_list\":\"Fashion 90s,Autumn Fashion,Fashion Ideas,Trendy Fashion,Fashion Photo,Fashion Outfits,Fashion Trends,Urban Fashion Men,Men's Casual Fashion\",\"is_image_or_video\":\"image\",\"image_src\":\"https://i.pinimg.com/originals/4c/bf/2d/4cbf2d6e04d2502612169220553f4cef.jpg\",\"downloaded\":1,\"save_location\":\"Local save in /data/mens-fashion\",\"category\":\"mens-fashion\"}</td></tr><tr><td>{\"index\":808,\"unique_id\":\"23f67e42-db9f-4aae-8b82-cbec64ad9f4d\",\"title\":\"Chalk Pastel Hot Chocolate Art Project\",\"description\":\"Kids will use chalk pastels and black paper to create this bold and bright hot chocolate art project! Easy to follow tutorial included.\",\"poster_name\":\"Projects with Kids\",\"follower_count\":\"20k\",\"tag_list\":\"Hot Chocolate Art,Chocolate Crafts,Art Activities For Kids,Preschool Art,Preschool Winter,Christmas Activities,Winter Art Projects,Clay Art Projects,Chalk Pastel Art\",\"is_image_or_video\":\"image\",\"image_src\":\"https://i.pinimg.com/originals/5a/d3/82/5ad38202cf8acb022cb8f46ce2a78ad6.jpg\",\"downloaded\":1,\"save_location\":\"Local save in /data/art\",\"category\":\"art\"}</td></tr><tr><td>{\"index\":771,\"unique_id\":\"a5021766-a8aa-4dc7-9857-4da6b8e3dc1a\",\"title\":\"African Sunset Shadow Tracing Art - Taming Little Monsters\",\"description\":\"Use your mini world figures to create this beautiful African sunset. Your kids will love learning about shadows, angles and distortion in this fun art and STEM activity for kids.\",\"poster_name\":\"Taming Little Monsters - Fun Activities for Kids\",\"follower_count\":\"4k\",\"tag_list\":\"African Art Projects,Cool Art Projects,Projects For Kids,African Art For Kids,African Crafts Kids,Art Club Projects,Art Education Projects,Tracing Art,African Sunset\",\"is_image_or_video\":\"image\",\"image_src\":\"https://i.pinimg.com/originals/e3/aa/35/e3aa350f8f104d0e59f26d7f17ea7461.png\",\"downloaded\":1,\"save_location\":\"Local save in /data/art\",\"category\":\"art\"}</td></tr></tbody></table></div>"
      ]
     },
     "metadata": {
      "application/vnd.databricks.v1+output": {
       "addedWidgets": {},
       "aggData": [],
       "aggError": "",
       "aggOverflow": false,
       "aggSchema": [],
       "aggSeriesLimitReached": false,
       "aggType": "",
       "arguments": {},
       "columnCustomDisplayInfos": {},
       "data": [
        [
         "{\"index\":7528,\"unique_id\":\"fbe53c66-3442-4773-b19e-d3ec6f54dddf\",\"title\":\"No Title Data Available\",\"description\":\"No description available Story format\",\"poster_name\":\"User Info Error\",\"follower_count\":\"User Info Error\",\"tag_list\":\"N,o, ,T,a,g,s, ,A,v,a,i,l,a,b,l,e\",\"is_image_or_video\":\"multi-video(story page format)\",\"image_src\":\"Image src error.\",\"downloaded\":0,\"save_location\":\"Local save in /data/mens-fashion\",\"category\":\"mens-fashion\"}"
        ],
        [
         "{\"index\":2863,\"unique_id\":\"9bf39437-42a6-4f02-99a0-9a0383d8cd70\",\"title\":\"25 Super Fun Summer Crafts for Kids - Of Life and Lisa\",\"description\":\"Keep the kids busy this summer with these easy diy crafts and projects. Creative and…\",\"poster_name\":\"Of Life & Lisa | Lifestyle Blog\",\"follower_count\":\"124k\",\"tag_list\":\"Summer Crafts For Kids,Fun Crafts For Kids,Summer Kids,Toddler Crafts,Crafts To Do,Diy For Kids,Summer Snow,Diys For Summer,Craft Ideas For Girls\",\"is_image_or_video\":\"image\",\"image_src\":\"https://i.pinimg.com/originals/b3/bc/e2/b3bce2964e8c8975387b39660eed5f16.jpg\",\"downloaded\":1,\"save_location\":\"Local save in /data/diy-and-crafts\",\"category\":\"diy-and-crafts\"}"
        ],
        [
         "{\"index\":5730,\"unique_id\":\"1e1f0c8b-9fcf-460b-9154-c775827206eb\",\"title\":\"Island Oasis Coupon Organizer\",\"description\":\"Description Coupon Organizer in a fun colorful fabric -island oasis, Great Size for the \\\"basic\\\" couponer - holds up to 500 coupons with ease, and is made long enough so that you… \",\"poster_name\":\"Consuelo Aguirre\",\"follower_count\":\"0\",\"tag_list\":\"Grocery Items,Grocery Coupons,Care Organization,Coupon Organization,Extreme Couponing,Couponing 101,Life Binder,Save My Money,Love Coupons\",\"is_image_or_video\":\"image\",\"image_src\":\"https://i.pinimg.com/originals/65/bb/ea/65bbeaf458907bb079317d8303c4fa0e.jpg\",\"downloaded\":1,\"save_location\":\"Local save in /data/finance\",\"category\":\"finance\"}"
        ],
        [
         "{\"index\":8304,\"unique_id\":\"5b6d0913-25e4-43ab-839d-85d5516f78a4\",\"title\":\"The #1 Reason You’re Not His Priority Anymore - Matthew Coast\",\"description\":\"#lovequotes #matchmaker #matchmadeinheaven #loveyourself #respectyourself\",\"poster_name\":\"Commitment Connection\",\"follower_count\":\"51k\",\"tag_list\":\"Wise Quotes,Quotable Quotes,Words Quotes,Wise Words,Quotes To Live By,Great Quotes,Motivational Quotes,Inspirational Quotes,Funny Quotes\",\"is_image_or_video\":\"image\",\"image_src\":\"https://i.pinimg.com/originals/c6/64/ee/c664ee71524fb5a6e7b7b49233f93b43.png\",\"downloaded\":1,\"save_location\":\"Local save in /data/quotes\",\"category\":\"quotes\"}"
        ],
        [
         "{\"index\":8731,\"unique_id\":\"ea760f71-febf-4023-b592-d17396659039\",\"title\":\"20 Koi Fish Tattoos For Lucky Men\",\"description\":\"Koi fish tattoos are a popular choice for men who want to make a statement, thanks to their rich symbolism and bold design.\",\"poster_name\":\"TheTrendSpotter\",\"follower_count\":\"211k\",\"tag_list\":\"Dr Tattoo,Wörter Tattoos,Pisces Tattoos,Tatoo Art,Dream Tattoos,Dope Tattoos,Mini Tattoos,Finger Tattoos,Body Art Tattoos\",\"is_image_or_video\":\"image\",\"image_src\":\"https://i.pinimg.com/originals/8a/0c/0a/8a0c0a7b6236565c519acd41ad1a52c0.jpg\",\"downloaded\":1,\"save_location\":\"Local save in /data/tattoos\",\"category\":\"tattoos\"}"
        ],
        [
         "{\"index\":1313,\"unique_id\":\"44662045-e891-4821-8a19-ebe7eedd371a\",\"title\":\"Liquid Lash Extensions Mascara\",\"description\":\"Instantly create the look of lash extensions with this award-winning, best-selling mascara that won't clump, flake or smudge. Available in 3 shades!\",\"poster_name\":\"Thrive Causemetics\",\"follower_count\":\"43k\",\"tag_list\":\"N,o, ,T,a,g,s, ,A,v,a,i,l,a,b,l,e\",\"is_image_or_video\":\"video\",\"image_src\":\"https://i.pinimg.com/videos/thumbnails/originals/69/84/e2/6984e20f3e262098fa9c0614c3453254.0000001.jpg\",\"downloaded\":1,\"save_location\":\"Local save in /data/beauty\",\"category\":\"beauty\"}"
        ],
        [
         "{\"index\":4315,\"unique_id\":\"21b59ba9-829d-4c33-8c27-4cd4c56d26b8\",\"title\":\"Podcasts for Teachers or Parents of Teenagers\",\"description\":\"Podcasts for Teachers or Parents of Teenagers: Teaching teens middle school and high school can feel joyful and rewarding most days, but can also frustrate you with one challeng… \",\"poster_name\":\"Math Giraffe\",\"follower_count\":\"25k\",\"tag_list\":\"Middle School Classroom,High School Students,High School Teachers,Middle School Tips,High School Counseling,Ela Classroom,High School Science,Future Classroom,Google Classroom\",\"is_image_or_video\":\"image\",\"image_src\":\"https://i.pinimg.com/originals/50/19/31/501931a27ee4d076658980851b995b2c.jpg\",\"downloaded\":1,\"save_location\":\"Local save in /data/education\",\"category\":\"education\"}"
        ],
        [
         "{\"index\":10794,\"unique_id\":\"c4bd2577-a7bb-4409-bb7a-17d5ed7e1cf1\",\"title\":\"TireBuyer\",\"description\":\"Nissan GT-R. Sick.\",\"poster_name\":\"Ray Uyemura\",\"follower_count\":\"437\",\"tag_list\":\"Lowrider,Old Vintage Cars,Antique Cars,Austin Martin,Nissan Gtr Black,Jaguar,1959 Cadillac,Cadillac Ct6,Old School Cars\",\"is_image_or_video\":\"image\",\"image_src\":\"https://i.pinimg.com/originals/0d/29/9f/0d299f3df020395aa7ce8387f40fbeed.jpg\",\"downloaded\":1,\"save_location\":\"Local save in /data/vehicles\",\"category\":\"vehicles\"}"
        ],
        [
         "{\"index\":5494,\"unique_id\":\"8fb2af68-543b-4639-8119-de33d28706ed\",\"title\":\"Dave Ramsey's 7 Baby Steps: What Are They And Will They Work For You\",\"description\":\"If you love budgeting, make sure to give Dave Ramsey's 7 Baby Steps a try. Follow these steps to begin your debt snowball, build an emergency fund, invest and reach riches. I ca… \",\"poster_name\":\"Living Low Key | Save Money, Make Money, & Frugal Living\",\"follower_count\":\"26k\",\"tag_list\":\"Financial Peace,Financial Tips,Saving Money Quotes,Total Money Makeover,Budgeting Finances,Money Management,Wealth Management,Personal Finance,Making Ideas\",\"is_image_or_video\":\"image\",\"image_src\":\"https://i.pinimg.com/originals/1e/9d/90/1e9d906e4e150e3b95187f3b76ea7c71.png\",\"downloaded\":1,\"save_location\":\"Local save in /data/finance\",\"category\":\"finance\"}"
        ],
        [
         "{\"index\":5069,\"unique_id\":\"b75b6f87-deb3-444f-b29e-ce9161b2df49\",\"title\":\"The Vault: Curated & Refined Wedding Inspiration\",\"description\":\"Sacramento California Wedding 2 Chic Events & Design Jodi Yorston Photography Wilson Vineyards Barn Miosa Couture Yellow Barn Vineyard Outdoor Candles DIY\",\"poster_name\":\"Style Me Pretty\",\"follower_count\":\"6M\",\"tag_list\":\"60th Anniversary Parties,Anniversary Decorations,Golden Anniversary,25th Wedding Anniversary,Anniversary Pictures,Anniversary Ideas,Birthday Decorations,Event Planning Design,Event Design\",\"is_image_or_video\":\"image\",\"image_src\":\"https://i.pinimg.com/originals/7e/45/90/7e45905fefa36347e83333fd6d091140.jpg\",\"downloaded\":1,\"save_location\":\"Local save in /data/event-planning\",\"category\":\"event-planning\"}"
        ],
        [
         "{\"index\":2923,\"unique_id\":\"52fa3af5-24a4-4ccb-8f17-9c3eb12327ee\",\"title\":\"UFO Paper Plate Craft\",\"description\":\"A fun space activity for kids. Preshoolers and kindergartners will love making their own alien spacecraft!\",\"poster_name\":\"The Crafting Chicks\",\"follower_count\":\"192k\",\"tag_list\":\"Paper Plate Crafts For Kids,Fun Crafts For Kids,Summer Crafts,Toddler Crafts,Art For Kids,Outer Space Crafts For Kids,Kid Crafts,Space Kids,Back To School Crafts For Kids\",\"is_image_or_video\":\"image\",\"image_src\":\"https://i.pinimg.com/originals/6f/e8/aa/6fe8aa405513c6d2f77b5f47d17cdce8.jpg\",\"downloaded\":1,\"save_location\":\"Local save in /data/diy-and-crafts\",\"category\":\"diy-and-crafts\"}"
        ],
        [
         "{\"index\":3089,\"unique_id\":\"88f9227e-88d0-4b1c-b0be-bcfc3028b8e2\",\"title\":\"No Title Data Available\",\"description\":\"No description available Story format\",\"poster_name\":\"User Info Error\",\"follower_count\":\"User Info Error\",\"tag_list\":\"N,o, ,T,a,g,s, ,A,v,a,i,l,a,b,l,e\",\"is_image_or_video\":\"multi-video(story page format)\",\"image_src\":\"Image src error.\",\"downloaded\":0,\"save_location\":\"Local save in /data/diy-and-crafts\",\"category\":\"diy-and-crafts\"}"
        ],
        [
         "{\"index\":6063,\"unique_id\":\"60693727-4927-4bd6-a8c5-096a392d63e6\",\"title\":\"41 Gorgeous Fall Decor Ideas For Your Home - Chaylor & Mads\",\"description\":\"Beautiful and easy ways to update every room in your home with fall decor. Plus, my favorite finds in fall decor for 2020!\",\"poster_name\":\"Kristen | Lifestyle, Mom Tips & Teacher Stuff Blog\",\"follower_count\":\"92k\",\"tag_list\":\"Fall Home Decor,Autumn Home,Fall Decor Outdoor,Front Porch Fall Decor,Home Decor Ideas,Porch Ideas For Fall,Fall Outdoor Decorating,Decorating Ideas For Fall,Fall Front Doors\",\"is_image_or_video\":\"image\",\"image_src\":\"https://i.pinimg.com/originals/e5/ae/dc/e5aedc14ce557e3a69f672e0f8c88f6e.png\",\"downloaded\":1,\"save_location\":\"Local save in /data/home-decor\",\"category\":\"home-decor\"}"
        ],
        [
         "{\"index\":3454,\"unique_id\":\"46bd3f86-b09d-4e29-9033-7ff2df595e51\",\"title\":\"What can you use to color resin?\",\"description\":\"HELPFUL RESOURCES – Check out my resin colorants resources page here with links to all the products mentioned in this article (and more). Let me know if you have any that you lo… \",\"poster_name\":\"Mixed Media Crafts\",\"follower_count\":\"6k\",\"tag_list\":\"Epoxy Resin Art,Diy Resin Art,Diy Resin Crafts,Resin Molds,Ice Resin,Resin Pour,Diy Epoxy,Diy Resin Painting,Diy Resin Dice\",\"is_image_or_video\":\"image\",\"image_src\":\"https://i.pinimg.com/originals/d4/12/78/d4127833023ca32600571ddca16f1556.jpg\",\"downloaded\":1,\"save_location\":\"Local save in /data/diy-and-crafts\",\"category\":\"diy-and-crafts\"}"
        ],
        [
         "{\"index\":7554,\"unique_id\":\"c6fa12f4-0d4a-4b07-a335-5bf9f37f8281\",\"title\":\"Craig Style\",\"description\":\"imgentleboss: “ - More about men’s fashion at @Gentleboss - GB’s Facebook - ”\",\"poster_name\":\"iElylike ..✿◕‿◕✿ஐ✿◕‿◕✿\",\"follower_count\":\"940\",\"tag_list\":\"Mens Fashion Blog,Look Fashion,Autumn Fashion,Fashion News,Fashion Sale,80s Fashion,Paris Fashion,Runway Fashion,Fashion Trends\",\"is_image_or_video\":\"image\",\"image_src\":\"https://i.pinimg.com/originals/e7/6e/8e/e76e8ed6cc838b84a934c6948a5caff7.jpg\",\"downloaded\":1,\"save_location\":\"Local save in /data/mens-fashion\",\"category\":\"mens-fashion\"}"
        ],
        [
         "{\"index\":6145,\"unique_id\":\"82e13a07-db99-43a3-b1c0-89a4b75821da\",\"title\":\"HOLIDAY MANTLE DECOR - @AMAZON & @TARGET FINDS\",\"description\":\"Holiday mantle decor, Christmas decor, metallic mercury glass style Christmas trees, eucalyptus vine, evergreen pine branches, white neutral holiday decor, cozy mantle for the h… \",\"poster_name\":\"Stylin by Aylin\",\"follower_count\":\"83k\",\"tag_list\":\"Winter Home Decor,Christmas Living Room Decor,Living Room Decor Cozy,Christmas Decor,Cozy Fireplace,Rustic Fireplace Decor,Fireplace Decorations,Rustic Room,House Decorations\",\"is_image_or_video\":\"image\",\"image_src\":\"https://i.pinimg.com/originals/9d/82/1a/9d821a80acd8f90c16454e978bd9b115.jpg\",\"downloaded\":1,\"save_location\":\"Local save in /data/home-decor\",\"category\":\"home-decor\"}"
        ],
        [
         "{\"index\":10625,\"unique_id\":\"d31885b7-742a-4e2a-bbb7-ac5f9d334340\",\"title\":\"Jaguar Type E\",\"description\":\"1937 Jaguar SS100 - 2 1/2 Litre Roadster, one of the most sought after pre-war sports cars\",\"poster_name\":\"hobbyDB\",\"follower_count\":\"8k\",\"tag_list\":\"Jaguar Type E,Jaguar Xk,Jaguar Cars,Jaguar Roadster,Jaguar Sport,Retro Cars,Vintage Cars,Antique Cars,British Sports Cars\",\"is_image_or_video\":\"image\",\"image_src\":\"https://i.pinimg.com/originals/26/81/a7/2681a71bd0c8f7fd0ab79c455338a49a.jpg\",\"downloaded\":1,\"save_location\":\"Local save in /data/vehicles\",\"category\":\"vehicles\"}"
        ],
        [
         "{\"index\":2959,\"unique_id\":\"439cac4b-18e8-4aaa-88c5-edb26a701111\",\"title\":\"The Cutest Toilet Paper Crafts\",\"description\":\"One thing I love about Crafts is how the evolve! These toilet paper rolls are adorable and modern. I love that something as simple as a recycled toilet paper roll can be taken t… \",\"poster_name\":\"CraftGossip.com\",\"follower_count\":\"502k\",\"tag_list\":\"Toilet Paper Roll Crafts,Cardboard Crafts,Diy Paper,Paper Crafting,Toilet Paper Rolls,Cardboard Playhouse,Paper Art,Kids Crafts,Toddler Crafts\",\"is_image_or_video\":\"image\",\"image_src\":\"https://i.pinimg.com/originals/c6/cd/0d/c6cd0d04da9cfc11566cfd34eeb1f918.jpg\",\"downloaded\":1,\"save_location\":\"Local save in /data/diy-and-crafts\",\"category\":\"diy-and-crafts\"}"
        ],
        [
         "{\"index\":9875,\"unique_id\":\"782dcbad-ff91-40a6-ba60-216efe29adb7\",\"title\":\"European Bucket List: 35 Things NOT To Miss When Traveling Europe\",\"description\":\"35 European bucket list destinations for any traveler heading to Europe. From Cinque Terre, Italy to Iceland - there are so many amazing sites to see in Europe.\",\"poster_name\":\"Nicki \",\"follower_count\":\"28k\",\"tag_list\":\"Backpacking Europe,Europe Travel Guide,Travel Guides,Travel Packing,Traveling Europe,Travelling,Travel Backpack,Budget Travel,2 Week Europe Itinerary\",\"is_image_or_video\":\"image\",\"image_src\":\"https://i.pinimg.com/originals/71/04/1a/71041ad83ede43d9665741e719c58a86.jpg\",\"downloaded\":1,\"save_location\":\"Local save in /data/travel\",\"category\":\"travel\"}"
        ],
        [
         "{\"index\":2418,\"unique_id\":\"da8745a6-5160-46c4-877d-181d50a729fd\",\"title\":\"100 DIY Christmas Centerpieces You'll Love To Decorate Your Home With For The Christmas Season - Hike n Dip\",\"description\":\"Here are the best DIY Christmas Centerpieces ideas perfect for your Christmas & holiday season home decor. From Christmas Vignettes to Table Centerpieces.\",\"poster_name\":\"HikenDip\",\"follower_count\":\"500k\",\"tag_list\":\"Farmhouse Christmas Decor,Rustic Christmas,Christmas Time,Vintage Christmas,Xmas,Primitive Christmas Crafts,Christmas Vignette,Indoor Christmas Decorations,Diy Christmas Ornaments\",\"is_image_or_video\":\"image\",\"image_src\":\"https://i.pinimg.com/originals/aa/6d/0f/aa6d0f44d7c1c96b998cb9aa6c4446b8.png\",\"downloaded\":1,\"save_location\":\"Local save in /data/christmas\",\"category\":\"christmas\"}"
        ],
        [
         "{\"index\":3156,\"unique_id\":\"fa6e31a4-18c2-4eca-a6d8-e903eee2c2a4\",\"title\":\"Handprint Reindeer Ornaments - Crafty Morning\",\"description\":\"This post may contain affiliate links, read our Disclosure Policy for more information. As an Amazon Associate I earn from qualifying purchases, thank you! Make some cute handpr… \",\"poster_name\":\"Michelle {CraftyMorning.com}\",\"follower_count\":\"892k\",\"tag_list\":\"Christmas Gifts For Parents,Christmas Decorations For Kids,Christmas Crafts For Toddlers,Preschool Christmas,Christmas Crafts For Gifts,Christmas Activities,Toddler Crafts,Kids Christmas,Christmas Feeling\",\"is_image_or_video\":\"image\",\"image_src\":\"https://i.pinimg.com/originals/ff/fe/38/fffe384f3ec18a0d87cb2d80cc8c1499.jpg\",\"downloaded\":1,\"save_location\":\"Local save in /data/diy-and-crafts\",\"category\":\"diy-and-crafts\"}"
        ],
        [
         "{\"index\":428,\"unique_id\":\"610b3f83-9fe0-469d-946c-d16b577fca71\",\"title\":\"Fashion Designer Isaac Mizrahi’s Updated 1930s New York City Apartment\",\"description\":\"Fashion designer Issac Mizrahi’s Greenwich Village home is an amalgamation of three apartments that was 20 years in the making\",\"poster_name\":\"Architectural Digest\",\"follower_count\":\"3M\",\"tag_list\":\"Modern Art,Contemporary Art,Contemporary Kitchens,Contemporary Bedroom,New York City Apartment,Manhattan Apartment,Art Moderne,Architectural Digest,Painting Inspiration\",\"is_image_or_video\":\"image\",\"image_src\":\"https://i.pinimg.com/originals/f4/6c/54/f46c546a2e480022a42d842b7dca157e.jpg\",\"downloaded\":1,\"save_location\":\"Local save in /data/art\",\"category\":\"art\"}"
        ],
        [
         "{\"index\":7343,\"unique_id\":\"b8c63a95-6fe8-4d7f-9455-1eef3462fee0\",\"title\":\"This Fashion Rule Is Nonsense, And We Should All Forget About It\",\"description\":\"Black And Brown Outfits You Need To Try This Fall Season. The trick with black and brown outfits is to know how to combine colors, fabrics, and shapes to get a cohesive look. So… \",\"poster_name\":\"Cultura Colectiva\",\"follower_count\":\"1M\",\"tag_list\":\"Winter Outfits Men,Stylish Mens Outfits,Casual Outfits,Men Casual,Smart Casual,Outfits For Men,Fall Outfits,Mens Winter Boots,Business Casual Men\",\"is_image_or_video\":\"image\",\"image_src\":\"https://i.pinimg.com/originals/3e/49/09/3e4909c0ccc4dbba3cad83d97eab4a61.png\",\"downloaded\":1,\"save_location\":\"Local save in /data/mens-fashion\",\"category\":\"mens-fashion\"}"
        ],
        [
         "{\"index\":2074,\"unique_id\":\"86ed09a7-842d-496d-9501-010c654eb340\",\"title\":\"35 Christmas Decorating Ideas We Bet You Haven't Thought Of\",\"description\":\"20 Christmas Decorating Ideas We Bet You Haven't Thought Of via @PureWow\",\"poster_name\":\"PureWow\",\"follower_count\":\"868k\",\"tag_list\":\"Holiday Centerpieces,Xmas Decorations,Centerpiece Ideas,Table Centerpieces,Valentine Decorations,Wedding Centerpieces,Outdoor Decorations,Christmas Centerpieces With Candles,Christmas Dining Table Decorations\",\"is_image_or_video\":\"image\",\"image_src\":\"https://i.pinimg.com/originals/e9/b9/f0/e9b9f01cc3b2cf41948b45854335396c.jpg\",\"downloaded\":1,\"save_location\":\"Local save in /data/christmas\",\"category\":\"christmas\"}"
        ],
        [
         "{\"index\":9979,\"unique_id\":\"2b2abc85-fc51-481f-8ae6-17681993da28\",\"title\":\"Paris in the Summer. 10 fun things to do in Paris in the Summertime • Petite in Paris\",\"description\":\"Are you traveling to Paris during the summer? Find out what to do in Paris, France during the summer. Fun summertime activities in Paris. Enjoy the incredible outdoors when trav… \",\"poster_name\":\"Petite in Paris\",\"follower_count\":\"3k\",\"tag_list\":\"Torre Eiffel Paris,Tour Eiffel,Picnic In Paris,Hello France,Voyage Europe,Destination Voyage,Beautiful Places To Travel,Travel Aesthetic,Paris Travel\",\"is_image_or_video\":\"image\",\"image_src\":\"https://i.pinimg.com/originals/6c/4c/90/6c4c90bba27ebf8c8bfe4c1acfb9f07a.jpg\",\"downloaded\":1,\"save_location\":\"Local save in /data/travel\",\"category\":\"travel\"}"
        ],
        [
         "{\"index\":10138,\"unique_id\":\"927c4658-cc3f-4b92-9b5c-70743d0c238d\",\"title\":\"14 Amazing Things To Do In Costa Rica | Volcanoes, Waterfalls, Wildlife And More\",\"description\":\"This Costa Rica itinerary is the ultimate guide to spending two weeks in Costa Rica. Find out about visiting La Fortuna, Arenal, Monteverde, Naranjo, Corcovado National Park, Or… \",\"poster_name\":\"Wanderlust Chloe ✈️ Travel guides, inspo and adventure travel ✈️\",\"follower_count\":\"10k\",\"tag_list\":\"Costa Rica Travel,Rio Celeste Costa Rica,Dream Vacations,Vacation Spots,Vacation Travel,Travel Pictures,Travel Photos,Fortuna Costa Rica,Costa Rica Pictures\",\"is_image_or_video\":\"image\",\"image_src\":\"https://i.pinimg.com/originals/30/93/cb/3093cb01d9de2d125fda8ba5e3e41946.jpg\",\"downloaded\":1,\"save_location\":\"Local save in /data/travel\",\"category\":\"travel\"}"
        ],
        [
         "{\"index\":9672,\"unique_id\":\"1a5050a4-ac82-472c-aeff-3457de8bbee9\",\"title\":\"Lake Moraine, Banff, Canada\",\"description\":\"On our Calgary to Vancouver road trip we got to spend time in Banff, Canada. We visited the stunning Lake Moraine as well as Lake Louise and plenty of other of Canada's natural… \",\"poster_name\":\"Travel Mad Mum\",\"follower_count\":\"7k\",\"tag_list\":\"Beautiful Places To Travel,Cool Places To Visit,Beautiful Roads,Beautiful Scenery,Wonderful Places,Lac Moraine,Moraine Lake,Lac Louise,Natur Wallpaper\",\"is_image_or_video\":\"video\",\"image_src\":\"https://i.pinimg.com/videos/thumbnails/originals/57/9d/52/579d52242ae5609978c754d393e44e81.0000001.jpg\",\"downloaded\":1,\"save_location\":\"Local save in /data/travel\",\"category\":\"travel\"}"
        ],
        [
         "{\"index\":8653,\"unique_id\":\"24b1343c-4d86-4705-8ec9-7f1f2df2d77e\",\"title\":\"Unique Women Tattoos Ideas 2020\",\"description\":\"We welcome you to our latest collection of Beautiful Tattoo Ideas For Women. Check out and get inspired by the most beautiful design for yourself.\",\"poster_name\":\"ALL FOR WOMAN\",\"follower_count\":\"21k\",\"tag_list\":\"Small Back Tattoos,Small Girl Tattoos,Little Tattoos,Tattoo Girls,Mini Tattoos,Tattoo Small,Back Tattoo Women,Tattoo On Back,Girl Back Tattoos\",\"is_image_or_video\":\"image\",\"image_src\":\"https://i.pinimg.com/originals/fa/cf/7c/facf7cd752a4bc7c09faaa8925ab80b1.jpg\",\"downloaded\":1,\"save_location\":\"Local save in /data/tattoos\",\"category\":\"tattoos\"}"
        ],
        [
         "{\"index\":8887,\"unique_id\":\"5df9f6e5-07f5-4ce8-a82e-96586bbc05d8\",\"title\":\"25 Ultra Sexy Back Tattoo Ideas For Girls\",\"description\":\"Tattoos are one of the most efficient ways through which one decides to express themselves…\",\"poster_name\":\"RapidLeaks\",\"follower_count\":\"4k\",\"tag_list\":\"Dream Tattoos,Body Art Tattoos,New Tattoos,Small Tattoos,Cross Tattoos,Random Tattoos,Fashion Tattoos,Bird Tattoos,Fitness Tattoos\",\"is_image_or_video\":\"image\",\"image_src\":\"https://i.pinimg.com/originals/ab/8e/50/ab8e505b04d4abc8f23e273c15f8a65d.jpg\",\"downloaded\":1,\"save_location\":\"Local save in /data/tattoos\",\"category\":\"tattoos\"}"
        ],
        [
         "{\"index\":7922,\"unique_id\":\"a584581c-1b38-4731-a1cc-f36115ecf229\",\"title\":\"45 Top Life Quotes School Did Not Teach You\",\"description\":\"summcoco gives you inspiration for the women fashion trends you want. Thinking about a new look or lifestyle? This is your ultimate resource to get the hottest trends. 45 Top Li… \",\"poster_name\":\"Sumcoco | Decor Ideas, Hairstyles, Nails Fashion Advice\",\"follower_count\":\"306k\",\"tag_list\":\"Life Quotes Love,Inspirational Quotes About Love,Mood Quotes,Motivational Quotes,Tears Quotes,Quotes About Sadness,Deep Quotes About Life,Quotes Quotes,Quote Life\",\"is_image_or_video\":\"image\",\"image_src\":\"https://i.pinimg.com/originals/bb/c0/e6/bbc0e6a797079505f11ac12bcb0b8c66.jpg\",\"downloaded\":1,\"save_location\":\"Local save in /data/quotes\",\"category\":\"quotes\"}"
        ],
        [
         "{\"index\":1014,\"unique_id\":\"9ac94307-bb27-410e-b554-0a0ab6c19847\",\"title\":\"Hairstyles & Beauty\",\"description\":\"Untitled\",\"poster_name\":\"Grecia Perales\",\"follower_count\":\"0\",\"tag_list\":\"Hair Inspo,Hair Inspiration,Motivation Inspiration,Cl Rapper,Foto Glamour,Kreative Portraits,Classy Aesthetic,Pretty Hairstyles,Hair Looks\",\"is_image_or_video\":\"image\",\"image_src\":\"https://i.pinimg.com/originals/af/c4/59/afc459bd6e1fd8f9aef212504afebf3a.jpg\",\"downloaded\":1,\"save_location\":\"Local save in /data/beauty\",\"category\":\"beauty\"}"
        ],
        [
         "{\"index\":4913,\"unique_id\":\"4d2d79c6-9ca8-46c9-a38e-931c5d967804\",\"title\":\"How to Work From Home as an Event Planner\",\"description\":\"Do you love planning parties? Do you want to work-at-home? This post covers everything you need to know about becoming a home-based event planner!\",\"poster_name\":\"The Work at Home Woman\",\"follower_count\":\"110k\",\"tag_list\":\"Event Planning Tips,Event Planning Business,Party Planning,Business Ideas,Craft Business,Business Chic,Business Inspiration,Business Goals,Business Opportunities\",\"is_image_or_video\":\"image\",\"image_src\":\"https://i.pinimg.com/originals/4d/a3/a4/4da3a4730418239f1b43ce81fb032c15.jpg\",\"downloaded\":1,\"save_location\":\"Local save in /data/event-planning\",\"category\":\"event-planning\"}"
        ],
        [
         "{\"index\":4137,\"unique_id\":\"bf275054-4464-448b-9143-1bf101aa366d\",\"title\":\"15 Essential Classroom Items For First Year Teachers / First Year Teacher Must Haves\",\"description\":\"15 Essential Classroom Items For First Year Teachers / First Year Teacher Must Haves\",\"poster_name\":\"Write Your Story | Budgeting, Healthy Lifestyle, Faith\",\"follower_count\":\"5k\",\"tag_list\":\"1st Year Teachers,First Year Teaching,First Grade Teachers,Elementary Teacher,Montessori Elementary,Teaching Reading,History Teachers,High School Classroom,First Grade Classroom\",\"is_image_or_video\":\"image\",\"image_src\":\"https://i.pinimg.com/originals/4b/b9/a8/4bb9a85f609a8384ed9c9ab14e7bcea0.jpg\",\"downloaded\":1,\"save_location\":\"Local save in /data/education\",\"category\":\"education\"}"
        ],
        [
         "{\"index\":7166,\"unique_id\":\"4a844b03-e161-47a1-904b-591eb5dc4fb1\",\"title\":\"The Killers - Mr. Brightside - Women's T-Shirt - Heather Dark Grey / S\",\"description\":\"Women's T-shirt. Design inspired by the rock band The Killers' hit \\\"Mr. Brightside\\\". One of the greatest song from the album Hot Fuss released in 2004. Soft and light, 100% cott… \",\"poster_name\":\"Mala Rock | Rock T-shirts\",\"follower_count\":\"27\",\"tag_list\":\"Mr Brightside,Rock T Shirts,Greatest Songs,Timeless Classic,Rock Bands,Album,T Shirts For Women,Inspired,Hot\",\"is_image_or_video\":\"image\",\"image_src\":\"https://i.pinimg.com/originals/8c/42/39/8c42391d35fcad51a4a79f7cd81bf26d.jpg\",\"downloaded\":1,\"save_location\":\"Local save in /data/mens-fashion\",\"category\":\"mens-fashion\"}"
        ],
        [
         "{\"index\":9546,\"unique_id\":\"efd5b2d6-2f69-40cd-bb59-41f18c089e52\",\"title\":\"20 Amazing Trips to Take in Your Twenties!\",\"description\":\"The best trips to take when you are young!\",\"poster_name\":\"The World Pursuit Travel Website\",\"follower_count\":\"89k\",\"tag_list\":\"Fun Places To Go,Beautiful Places To Travel,Best Places To Travel,Travel Jobs,Holiday Places,Future Travel,Travel Around The World,Adventure Travel,Travel Photos\",\"is_image_or_video\":\"video\",\"image_src\":\"https://i.pinimg.com/videos/thumbnails/originals/81/97/c1/8197c1beef8bcb19bea5d8b422211f34.0000001.jpg\",\"downloaded\":1,\"save_location\":\"Local save in /data/travel\",\"category\":\"travel\"}"
        ],
        [
         "{\"index\":2411,\"unique_id\":\"4e11801e-7a64-4f1e-90dd-e900677595c5\",\"title\":\"The Sweetest Gingerbread House Ornaments Kids Can Make\",\"description\":\"Transform mini terra cotta pots into the sweetest gingerbread house ornaments! Kids will love making this adorable Christmas craft to hang on the tree.\",\"poster_name\":\"Projects with Kids\",\"follower_count\":\"20k\",\"tag_list\":\"Noel Christmas,Diy Christmas Ornaments,Homemade Christmas,Simple Christmas,Gingerbread Ornaments,Christmas Gingerbread,Gingerbread Houses,Preschool Christmas,Ornaments Ideas\",\"is_image_or_video\":\"image\",\"image_src\":\"https://i.pinimg.com/originals/13/28/09/1328097d7c290d1bf8642b01a6ba1c6c.jpg\",\"downloaded\":1,\"save_location\":\"Local save in /data/christmas\",\"category\":\"christmas\"}"
        ],
        [
         "{\"index\":9590,\"unique_id\":\"b849e976-52f6-45d7-8b25-51559318f167\",\"title\":\"Top 20 Things To See And Do In Ireland\",\"description\":\"Best spots to see for travel through Ireland!\",\"poster_name\":\"Fun Life Crisis\",\"follower_count\":\"130k\",\"tag_list\":\"Vacation Ideas,Vacation Spots,Emerald Isle,London England,Travel Guides,Travel Tips,Travel Hacks,Travel Packing,Places To Travel\",\"is_image_or_video\":\"image\",\"image_src\":\"https://i.pinimg.com/originals/c7/50/d3/c750d36524856873d64406652d69b4fb.png\",\"downloaded\":1,\"save_location\":\"Local save in /data/travel\",\"category\":\"travel\"}"
        ],
        [
         "{\"index\":2698,\"unique_id\":\"73f16302-4871-486a-8836-947530526337\",\"title\":\"DIY Dollar Tree Valentine's Day Wreath\",\"description\":\"DIY Dollar Store Valentine’s Day Heart Wreath Decoration. There are so many great Valentine crafts at the Dollar Tree right now! During our last trip, we picked up a few supplie… \",\"poster_name\":\"South Lumina Style\",\"follower_count\":\"9k\",\"tag_list\":\"Valentine Day Wreaths,Valentines Day Hearts,Valentines Day Decorations,Valentine Day Crafts,Holiday Crafts,Diy Christmas,Christmas Wreaths,Valentine Tree,Printable Valentine\",\"is_image_or_video\":\"image\",\"image_src\":\"https://i.pinimg.com/originals/dc/f6/8a/dcf68adcc63c339c24fa5664f1115994.png\",\"downloaded\":1,\"save_location\":\"Local save in /data/diy-and-crafts\",\"category\":\"diy-and-crafts\"}"
        ],
        [
         "{\"index\":4508,\"unique_id\":\"9064f4a2-2753-476c-815e-db360f45a93e\",\"title\":\"Custom Event and Shop Neon Sign Lights - Event & Shop\",\"description\":\"Personalize your event or shop with a customized neon sign. Make a statement with your own custom vibes! This light is 32 -40 inches (80cm-100cm) if you need something bigger, p… \",\"poster_name\":\"Life of Neon | Custom Neon Light Signs | Home Decor Wall Art\",\"follower_count\":\"111\",\"tag_list\":\"Our Wedding,Wedding Venues,Dream Wedding,Wedding Cakes,Church Wedding,Wedding Flowers,Lace Wedding,Wedding Rings,Wedding Dresses\",\"is_image_or_video\":\"image\",\"image_src\":\"https://i.pinimg.com/originals/e9/c0/7c/e9c07cf0cf16cab23764a36718ab76c1.jpg\",\"downloaded\":1,\"save_location\":\"Local save in /data/event-planning\",\"category\":\"event-planning\"}"
        ],
        [
         "{\"index\":831,\"unique_id\":\"5e65914d-9f58-4ff1-9676-658e426e8ce5\",\"title\":\"creating mixed-media faces tutorial\",\"description\":\"Free quick inspirational video on creating a mixed media face with acrylic, collage, stenciling and simple techniques. Come on over to watch\",\"poster_name\":\"Shawn Petite\",\"follower_count\":\"27k\",\"tag_list\":\"Collage Kunst,Paper Collage Art,Collage Art Mixed Media,Mixed Media Painting,Mixed Media Canvas,Canvas Collage,Art Collages,Wall Canvas,Canvas Art\",\"is_image_or_video\":\"video\",\"image_src\":\"https://i.pinimg.com/videos/thumbnails/originals/05/86/a4/0586a4116e1fc34efc25e064ccd123e8.0000001.jpg\",\"downloaded\":1,\"save_location\":\"Local save in /data/art\",\"category\":\"art\"}"
        ],
        [
         "{\"index\":5076,\"unique_id\":\"fa3af29c-dc78-4eed-a4c5-52a407ea04c0\",\"title\":\"Quiz: Test Your Event IQ! - Pointers For Planners\",\"description\":\"So you're thinking of getting your event planner certification, but how much do you REALLY know about event planning? Event planners need to be knowledgeable and able to answer… \",\"poster_name\":\"QC Career School\",\"follower_count\":\"5k\",\"tag_list\":\"Diy Wedding Food,Best Wedding Makeup,Wedding Events,Wedding Tips,Wedding Stuff,Weddings,Event Planning Business,Business Events,Wedding Makeup Tutorial\",\"is_image_or_video\":\"image\",\"image_src\":\"https://i.pinimg.com/originals/6f/19/bc/6f19bce24921bf843540fc04da9eb6bf.jpg\",\"downloaded\":1,\"save_location\":\"Local save in /data/event-planning\",\"category\":\"event-planning\"}"
        ],
        [
         "{\"index\":10663,\"unique_id\":\"d5208c16-82ae-4fd1-87f0-36e5ef789412\",\"title\":\"21+ Classic Car Picture of the 1950s - Vintagetopia\",\"description\":\"There are a lot of options of places to stay so you probably only have to book the initial one so you know the best place to land from the airport\",\"poster_name\":\"vintagetopia\",\"follower_count\":\"171k\",\"tag_list\":\"Old Classic Cars,Classic Trucks,Old Vintage Cars,Antique Cars,Vintage Trucks,Antique Trucks,Cadillac,Convertible,Mustang\",\"is_image_or_video\":\"image\",\"image_src\":\"https://i.pinimg.com/originals/e9/01/4d/e9014d537dd2b81c606e8466cef3904c.jpg\",\"downloaded\":1,\"save_location\":\"Local save in /data/vehicles\",\"category\":\"vehicles\"}"
        ],
        [
         "{\"index\":5468,\"unique_id\":\"91ee49f6-0070-4270-ba19-fde88ba51c91\",\"title\":\"Budgets, Spouses & Making It Work! - Tshanina Peterson\",\"description\":\"Don't fight about budgets and money with your spouse! Here are a few tips that we've found that make it work in our marriage!\",\"poster_name\":\"Annamarie Hilton\",\"follower_count\":\"313\",\"tag_list\":\"Ways To Save Money,Money Tips,Money Saving Tips,How To Make Money,Managing Money,Saving Time,College Fund,Scholarships For College,Education College\",\"is_image_or_video\":\"image\",\"image_src\":\"https://i.pinimg.com/originals/37/d5/82/37d58296bcef3471a633c76b89d8625e.jpg\",\"downloaded\":1,\"save_location\":\"Local save in /data/finance\",\"category\":\"finance\"}"
        ],
        [
         "{\"index\":205,\"unique_id\":\"f4afd543-b9fe-44c3-8064-f2198faa1372\",\"title\":\"DIY Abstract Heart Painting and a Fun Paint Party\",\"description\":\"Use our easy step by step tutorial to create a DIY abstract heart painting on any canvas size. Lots of inspiration to help you choose colors.\",\"poster_name\":\"The Creativity Exchange\",\"follower_count\":\"410k\",\"tag_list\":\"Painting & Drawing,Watercolor Paintings,Original Paintings,Owl Watercolor,Acrylic Paintings,Owl Art,Bird Art,Beginner Painting,Animal Paintings\",\"is_image_or_video\":\"image\",\"image_src\":\"https://i.pinimg.com/originals/33/85/f8/3385f82ee5e8ecdcccdf798bdcbee3d2.jpg\",\"downloaded\":1,\"save_location\":\"Local save in /data/art\",\"category\":\"art\"}"
        ],
        [
         "{\"index\":7790,\"unique_id\":\"9cd89fb9-d1af-4e66-85ca-c9d656c918b4\",\"title\":\"50 Heart Touching Sad Quotes That Will Make You Cry\",\"description\":\"Are you looking for some heart touching sad quotes and sayings; Here we have collected for you 50 best heart touching sad quotes..\",\"poster_name\":\"AnnaLee Kick\",\"follower_count\":\"112\",\"tag_list\":\"Crush Quotes For Girls,Sad Crush Quotes,Hurt Quotes,Love Me Quotes,Mood Quotes,Quotes To Live By,Life Quotes,Quotes Quotes,Sad Quotes That Make You Cry\",\"is_image_or_video\":\"image\",\"image_src\":\"https://i.pinimg.com/originals/0c/0f/40/0c0f408d96458080e0c82adb50be8e8f.jpg\",\"downloaded\":1,\"save_location\":\"Local save in /data/quotes\",\"category\":\"quotes\"}"
        ],
        [
         "{\"index\":8606,\"unique_id\":\"71757040-bfc8-4631-9cac-22801e61d9e3\",\"title\":\"30+ Eagle Tattoos Ideas for Women\",\"description\":\"summcoco gives you inspiration for the women fashion trends you want. Thinking about a new look or lifestyle? This is your ultimate resource to get the hottest trends. 30+ Eagle… \",\"poster_name\":\"Sumcoco | Decor Ideas, Hairstyles, Nails Fashion Advice\",\"follower_count\":\"306k\",\"tag_list\":\"White Bird Tattoos,Rose Tattoos,Flower Tattoos,Tattoo Black,Bird And Flower Tattoo,Tattoo Floral,Mini Tattoos,Flower Art,Girls With Sleeve Tattoos\",\"is_image_or_video\":\"image\",\"image_src\":\"https://i.pinimg.com/originals/8d/c6/ed/8dc6ed0b212393187a14c7d07a88060f.png\",\"downloaded\":1,\"save_location\":\"Local save in /data/tattoos\",\"category\":\"tattoos\"}"
        ],
        [
         "{\"index\":9759,\"unique_id\":\"d105eb6e-0f9f-46e7-8d02-d24b62f6ae90\",\"title\":\"8 Best Greek Islands You Have To Visit - TheFab20s\",\"description\":\"Although you'd think Greek islands are fairly similar, you'd be completely wrong! Each island has it's own personality and appeal. Here are the 8 Best Greek Islands to visit, es… \",\"poster_name\":\"TheFab20s | Travel+Food+DIY+Listicles\",\"follower_count\":\"42k\",\"tag_list\":\"Greek Islands To Visit,Best Greek Islands,Greece Islands,Cool Places To Visit,Places To Go,Best Places In Portugal,Copenhagen Travel,Paros Island,Santorini Island\",\"is_image_or_video\":\"image\",\"image_src\":\"https://i.pinimg.com/originals/06/1d/ce/061dce38929dec8e74844442116bea4a.jpg\",\"downloaded\":1,\"save_location\":\"Local save in /data/travel\",\"category\":\"travel\"}"
        ],
        [
         "{\"index\":719,\"unique_id\":\"d7c53e34-9540-4f48-a31b-89b6ed1852bb\",\"title\":\"10 Art Sub Lessons that only need a Pencil\",\"description\":\"10 art sub lessons that only need a pencil. Cover lessons for art teachers. Make the perfect art sub lessson folder with this amazing resources.\",\"poster_name\":\"The Arty Teacher\",\"follower_count\":\"25k\",\"tag_list\":\"Art Lessons For Kids,Art Lessons Elementary,Art For Kids,Art Sub Plans,Art Lesson Plans,Art Substitute Plans,High School Art,Middle School Art,Primary School Art\",\"is_image_or_video\":\"image\",\"image_src\":\"https://i.pinimg.com/originals/ee/a8/78/eea878911033897d981a69d9f6b2fb7c.png\",\"downloaded\":1,\"save_location\":\"Local save in /data/art\",\"category\":\"art\"}"
        ],
        [
         "{\"index\":1704,\"unique_id\":\"5fbf9863-fb79-477c-a5b6-540c3020a55f\",\"title\":\"Christmas Trees From Pallet Wood | Holiday DIY\",\"description\":\"Christmas Trees From Pallet Wood | Holiday DIY: Deck the yard with some fun outdoor Christmas Trees! We made these merry and bright decorations from two old pallets we had lying… \",\"poster_name\":\"Instructables\",\"follower_count\":\"3M\",\"tag_list\":\"Pallet Wood Christmas Tree,Wooden Christmas Crafts,Diy Christmas Tree,Christmas Projects,Holiday Crafts,Wooden Xmas Trees,Different Christmas Trees,Pallet Tree,Christmas Kitchen\",\"is_image_or_video\":\"image\",\"image_src\":\"https://i.pinimg.com/originals/64/7b/ca/647bca35169b7c144604116c64bcba8a.png\",\"downloaded\":1,\"save_location\":\"Local save in /data/christmas\",\"category\":\"christmas\"}"
        ],
        [
         "{\"index\":2482,\"unique_id\":\"08604f20-fa17-4b9a-9949-781717eca6cd\",\"title\":\"FORNT PORCH CHRISTMAS DECORATING IDEAS\",\"description\":\"Christmas decorating ideas for porches. Beautiful holiday decor ideas for front porches both small and large. Outdoor decorations like sleds, lanterns, Christmas trees, wreaths,… \",\"poster_name\":\"Life on Summerhill | Home, Holiday Decor & DIY Website\",\"follower_count\":\"46k\",\"tag_list\":\"Diy Christmas Decorations For Home,Farmhouse Christmas Decor,Christmas Home,Christmas Holidays,Christmas Front Porches,How To Decorate For Christmas,Christmas Porch Ideas,Christmas Decorating Ideas,Large Outdoor Christmas Decorations\",\"is_image_or_video\":\"video\",\"image_src\":\"https://i.pinimg.com/videos/thumbnails/originals/40/83/f5/4083f5b4971bf235f89a4784ab87271e.0000001.jpg\",\"downloaded\":1,\"save_location\":\"Local save in /data/christmas\",\"category\":\"christmas\"}"
        ],
        [
         "{\"index\":8930,\"unique_id\":\"a2999c28-f7b2-4577-af87-49d21d6d8a18\",\"title\":\"135 Sunflower Tattoo Ideas - [Best Rated Designs in 2021]\",\"description\":\"We have put together the Ultimative Sunflower Tattoo Collection in 2020. Check out our highest rated handpicked Sunflower designs here!\",\"poster_name\":\"Next Luxury\",\"follower_count\":\"800k\",\"tag_list\":\"Sunflower Tattoo Sleeve,Sunflower Tattoo Shoulder,Sunflower Tattoo Small,Sunflower Tattoos,Sunflower Tattoo Design,Shoulder Tattoo,Sunflower Mandala Tattoo,Sunflower Tattoo Meaning,Form Tattoo\",\"is_image_or_video\":\"image\",\"image_src\":\"https://i.pinimg.com/originals/18/de/6c/18de6c81a8637e224c7d63dce1414ceb.jpg\",\"downloaded\":1,\"save_location\":\"Local save in /data/tattoos\",\"category\":\"tattoos\"}"
        ],
        [
         "{\"index\":7294,\"unique_id\":\"9d8409ef-bea7-4133-a021-c58b9c042210\",\"title\":\"Foolproof Fall Fashion For Men You'll Love\",\"description\":\"Looking for the coolest fall fashion for men this season? Click to read this article on fall fashion for men to look sharp on LLEGANCE.\",\"poster_name\":\"LLEGANCE | Workwear Fashion Woman Advice For Driven Professionals\",\"follower_count\":\"28k\",\"tag_list\":\"Fashion 90s,Autumn Fashion,Fashion Ideas,Trendy Fashion,Fashion Photo,Fashion Outfits,Fashion Trends,Urban Fashion Men,Men's Casual Fashion\",\"is_image_or_video\":\"image\",\"image_src\":\"https://i.pinimg.com/originals/4c/bf/2d/4cbf2d6e04d2502612169220553f4cef.jpg\",\"downloaded\":1,\"save_location\":\"Local save in /data/mens-fashion\",\"category\":\"mens-fashion\"}"
        ],
        [
         "{\"index\":808,\"unique_id\":\"23f67e42-db9f-4aae-8b82-cbec64ad9f4d\",\"title\":\"Chalk Pastel Hot Chocolate Art Project\",\"description\":\"Kids will use chalk pastels and black paper to create this bold and bright hot chocolate art project! Easy to follow tutorial included.\",\"poster_name\":\"Projects with Kids\",\"follower_count\":\"20k\",\"tag_list\":\"Hot Chocolate Art,Chocolate Crafts,Art Activities For Kids,Preschool Art,Preschool Winter,Christmas Activities,Winter Art Projects,Clay Art Projects,Chalk Pastel Art\",\"is_image_or_video\":\"image\",\"image_src\":\"https://i.pinimg.com/originals/5a/d3/82/5ad38202cf8acb022cb8f46ce2a78ad6.jpg\",\"downloaded\":1,\"save_location\":\"Local save in /data/art\",\"category\":\"art\"}"
        ],
        [
         "{\"index\":771,\"unique_id\":\"a5021766-a8aa-4dc7-9857-4da6b8e3dc1a\",\"title\":\"African Sunset Shadow Tracing Art - Taming Little Monsters\",\"description\":\"Use your mini world figures to create this beautiful African sunset. Your kids will love learning about shadows, angles and distortion in this fun art and STEM activity for kids.\",\"poster_name\":\"Taming Little Monsters - Fun Activities for Kids\",\"follower_count\":\"4k\",\"tag_list\":\"African Art Projects,Cool Art Projects,Projects For Kids,African Art For Kids,African Crafts Kids,Art Club Projects,Art Education Projects,Tracing Art,African Sunset\",\"is_image_or_video\":\"image\",\"image_src\":\"https://i.pinimg.com/originals/e3/aa/35/e3aa350f8f104d0e59f26d7f17ea7461.png\",\"downloaded\":1,\"save_location\":\"Local save in /data/art\",\"category\":\"art\"}"
        ]
       ],
       "datasetInfos": [],
       "dbfsResultPath": null,
       "isJsonSchema": true,
       "metadata": {},
       "overflow": false,
       "plotOptions": {
        "customPlotOptions": {},
        "displayType": "table",
        "pivotAggregation": null,
        "pivotColumns": null,
        "xColumns": null,
        "yColumns": null
       },
       "removedWidgets": [],
       "schema": [
        {
         "metadata": "{}",
         "name": "data",
         "type": "\"string\""
        }
       ],
       "type": "table"
      }
     },
     "output_type": "display_data"
    }
   ],
   "source": [
    "display(df_pin)"
   ]
  },
  {
   "cell_type": "code",
   "execution_count": 0,
   "metadata": {
    "application/vnd.databricks.v1+cell": {
     "cellMetadata": {
      "byteLimit": 2048000,
      "rowLimit": 10000
     },
     "inputWidgets": {},
     "nuid": "94e5526f-03bb-4f8a-bb2e-f9b7ac0878ce",
     "showTitle": false,
     "title": ""
    }
   },
   "outputs": [
    {
     "output_type": "display_data",
     "data": {
      "text/html": [
       "<style scoped>\n",
       "  .table-result-container {\n",
       "    max-height: 300px;\n",
       "    overflow: auto;\n",
       "  }\n",
       "  table, th, td {\n",
       "    border: 1px solid black;\n",
       "    border-collapse: collapse;\n",
       "  }\n",
       "  th, td {\n",
       "    padding: 5px;\n",
       "  }\n",
       "  th {\n",
       "    text-align: left;\n",
       "  }\n",
       "</style><div class='table-result-container'><table class='table-result'><thead style='background-color: white'><tr><th>ind</th><th>unique_id</th><th>title</th><th>description</th><th>follower_count</th><th>poster_name</th><th>tag_list</th><th>is_image_or_video</th><th>image_src</th><th>save_location</th><th>category</th></tr></thead><tbody><tr><td>7528</td><td>fbe53c66-3442-4773-b19e-d3ec6f54dddf</td><td>No Title Data Available</td><td>No description available Story format</td><td>null</td><td>User Info Error</td><td>N,o, ,T,a,g,s, ,A,v,a,i,l,a,b,l,e</td><td>multi-video(story page format)</td><td>Image src error.</td><td>mens-fashion</td><td>mens-fashion</td></tr><tr><td>2863</td><td>9bf39437-42a6-4f02-99a0-9a0383d8cd70</td><td>25 Super Fun Summer Crafts for Kids - Of Life and Lisa</td><td>Keep the kids busy this summer with these easy diy crafts and projects. Creative and…</td><td>124</td><td>Of Life & Lisa | Lifestyle Blog</td><td>Summer Crafts For Kids,Fun Crafts For Kids,Summer Kids,Toddler Crafts,Crafts To Do,Diy For Kids,Summer Snow,Diys For Summer,Craft Ideas For Girls</td><td>image</td><td>https://i.pinimg.com/originals/b3/bc/e2/b3bce2964e8c8975387b39660eed5f16.jpg</td><td>diy-and-crafts</td><td>diy-and-crafts</td></tr><tr><td>5730</td><td>1e1f0c8b-9fcf-460b-9154-c775827206eb</td><td>Island Oasis Coupon Organizer</td><td>Description Coupon Organizer in a fun colorful fabric -island oasis, Great Size for the \"basic\" couponer - holds up to 500 coupons with ease, and is made long enough so that you… </td><td>0</td><td>Consuelo Aguirre</td><td>Grocery Items,Grocery Coupons,Care Organization,Coupon Organization,Extreme Couponing,Couponing 101,Life Binder,Save My Money,Love Coupons</td><td>image</td><td>https://i.pinimg.com/originals/65/bb/ea/65bbeaf458907bb079317d8303c4fa0e.jpg</td><td>finance</td><td>finance</td></tr><tr><td>8304</td><td>5b6d0913-25e4-43ab-839d-85d5516f78a4</td><td>The #1 Reason You’re Not His Priority Anymore - Matthew Coast</td><td>#lovequotes #matchmaker #matchmadeinheaven #loveyourself #respectyourself</td><td>51</td><td>Commitment Connection</td><td>Wise Quotes,Quotable Quotes,Words Quotes,Wise Words,Quotes To Live By,Great Quotes,Motivational Quotes,Inspirational Quotes,Funny Quotes</td><td>image</td><td>https://i.pinimg.com/originals/c6/64/ee/c664ee71524fb5a6e7b7b49233f93b43.png</td><td>quotes</td><td>quotes</td></tr><tr><td>8731</td><td>ea760f71-febf-4023-b592-d17396659039</td><td>20 Koi Fish Tattoos For Lucky Men</td><td>Koi fish tattoos are a popular choice for men who want to make a statement, thanks to their rich symbolism and bold design.</td><td>211</td><td>TheTrendSpotter</td><td>Dr Tattoo,Wörter Tattoos,Pisces Tattoos,Tatoo Art,Dream Tattoos,Dope Tattoos,Mini Tattoos,Finger Tattoos,Body Art Tattoos</td><td>image</td><td>https://i.pinimg.com/originals/8a/0c/0a/8a0c0a7b6236565c519acd41ad1a52c0.jpg</td><td>tattoos</td><td>tattoos</td></tr><tr><td>1313</td><td>44662045-e891-4821-8a19-ebe7eedd371a</td><td>Liquid Lash Extensions Mascara</td><td>Instantly create the look of lash extensions with this award-winning, best-selling mascara that won't clump, flake or smudge. Available in 3 shades!</td><td>43</td><td>Thrive Causemetics</td><td>N,o, ,T,a,g,s, ,A,v,a,i,l,a,b,l,e</td><td>video</td><td>https://i.pinimg.com/videos/thumbnails/originals/69/84/e2/6984e20f3e262098fa9c0614c3453254.0000001.jpg</td><td>beauty</td><td>beauty</td></tr><tr><td>4315</td><td>21b59ba9-829d-4c33-8c27-4cd4c56d26b8</td><td>Podcasts for Teachers or Parents of Teenagers</td><td>Podcasts for Teachers or Parents of Teenagers: Teaching teens middle school and high school can feel joyful and rewarding most days, but can also frustrate you with one challeng… </td><td>25</td><td>Math Giraffe</td><td>Middle School Classroom,High School Students,High School Teachers,Middle School Tips,High School Counseling,Ela Classroom,High School Science,Future Classroom,Google Classroom</td><td>image</td><td>https://i.pinimg.com/originals/50/19/31/501931a27ee4d076658980851b995b2c.jpg</td><td>education</td><td>education</td></tr><tr><td>10794</td><td>c4bd2577-a7bb-4409-bb7a-17d5ed7e1cf1</td><td>TireBuyer</td><td>Nissan GT-R. Sick.</td><td>437</td><td>Ray Uyemura</td><td>Lowrider,Old Vintage Cars,Antique Cars,Austin Martin,Nissan Gtr Black,Jaguar,1959 Cadillac,Cadillac Ct6,Old School Cars</td><td>image</td><td>https://i.pinimg.com/originals/0d/29/9f/0d299f3df020395aa7ce8387f40fbeed.jpg</td><td>vehicles</td><td>vehicles</td></tr><tr><td>5494</td><td>8fb2af68-543b-4639-8119-de33d28706ed</td><td>Dave Ramsey's 7 Baby Steps: What Are They And Will They Work For You</td><td>If you love budgeting, make sure to give Dave Ramsey's 7 Baby Steps a try. Follow these steps to begin your debt snowball, build an emergency fund, invest and reach riches. I ca… </td><td>26</td><td>Living Low Key | Save Money, Make Money, & Frugal Living</td><td>Financial Peace,Financial Tips,Saving Money Quotes,Total Money Makeover,Budgeting Finances,Money Management,Wealth Management,Personal Finance,Making Ideas</td><td>image</td><td>https://i.pinimg.com/originals/1e/9d/90/1e9d906e4e150e3b95187f3b76ea7c71.png</td><td>finance</td><td>finance</td></tr><tr><td>5069</td><td>b75b6f87-deb3-444f-b29e-ce9161b2df49</td><td>The Vault: Curated & Refined Wedding Inspiration</td><td>Sacramento California Wedding 2 Chic Events & Design Jodi Yorston Photography Wilson Vineyards Barn Miosa Couture Yellow Barn Vineyard Outdoor Candles DIY</td><td>6</td><td>Style Me Pretty</td><td>60th Anniversary Parties,Anniversary Decorations,Golden Anniversary,25th Wedding Anniversary,Anniversary Pictures,Anniversary Ideas,Birthday Decorations,Event Planning Design,Event Design</td><td>image</td><td>https://i.pinimg.com/originals/7e/45/90/7e45905fefa36347e83333fd6d091140.jpg</td><td>event-planning</td><td>event-planning</td></tr><tr><td>2923</td><td>52fa3af5-24a4-4ccb-8f17-9c3eb12327ee</td><td>UFO Paper Plate Craft</td><td>A fun space activity for kids. Preshoolers and kindergartners will love making their own alien spacecraft!</td><td>192</td><td>The Crafting Chicks</td><td>Paper Plate Crafts For Kids,Fun Crafts For Kids,Summer Crafts,Toddler Crafts,Art For Kids,Outer Space Crafts For Kids,Kid Crafts,Space Kids,Back To School Crafts For Kids</td><td>image</td><td>https://i.pinimg.com/originals/6f/e8/aa/6fe8aa405513c6d2f77b5f47d17cdce8.jpg</td><td>diy-and-crafts</td><td>diy-and-crafts</td></tr><tr><td>3089</td><td>88f9227e-88d0-4b1c-b0be-bcfc3028b8e2</td><td>No Title Data Available</td><td>No description available Story format</td><td>null</td><td>User Info Error</td><td>N,o, ,T,a,g,s, ,A,v,a,i,l,a,b,l,e</td><td>multi-video(story page format)</td><td>Image src error.</td><td>diy-and-crafts</td><td>diy-and-crafts</td></tr><tr><td>6063</td><td>60693727-4927-4bd6-a8c5-096a392d63e6</td><td>41 Gorgeous Fall Decor Ideas For Your Home - Chaylor & Mads</td><td>Beautiful and easy ways to update every room in your home with fall decor. Plus, my favorite finds in fall decor for 2020!</td><td>92</td><td>Kristen | Lifestyle, Mom Tips & Teacher Stuff Blog</td><td>Fall Home Decor,Autumn Home,Fall Decor Outdoor,Front Porch Fall Decor,Home Decor Ideas,Porch Ideas For Fall,Fall Outdoor Decorating,Decorating Ideas For Fall,Fall Front Doors</td><td>image</td><td>https://i.pinimg.com/originals/e5/ae/dc/e5aedc14ce557e3a69f672e0f8c88f6e.png</td><td>home-decor</td><td>home-decor</td></tr><tr><td>3454</td><td>46bd3f86-b09d-4e29-9033-7ff2df595e51</td><td>What can you use to color resin?</td><td>HELPFUL RESOURCES – Check out my resin colorants resources page here with links to all the products mentioned in this article (and more). Let me know if you have any that you lo… </td><td>6</td><td>Mixed Media Crafts</td><td>Epoxy Resin Art,Diy Resin Art,Diy Resin Crafts,Resin Molds,Ice Resin,Resin Pour,Diy Epoxy,Diy Resin Painting,Diy Resin Dice</td><td>image</td><td>https://i.pinimg.com/originals/d4/12/78/d4127833023ca32600571ddca16f1556.jpg</td><td>diy-and-crafts</td><td>diy-and-crafts</td></tr><tr><td>7554</td><td>c6fa12f4-0d4a-4b07-a335-5bf9f37f8281</td><td>Craig Style</td><td>imgentleboss: “ - More about men’s fashion at @Gentleboss - GB’s Facebook - ”</td><td>940</td><td>iElylike ..✿◕‿◕✿ஐ✿◕‿◕✿</td><td>Mens Fashion Blog,Look Fashion,Autumn Fashion,Fashion News,Fashion Sale,80s Fashion,Paris Fashion,Runway Fashion,Fashion Trends</td><td>image</td><td>https://i.pinimg.com/originals/e7/6e/8e/e76e8ed6cc838b84a934c6948a5caff7.jpg</td><td>mens-fashion</td><td>mens-fashion</td></tr><tr><td>6145</td><td>82e13a07-db99-43a3-b1c0-89a4b75821da</td><td>HOLIDAY MANTLE DECOR - @AMAZON & @TARGET FINDS</td><td>Holiday mantle decor, Christmas decor, metallic mercury glass style Christmas trees, eucalyptus vine, evergreen pine branches, white neutral holiday decor, cozy mantle for the h… </td><td>83</td><td>Stylin by Aylin</td><td>Winter Home Decor,Christmas Living Room Decor,Living Room Decor Cozy,Christmas Decor,Cozy Fireplace,Rustic Fireplace Decor,Fireplace Decorations,Rustic Room,House Decorations</td><td>image</td><td>https://i.pinimg.com/originals/9d/82/1a/9d821a80acd8f90c16454e978bd9b115.jpg</td><td>home-decor</td><td>home-decor</td></tr><tr><td>10625</td><td>d31885b7-742a-4e2a-bbb7-ac5f9d334340</td><td>Jaguar Type E</td><td>1937 Jaguar SS100 - 2 1/2 Litre Roadster, one of the most sought after pre-war sports cars</td><td>8</td><td>hobbyDB</td><td>Jaguar Type E,Jaguar Xk,Jaguar Cars,Jaguar Roadster,Jaguar Sport,Retro Cars,Vintage Cars,Antique Cars,British Sports Cars</td><td>image</td><td>https://i.pinimg.com/originals/26/81/a7/2681a71bd0c8f7fd0ab79c455338a49a.jpg</td><td>vehicles</td><td>vehicles</td></tr><tr><td>2959</td><td>439cac4b-18e8-4aaa-88c5-edb26a701111</td><td>The Cutest Toilet Paper Crafts</td><td>One thing I love about Crafts is how the evolve! These toilet paper rolls are adorable and modern. I love that something as simple as a recycled toilet paper roll can be taken t… </td><td>502</td><td>CraftGossip.com</td><td>Toilet Paper Roll Crafts,Cardboard Crafts,Diy Paper,Paper Crafting,Toilet Paper Rolls,Cardboard Playhouse,Paper Art,Kids Crafts,Toddler Crafts</td><td>image</td><td>https://i.pinimg.com/originals/c6/cd/0d/c6cd0d04da9cfc11566cfd34eeb1f918.jpg</td><td>diy-and-crafts</td><td>diy-and-crafts</td></tr><tr><td>9875</td><td>782dcbad-ff91-40a6-ba60-216efe29adb7</td><td>European Bucket List: 35 Things NOT To Miss When Traveling Europe</td><td>35 European bucket list destinations for any traveler heading to Europe. From Cinque Terre, Italy to Iceland - there are so many amazing sites to see in Europe.</td><td>28</td><td>Nicki </td><td>Backpacking Europe,Europe Travel Guide,Travel Guides,Travel Packing,Traveling Europe,Travelling,Travel Backpack,Budget Travel,2 Week Europe Itinerary</td><td>image</td><td>https://i.pinimg.com/originals/71/04/1a/71041ad83ede43d9665741e719c58a86.jpg</td><td>travel</td><td>travel</td></tr><tr><td>2418</td><td>da8745a6-5160-46c4-877d-181d50a729fd</td><td>100 DIY Christmas Centerpieces You'll Love To Decorate Your Home With For The Christmas Season - Hike n Dip</td><td>Here are the best DIY Christmas Centerpieces ideas perfect for your Christmas & holiday season home decor. From Christmas Vignettes to Table Centerpieces.</td><td>500</td><td>HikenDip</td><td>Farmhouse Christmas Decor,Rustic Christmas,Christmas Time,Vintage Christmas,Xmas,Primitive Christmas Crafts,Christmas Vignette,Indoor Christmas Decorations,Diy Christmas Ornaments</td><td>image</td><td>https://i.pinimg.com/originals/aa/6d/0f/aa6d0f44d7c1c96b998cb9aa6c4446b8.png</td><td>christmas</td><td>christmas</td></tr><tr><td>3156</td><td>fa6e31a4-18c2-4eca-a6d8-e903eee2c2a4</td><td>Handprint Reindeer Ornaments - Crafty Morning</td><td>This post may contain affiliate links, read our Disclosure Policy for more information. As an Amazon Associate I earn from qualifying purchases, thank you! Make some cute handpr… </td><td>892</td><td>Michelle {CraftyMorning.com}</td><td>Christmas Gifts For Parents,Christmas Decorations For Kids,Christmas Crafts For Toddlers,Preschool Christmas,Christmas Crafts For Gifts,Christmas Activities,Toddler Crafts,Kids Christmas,Christmas Feeling</td><td>image</td><td>https://i.pinimg.com/originals/ff/fe/38/fffe384f3ec18a0d87cb2d80cc8c1499.jpg</td><td>diy-and-crafts</td><td>diy-and-crafts</td></tr><tr><td>428</td><td>610b3f83-9fe0-469d-946c-d16b577fca71</td><td>Fashion Designer Isaac Mizrahi’s Updated 1930s New York City Apartment</td><td>Fashion designer Issac Mizrahi’s Greenwich Village home is an amalgamation of three apartments that was 20 years in the making</td><td>3</td><td>Architectural Digest</td><td>Modern Art,Contemporary Art,Contemporary Kitchens,Contemporary Bedroom,New York City Apartment,Manhattan Apartment,Art Moderne,Architectural Digest,Painting Inspiration</td><td>image</td><td>https://i.pinimg.com/originals/f4/6c/54/f46c546a2e480022a42d842b7dca157e.jpg</td><td>art</td><td>art</td></tr><tr><td>7343</td><td>b8c63a95-6fe8-4d7f-9455-1eef3462fee0</td><td>This Fashion Rule Is Nonsense, And We Should All Forget About It</td><td>Black And Brown Outfits You Need To Try This Fall Season. The trick with black and brown outfits is to know how to combine colors, fabrics, and shapes to get a cohesive look. So… </td><td>1</td><td>Cultura Colectiva</td><td>Winter Outfits Men,Stylish Mens Outfits,Casual Outfits,Men Casual,Smart Casual,Outfits For Men,Fall Outfits,Mens Winter Boots,Business Casual Men</td><td>image</td><td>https://i.pinimg.com/originals/3e/49/09/3e4909c0ccc4dbba3cad83d97eab4a61.png</td><td>mens-fashion</td><td>mens-fashion</td></tr><tr><td>2074</td><td>86ed09a7-842d-496d-9501-010c654eb340</td><td>35 Christmas Decorating Ideas We Bet You Haven't Thought Of</td><td>20 Christmas Decorating Ideas We Bet You Haven't Thought Of via @PureWow</td><td>868</td><td>PureWow</td><td>Holiday Centerpieces,Xmas Decorations,Centerpiece Ideas,Table Centerpieces,Valentine Decorations,Wedding Centerpieces,Outdoor Decorations,Christmas Centerpieces With Candles,Christmas Dining Table Decorations</td><td>image</td><td>https://i.pinimg.com/originals/e9/b9/f0/e9b9f01cc3b2cf41948b45854335396c.jpg</td><td>christmas</td><td>christmas</td></tr><tr><td>9979</td><td>2b2abc85-fc51-481f-8ae6-17681993da28</td><td>Paris in the Summer. 10 fun things to do in Paris in the Summertime • Petite in Paris</td><td>Are you traveling to Paris during the summer? Find out what to do in Paris, France during the summer. Fun summertime activities in Paris. Enjoy the incredible outdoors when trav… </td><td>3</td><td>Petite in Paris</td><td>Torre Eiffel Paris,Tour Eiffel,Picnic In Paris,Hello France,Voyage Europe,Destination Voyage,Beautiful Places To Travel,Travel Aesthetic,Paris Travel</td><td>image</td><td>https://i.pinimg.com/originals/6c/4c/90/6c4c90bba27ebf8c8bfe4c1acfb9f07a.jpg</td><td>travel</td><td>travel</td></tr><tr><td>10138</td><td>927c4658-cc3f-4b92-9b5c-70743d0c238d</td><td>14 Amazing Things To Do In Costa Rica | Volcanoes, Waterfalls, Wildlife And More</td><td>This Costa Rica itinerary is the ultimate guide to spending two weeks in Costa Rica. Find out about visiting La Fortuna, Arenal, Monteverde, Naranjo, Corcovado National Park, Or… </td><td>10</td><td>Wanderlust Chloe ✈️ Travel guides, inspo and adventure travel ✈️</td><td>Costa Rica Travel,Rio Celeste Costa Rica,Dream Vacations,Vacation Spots,Vacation Travel,Travel Pictures,Travel Photos,Fortuna Costa Rica,Costa Rica Pictures</td><td>image</td><td>https://i.pinimg.com/originals/30/93/cb/3093cb01d9de2d125fda8ba5e3e41946.jpg</td><td>travel</td><td>travel</td></tr><tr><td>9672</td><td>1a5050a4-ac82-472c-aeff-3457de8bbee9</td><td>Lake Moraine, Banff, Canada</td><td>On our Calgary to Vancouver road trip we got to spend time in Banff, Canada. We visited the stunning Lake Moraine as well as Lake Louise and plenty of other of Canada's natural… </td><td>7</td><td>Travel Mad Mum</td><td>Beautiful Places To Travel,Cool Places To Visit,Beautiful Roads,Beautiful Scenery,Wonderful Places,Lac Moraine,Moraine Lake,Lac Louise,Natur Wallpaper</td><td>video</td><td>https://i.pinimg.com/videos/thumbnails/originals/57/9d/52/579d52242ae5609978c754d393e44e81.0000001.jpg</td><td>travel</td><td>travel</td></tr><tr><td>8653</td><td>24b1343c-4d86-4705-8ec9-7f1f2df2d77e</td><td>Unique Women Tattoos Ideas 2020</td><td>We welcome you to our latest collection of Beautiful Tattoo Ideas For Women. Check out and get inspired by the most beautiful design for yourself.</td><td>21</td><td>ALL FOR WOMAN</td><td>Small Back Tattoos,Small Girl Tattoos,Little Tattoos,Tattoo Girls,Mini Tattoos,Tattoo Small,Back Tattoo Women,Tattoo On Back,Girl Back Tattoos</td><td>image</td><td>https://i.pinimg.com/originals/fa/cf/7c/facf7cd752a4bc7c09faaa8925ab80b1.jpg</td><td>tattoos</td><td>tattoos</td></tr><tr><td>8887</td><td>5df9f6e5-07f5-4ce8-a82e-96586bbc05d8</td><td>25 Ultra Sexy Back Tattoo Ideas For Girls</td><td>Tattoos are one of the most efficient ways through which one decides to express themselves…</td><td>4</td><td>RapidLeaks</td><td>Dream Tattoos,Body Art Tattoos,New Tattoos,Small Tattoos,Cross Tattoos,Random Tattoos,Fashion Tattoos,Bird Tattoos,Fitness Tattoos</td><td>image</td><td>https://i.pinimg.com/originals/ab/8e/50/ab8e505b04d4abc8f23e273c15f8a65d.jpg</td><td>tattoos</td><td>tattoos</td></tr><tr><td>7922</td><td>a584581c-1b38-4731-a1cc-f36115ecf229</td><td>45 Top Life Quotes School Did Not Teach You</td><td>summcoco gives you inspiration for the women fashion trends you want. Thinking about a new look or lifestyle? This is your ultimate resource to get the hottest trends. 45 Top Li… </td><td>306</td><td>Sumcoco | Decor Ideas, Hairstyles, Nails Fashion Advice</td><td>Life Quotes Love,Inspirational Quotes About Love,Mood Quotes,Motivational Quotes,Tears Quotes,Quotes About Sadness,Deep Quotes About Life,Quotes Quotes,Quote Life</td><td>image</td><td>https://i.pinimg.com/originals/bb/c0/e6/bbc0e6a797079505f11ac12bcb0b8c66.jpg</td><td>quotes</td><td>quotes</td></tr><tr><td>1014</td><td>9ac94307-bb27-410e-b554-0a0ab6c19847</td><td>Hairstyles & Beauty</td><td>Untitled</td><td>0</td><td>Grecia Perales</td><td>Hair Inspo,Hair Inspiration,Motivation Inspiration,Cl Rapper,Foto Glamour,Kreative Portraits,Classy Aesthetic,Pretty Hairstyles,Hair Looks</td><td>image</td><td>https://i.pinimg.com/originals/af/c4/59/afc459bd6e1fd8f9aef212504afebf3a.jpg</td><td>beauty</td><td>beauty</td></tr><tr><td>4913</td><td>4d2d79c6-9ca8-46c9-a38e-931c5d967804</td><td>How to Work From Home as an Event Planner</td><td>Do you love planning parties? Do you want to work-at-home? This post covers everything you need to know about becoming a home-based event planner!</td><td>110</td><td>The Work at Home Woman</td><td>Event Planning Tips,Event Planning Business,Party Planning,Business Ideas,Craft Business,Business Chic,Business Inspiration,Business Goals,Business Opportunities</td><td>image</td><td>https://i.pinimg.com/originals/4d/a3/a4/4da3a4730418239f1b43ce81fb032c15.jpg</td><td>event-planning</td><td>event-planning</td></tr><tr><td>4137</td><td>bf275054-4464-448b-9143-1bf101aa366d</td><td>15 Essential Classroom Items For First Year Teachers / First Year Teacher Must Haves</td><td>15 Essential Classroom Items For First Year Teachers / First Year Teacher Must Haves</td><td>5</td><td>Write Your Story | Budgeting, Healthy Lifestyle, Faith</td><td>1st Year Teachers,First Year Teaching,First Grade Teachers,Elementary Teacher,Montessori Elementary,Teaching Reading,History Teachers,High School Classroom,First Grade Classroom</td><td>image</td><td>https://i.pinimg.com/originals/4b/b9/a8/4bb9a85f609a8384ed9c9ab14e7bcea0.jpg</td><td>education</td><td>education</td></tr><tr><td>7166</td><td>4a844b03-e161-47a1-904b-591eb5dc4fb1</td><td>The Killers - Mr. Brightside - Women's T-Shirt - Heather Dark Grey / S</td><td>Women's T-shirt. Design inspired by the rock band The Killers' hit \"Mr. Brightside\". One of the greatest song from the album Hot Fuss released in 2004. Soft and light, 100% cott… </td><td>27</td><td>Mala Rock | Rock T-shirts</td><td>Mr Brightside,Rock T Shirts,Greatest Songs,Timeless Classic,Rock Bands,Album,T Shirts For Women,Inspired,Hot</td><td>image</td><td>https://i.pinimg.com/originals/8c/42/39/8c42391d35fcad51a4a79f7cd81bf26d.jpg</td><td>mens-fashion</td><td>mens-fashion</td></tr><tr><td>9546</td><td>efd5b2d6-2f69-40cd-bb59-41f18c089e52</td><td>20 Amazing Trips to Take in Your Twenties!</td><td>The best trips to take when you are young!</td><td>89</td><td>The World Pursuit Travel Website</td><td>Fun Places To Go,Beautiful Places To Travel,Best Places To Travel,Travel Jobs,Holiday Places,Future Travel,Travel Around The World,Adventure Travel,Travel Photos</td><td>video</td><td>https://i.pinimg.com/videos/thumbnails/originals/81/97/c1/8197c1beef8bcb19bea5d8b422211f34.0000001.jpg</td><td>travel</td><td>travel</td></tr><tr><td>2411</td><td>4e11801e-7a64-4f1e-90dd-e900677595c5</td><td>The Sweetest Gingerbread House Ornaments Kids Can Make</td><td>Transform mini terra cotta pots into the sweetest gingerbread house ornaments! Kids will love making this adorable Christmas craft to hang on the tree.</td><td>20</td><td>Projects with Kids</td><td>Noel Christmas,Diy Christmas Ornaments,Homemade Christmas,Simple Christmas,Gingerbread Ornaments,Christmas Gingerbread,Gingerbread Houses,Preschool Christmas,Ornaments Ideas</td><td>image</td><td>https://i.pinimg.com/originals/13/28/09/1328097d7c290d1bf8642b01a6ba1c6c.jpg</td><td>christmas</td><td>christmas</td></tr><tr><td>9590</td><td>b849e976-52f6-45d7-8b25-51559318f167</td><td>Top 20 Things To See And Do In Ireland</td><td>Best spots to see for travel through Ireland!</td><td>130</td><td>Fun Life Crisis</td><td>Vacation Ideas,Vacation Spots,Emerald Isle,London England,Travel Guides,Travel Tips,Travel Hacks,Travel Packing,Places To Travel</td><td>image</td><td>https://i.pinimg.com/originals/c7/50/d3/c750d36524856873d64406652d69b4fb.png</td><td>travel</td><td>travel</td></tr><tr><td>2698</td><td>73f16302-4871-486a-8836-947530526337</td><td>DIY Dollar Tree Valentine's Day Wreath</td><td>DIY Dollar Store Valentine’s Day Heart Wreath Decoration. There are so many great Valentine crafts at the Dollar Tree right now! During our last trip, we picked up a few supplie… </td><td>9</td><td>South Lumina Style</td><td>Valentine Day Wreaths,Valentines Day Hearts,Valentines Day Decorations,Valentine Day Crafts,Holiday Crafts,Diy Christmas,Christmas Wreaths,Valentine Tree,Printable Valentine</td><td>image</td><td>https://i.pinimg.com/originals/dc/f6/8a/dcf68adcc63c339c24fa5664f1115994.png</td><td>diy-and-crafts</td><td>diy-and-crafts</td></tr><tr><td>4508</td><td>9064f4a2-2753-476c-815e-db360f45a93e</td><td>Custom Event and Shop Neon Sign Lights - Event & Shop</td><td>Personalize your event or shop with a customized neon sign. Make a statement with your own custom vibes! This light is 32 -40 inches (80cm-100cm) if you need something bigger, p… </td><td>111</td><td>Life of Neon | Custom Neon Light Signs | Home Decor Wall Art</td><td>Our Wedding,Wedding Venues,Dream Wedding,Wedding Cakes,Church Wedding,Wedding Flowers,Lace Wedding,Wedding Rings,Wedding Dresses</td><td>image</td><td>https://i.pinimg.com/originals/e9/c0/7c/e9c07cf0cf16cab23764a36718ab76c1.jpg</td><td>event-planning</td><td>event-planning</td></tr><tr><td>831</td><td>5e65914d-9f58-4ff1-9676-658e426e8ce5</td><td>creating mixed-media faces tutorial</td><td>Free quick inspirational video on creating a mixed media face with acrylic, collage, stenciling and simple techniques. Come on over to watch</td><td>27</td><td>Shawn Petite</td><td>Collage Kunst,Paper Collage Art,Collage Art Mixed Media,Mixed Media Painting,Mixed Media Canvas,Canvas Collage,Art Collages,Wall Canvas,Canvas Art</td><td>video</td><td>https://i.pinimg.com/videos/thumbnails/originals/05/86/a4/0586a4116e1fc34efc25e064ccd123e8.0000001.jpg</td><td>art</td><td>art</td></tr><tr><td>5076</td><td>fa3af29c-dc78-4eed-a4c5-52a407ea04c0</td><td>Quiz: Test Your Event IQ! - Pointers For Planners</td><td>So you're thinking of getting your event planner certification, but how much do you REALLY know about event planning? Event planners need to be knowledgeable and able to answer… </td><td>5</td><td>QC Career School</td><td>Diy Wedding Food,Best Wedding Makeup,Wedding Events,Wedding Tips,Wedding Stuff,Weddings,Event Planning Business,Business Events,Wedding Makeup Tutorial</td><td>image</td><td>https://i.pinimg.com/originals/6f/19/bc/6f19bce24921bf843540fc04da9eb6bf.jpg</td><td>event-planning</td><td>event-planning</td></tr><tr><td>10663</td><td>d5208c16-82ae-4fd1-87f0-36e5ef789412</td><td>21+ Classic Car Picture of the 1950s - Vintagetopia</td><td>There are a lot of options of places to stay so you probably only have to book the initial one so you know the best place to land from the airport</td><td>171</td><td>vintagetopia</td><td>Old Classic Cars,Classic Trucks,Old Vintage Cars,Antique Cars,Vintage Trucks,Antique Trucks,Cadillac,Convertible,Mustang</td><td>image</td><td>https://i.pinimg.com/originals/e9/01/4d/e9014d537dd2b81c606e8466cef3904c.jpg</td><td>vehicles</td><td>vehicles</td></tr><tr><td>5468</td><td>91ee49f6-0070-4270-ba19-fde88ba51c91</td><td>Budgets, Spouses & Making It Work! - Tshanina Peterson</td><td>Don't fight about budgets and money with your spouse! Here are a few tips that we've found that make it work in our marriage!</td><td>313</td><td>Annamarie Hilton</td><td>Ways To Save Money,Money Tips,Money Saving Tips,How To Make Money,Managing Money,Saving Time,College Fund,Scholarships For College,Education College</td><td>image</td><td>https://i.pinimg.com/originals/37/d5/82/37d58296bcef3471a633c76b89d8625e.jpg</td><td>finance</td><td>finance</td></tr><tr><td>205</td><td>f4afd543-b9fe-44c3-8064-f2198faa1372</td><td>DIY Abstract Heart Painting and a Fun Paint Party</td><td>Use our easy step by step tutorial to create a DIY abstract heart painting on any canvas size. Lots of inspiration to help you choose colors.</td><td>410</td><td>The Creativity Exchange</td><td>Painting & Drawing,Watercolor Paintings,Original Paintings,Owl Watercolor,Acrylic Paintings,Owl Art,Bird Art,Beginner Painting,Animal Paintings</td><td>image</td><td>https://i.pinimg.com/originals/33/85/f8/3385f82ee5e8ecdcccdf798bdcbee3d2.jpg</td><td>art</td><td>art</td></tr><tr><td>7790</td><td>9cd89fb9-d1af-4e66-85ca-c9d656c918b4</td><td>50 Heart Touching Sad Quotes That Will Make You Cry</td><td>Are you looking for some heart touching sad quotes and sayings; Here we have collected for you 50 best heart touching sad quotes..</td><td>112</td><td>AnnaLee Kick</td><td>Crush Quotes For Girls,Sad Crush Quotes,Hurt Quotes,Love Me Quotes,Mood Quotes,Quotes To Live By,Life Quotes,Quotes Quotes,Sad Quotes That Make You Cry</td><td>image</td><td>https://i.pinimg.com/originals/0c/0f/40/0c0f408d96458080e0c82adb50be8e8f.jpg</td><td>quotes</td><td>quotes</td></tr><tr><td>8606</td><td>71757040-bfc8-4631-9cac-22801e61d9e3</td><td>30+ Eagle Tattoos Ideas for Women</td><td>summcoco gives you inspiration for the women fashion trends you want. Thinking about a new look or lifestyle? This is your ultimate resource to get the hottest trends. 30+ Eagle… </td><td>306</td><td>Sumcoco | Decor Ideas, Hairstyles, Nails Fashion Advice</td><td>White Bird Tattoos,Rose Tattoos,Flower Tattoos,Tattoo Black,Bird And Flower Tattoo,Tattoo Floral,Mini Tattoos,Flower Art,Girls With Sleeve Tattoos</td><td>image</td><td>https://i.pinimg.com/originals/8d/c6/ed/8dc6ed0b212393187a14c7d07a88060f.png</td><td>tattoos</td><td>tattoos</td></tr><tr><td>9759</td><td>d105eb6e-0f9f-46e7-8d02-d24b62f6ae90</td><td>8 Best Greek Islands You Have To Visit - TheFab20s</td><td>Although you'd think Greek islands are fairly similar, you'd be completely wrong! Each island has it's own personality and appeal. Here are the 8 Best Greek Islands to visit, es… </td><td>42</td><td>TheFab20s | Travel+Food+DIY+Listicles</td><td>Greek Islands To Visit,Best Greek Islands,Greece Islands,Cool Places To Visit,Places To Go,Best Places In Portugal,Copenhagen Travel,Paros Island,Santorini Island</td><td>image</td><td>https://i.pinimg.com/originals/06/1d/ce/061dce38929dec8e74844442116bea4a.jpg</td><td>travel</td><td>travel</td></tr><tr><td>719</td><td>d7c53e34-9540-4f48-a31b-89b6ed1852bb</td><td>10 Art Sub Lessons that only need a Pencil</td><td>10 art sub lessons that only need a pencil. Cover lessons for art teachers. Make the perfect art sub lessson folder with this amazing resources.</td><td>25</td><td>The Arty Teacher</td><td>Art Lessons For Kids,Art Lessons Elementary,Art For Kids,Art Sub Plans,Art Lesson Plans,Art Substitute Plans,High School Art,Middle School Art,Primary School Art</td><td>image</td><td>https://i.pinimg.com/originals/ee/a8/78/eea878911033897d981a69d9f6b2fb7c.png</td><td>art</td><td>art</td></tr><tr><td>1704</td><td>5fbf9863-fb79-477c-a5b6-540c3020a55f</td><td>Christmas Trees From Pallet Wood | Holiday DIY</td><td>Christmas Trees From Pallet Wood | Holiday DIY: Deck the yard with some fun outdoor Christmas Trees! We made these merry and bright decorations from two old pallets we had lying… </td><td>3</td><td>Instructables</td><td>Pallet Wood Christmas Tree,Wooden Christmas Crafts,Diy Christmas Tree,Christmas Projects,Holiday Crafts,Wooden Xmas Trees,Different Christmas Trees,Pallet Tree,Christmas Kitchen</td><td>image</td><td>https://i.pinimg.com/originals/64/7b/ca/647bca35169b7c144604116c64bcba8a.png</td><td>christmas</td><td>christmas</td></tr><tr><td>2482</td><td>08604f20-fa17-4b9a-9949-781717eca6cd</td><td>FORNT PORCH CHRISTMAS DECORATING IDEAS</td><td>Christmas decorating ideas for porches. Beautiful holiday decor ideas for front porches both small and large. Outdoor decorations like sleds, lanterns, Christmas trees, wreaths,… </td><td>46</td><td>Life on Summerhill | Home, Holiday Decor & DIY Website</td><td>Diy Christmas Decorations For Home,Farmhouse Christmas Decor,Christmas Home,Christmas Holidays,Christmas Front Porches,How To Decorate For Christmas,Christmas Porch Ideas,Christmas Decorating Ideas,Large Outdoor Christmas Decorations</td><td>video</td><td>https://i.pinimg.com/videos/thumbnails/originals/40/83/f5/4083f5b4971bf235f89a4784ab87271e.0000001.jpg</td><td>christmas</td><td>christmas</td></tr><tr><td>8930</td><td>a2999c28-f7b2-4577-af87-49d21d6d8a18</td><td>135 Sunflower Tattoo Ideas - [Best Rated Designs in 2021]</td><td>We have put together the Ultimative Sunflower Tattoo Collection in 2020. Check out our highest rated handpicked Sunflower designs here!</td><td>800</td><td>Next Luxury</td><td>Sunflower Tattoo Sleeve,Sunflower Tattoo Shoulder,Sunflower Tattoo Small,Sunflower Tattoos,Sunflower Tattoo Design,Shoulder Tattoo,Sunflower Mandala Tattoo,Sunflower Tattoo Meaning,Form Tattoo</td><td>image</td><td>https://i.pinimg.com/originals/18/de/6c/18de6c81a8637e224c7d63dce1414ceb.jpg</td><td>tattoos</td><td>tattoos</td></tr><tr><td>7294</td><td>9d8409ef-bea7-4133-a021-c58b9c042210</td><td>Foolproof Fall Fashion For Men You'll Love</td><td>Looking for the coolest fall fashion for men this season? Click to read this article on fall fashion for men to look sharp on LLEGANCE.</td><td>28</td><td>LLEGANCE | Workwear Fashion Woman Advice For Driven Professionals</td><td>Fashion 90s,Autumn Fashion,Fashion Ideas,Trendy Fashion,Fashion Photo,Fashion Outfits,Fashion Trends,Urban Fashion Men,Men's Casual Fashion</td><td>image</td><td>https://i.pinimg.com/originals/4c/bf/2d/4cbf2d6e04d2502612169220553f4cef.jpg</td><td>mens-fashion</td><td>mens-fashion</td></tr><tr><td>808</td><td>23f67e42-db9f-4aae-8b82-cbec64ad9f4d</td><td>Chalk Pastel Hot Chocolate Art Project</td><td>Kids will use chalk pastels and black paper to create this bold and bright hot chocolate art project! Easy to follow tutorial included.</td><td>20</td><td>Projects with Kids</td><td>Hot Chocolate Art,Chocolate Crafts,Art Activities For Kids,Preschool Art,Preschool Winter,Christmas Activities,Winter Art Projects,Clay Art Projects,Chalk Pastel Art</td><td>image</td><td>https://i.pinimg.com/originals/5a/d3/82/5ad38202cf8acb022cb8f46ce2a78ad6.jpg</td><td>art</td><td>art</td></tr><tr><td>771</td><td>a5021766-a8aa-4dc7-9857-4da6b8e3dc1a</td><td>African Sunset Shadow Tracing Art - Taming Little Monsters</td><td>Use your mini world figures to create this beautiful African sunset. Your kids will love learning about shadows, angles and distortion in this fun art and STEM activity for kids.</td><td>4</td><td>Taming Little Monsters - Fun Activities for Kids</td><td>African Art Projects,Cool Art Projects,Projects For Kids,African Art For Kids,African Crafts Kids,Art Club Projects,Art Education Projects,Tracing Art,African Sunset</td><td>image</td><td>https://i.pinimg.com/originals/e3/aa/35/e3aa350f8f104d0e59f26d7f17ea7461.png</td><td>art</td><td>art</td></tr></tbody></table></div>"
      ]
     },
     "metadata": {
      "application/vnd.databricks.v1+output": {
       "addedWidgets": {},
       "aggData": [],
       "aggError": "",
       "aggOverflow": false,
       "aggSchema": [],
       "aggSeriesLimitReached": false,
       "aggType": "",
       "arguments": {},
       "columnCustomDisplayInfos": {},
       "data": [
        [
         7528,
         "fbe53c66-3442-4773-b19e-d3ec6f54dddf",
         "No Title Data Available",
         "No description available Story format",
         null,
         "User Info Error",
         "N,o, ,T,a,g,s, ,A,v,a,i,l,a,b,l,e",
         "multi-video(story page format)",
         "Image src error.",
         "mens-fashion",
         "mens-fashion"
        ],
        [
         2863,
         "9bf39437-42a6-4f02-99a0-9a0383d8cd70",
         "25 Super Fun Summer Crafts for Kids - Of Life and Lisa",
         "Keep the kids busy this summer with these easy diy crafts and projects. Creative and…",
         124,
         "Of Life & Lisa | Lifestyle Blog",
         "Summer Crafts For Kids,Fun Crafts For Kids,Summer Kids,Toddler Crafts,Crafts To Do,Diy For Kids,Summer Snow,Diys For Summer,Craft Ideas For Girls",
         "image",
         "https://i.pinimg.com/originals/b3/bc/e2/b3bce2964e8c8975387b39660eed5f16.jpg",
         "diy-and-crafts",
         "diy-and-crafts"
        ],
        [
         5730,
         "1e1f0c8b-9fcf-460b-9154-c775827206eb",
         "Island Oasis Coupon Organizer",
         "Description Coupon Organizer in a fun colorful fabric -island oasis, Great Size for the \"basic\" couponer - holds up to 500 coupons with ease, and is made long enough so that you… ",
         0,
         "Consuelo Aguirre",
         "Grocery Items,Grocery Coupons,Care Organization,Coupon Organization,Extreme Couponing,Couponing 101,Life Binder,Save My Money,Love Coupons",
         "image",
         "https://i.pinimg.com/originals/65/bb/ea/65bbeaf458907bb079317d8303c4fa0e.jpg",
         "finance",
         "finance"
        ],
        [
         8304,
         "5b6d0913-25e4-43ab-839d-85d5516f78a4",
         "The #1 Reason You’re Not His Priority Anymore - Matthew Coast",
         "#lovequotes #matchmaker #matchmadeinheaven #loveyourself #respectyourself",
         51,
         "Commitment Connection",
         "Wise Quotes,Quotable Quotes,Words Quotes,Wise Words,Quotes To Live By,Great Quotes,Motivational Quotes,Inspirational Quotes,Funny Quotes",
         "image",
         "https://i.pinimg.com/originals/c6/64/ee/c664ee71524fb5a6e7b7b49233f93b43.png",
         "quotes",
         "quotes"
        ],
        [
         8731,
         "ea760f71-febf-4023-b592-d17396659039",
         "20 Koi Fish Tattoos For Lucky Men",
         "Koi fish tattoos are a popular choice for men who want to make a statement, thanks to their rich symbolism and bold design.",
         211,
         "TheTrendSpotter",
         "Dr Tattoo,Wörter Tattoos,Pisces Tattoos,Tatoo Art,Dream Tattoos,Dope Tattoos,Mini Tattoos,Finger Tattoos,Body Art Tattoos",
         "image",
         "https://i.pinimg.com/originals/8a/0c/0a/8a0c0a7b6236565c519acd41ad1a52c0.jpg",
         "tattoos",
         "tattoos"
        ],
        [
         1313,
         "44662045-e891-4821-8a19-ebe7eedd371a",
         "Liquid Lash Extensions Mascara",
         "Instantly create the look of lash extensions with this award-winning, best-selling mascara that won't clump, flake or smudge. Available in 3 shades!",
         43,
         "Thrive Causemetics",
         "N,o, ,T,a,g,s, ,A,v,a,i,l,a,b,l,e",
         "video",
         "https://i.pinimg.com/videos/thumbnails/originals/69/84/e2/6984e20f3e262098fa9c0614c3453254.0000001.jpg",
         "beauty",
         "beauty"
        ],
        [
         4315,
         "21b59ba9-829d-4c33-8c27-4cd4c56d26b8",
         "Podcasts for Teachers or Parents of Teenagers",
         "Podcasts for Teachers or Parents of Teenagers: Teaching teens middle school and high school can feel joyful and rewarding most days, but can also frustrate you with one challeng… ",
         25,
         "Math Giraffe",
         "Middle School Classroom,High School Students,High School Teachers,Middle School Tips,High School Counseling,Ela Classroom,High School Science,Future Classroom,Google Classroom",
         "image",
         "https://i.pinimg.com/originals/50/19/31/501931a27ee4d076658980851b995b2c.jpg",
         "education",
         "education"
        ],
        [
         10794,
         "c4bd2577-a7bb-4409-bb7a-17d5ed7e1cf1",
         "TireBuyer",
         "Nissan GT-R. Sick.",
         437,
         "Ray Uyemura",
         "Lowrider,Old Vintage Cars,Antique Cars,Austin Martin,Nissan Gtr Black,Jaguar,1959 Cadillac,Cadillac Ct6,Old School Cars",
         "image",
         "https://i.pinimg.com/originals/0d/29/9f/0d299f3df020395aa7ce8387f40fbeed.jpg",
         "vehicles",
         "vehicles"
        ],
        [
         5494,
         "8fb2af68-543b-4639-8119-de33d28706ed",
         "Dave Ramsey's 7 Baby Steps: What Are They And Will They Work For You",
         "If you love budgeting, make sure to give Dave Ramsey's 7 Baby Steps a try. Follow these steps to begin your debt snowball, build an emergency fund, invest and reach riches. I ca… ",
         26,
         "Living Low Key | Save Money, Make Money, & Frugal Living",
         "Financial Peace,Financial Tips,Saving Money Quotes,Total Money Makeover,Budgeting Finances,Money Management,Wealth Management,Personal Finance,Making Ideas",
         "image",
         "https://i.pinimg.com/originals/1e/9d/90/1e9d906e4e150e3b95187f3b76ea7c71.png",
         "finance",
         "finance"
        ],
        [
         5069,
         "b75b6f87-deb3-444f-b29e-ce9161b2df49",
         "The Vault: Curated & Refined Wedding Inspiration",
         "Sacramento California Wedding 2 Chic Events & Design Jodi Yorston Photography Wilson Vineyards Barn Miosa Couture Yellow Barn Vineyard Outdoor Candles DIY",
         6,
         "Style Me Pretty",
         "60th Anniversary Parties,Anniversary Decorations,Golden Anniversary,25th Wedding Anniversary,Anniversary Pictures,Anniversary Ideas,Birthday Decorations,Event Planning Design,Event Design",
         "image",
         "https://i.pinimg.com/originals/7e/45/90/7e45905fefa36347e83333fd6d091140.jpg",
         "event-planning",
         "event-planning"
        ],
        [
         2923,
         "52fa3af5-24a4-4ccb-8f17-9c3eb12327ee",
         "UFO Paper Plate Craft",
         "A fun space activity for kids. Preshoolers and kindergartners will love making their own alien spacecraft!",
         192,
         "The Crafting Chicks",
         "Paper Plate Crafts For Kids,Fun Crafts For Kids,Summer Crafts,Toddler Crafts,Art For Kids,Outer Space Crafts For Kids,Kid Crafts,Space Kids,Back To School Crafts For Kids",
         "image",
         "https://i.pinimg.com/originals/6f/e8/aa/6fe8aa405513c6d2f77b5f47d17cdce8.jpg",
         "diy-and-crafts",
         "diy-and-crafts"
        ],
        [
         3089,
         "88f9227e-88d0-4b1c-b0be-bcfc3028b8e2",
         "No Title Data Available",
         "No description available Story format",
         null,
         "User Info Error",
         "N,o, ,T,a,g,s, ,A,v,a,i,l,a,b,l,e",
         "multi-video(story page format)",
         "Image src error.",
         "diy-and-crafts",
         "diy-and-crafts"
        ],
        [
         6063,
         "60693727-4927-4bd6-a8c5-096a392d63e6",
         "41 Gorgeous Fall Decor Ideas For Your Home - Chaylor & Mads",
         "Beautiful and easy ways to update every room in your home with fall decor. Plus, my favorite finds in fall decor for 2020!",
         92,
         "Kristen | Lifestyle, Mom Tips & Teacher Stuff Blog",
         "Fall Home Decor,Autumn Home,Fall Decor Outdoor,Front Porch Fall Decor,Home Decor Ideas,Porch Ideas For Fall,Fall Outdoor Decorating,Decorating Ideas For Fall,Fall Front Doors",
         "image",
         "https://i.pinimg.com/originals/e5/ae/dc/e5aedc14ce557e3a69f672e0f8c88f6e.png",
         "home-decor",
         "home-decor"
        ],
        [
         3454,
         "46bd3f86-b09d-4e29-9033-7ff2df595e51",
         "What can you use to color resin?",
         "HELPFUL RESOURCES – Check out my resin colorants resources page here with links to all the products mentioned in this article (and more). Let me know if you have any that you lo… ",
         6,
         "Mixed Media Crafts",
         "Epoxy Resin Art,Diy Resin Art,Diy Resin Crafts,Resin Molds,Ice Resin,Resin Pour,Diy Epoxy,Diy Resin Painting,Diy Resin Dice",
         "image",
         "https://i.pinimg.com/originals/d4/12/78/d4127833023ca32600571ddca16f1556.jpg",
         "diy-and-crafts",
         "diy-and-crafts"
        ],
        [
         7554,
         "c6fa12f4-0d4a-4b07-a335-5bf9f37f8281",
         "Craig Style",
         "imgentleboss: “ - More about men’s fashion at @Gentleboss - GB’s Facebook - ”",
         940,
         "iElylike ..✿◕‿◕✿ஐ✿◕‿◕✿",
         "Mens Fashion Blog,Look Fashion,Autumn Fashion,Fashion News,Fashion Sale,80s Fashion,Paris Fashion,Runway Fashion,Fashion Trends",
         "image",
         "https://i.pinimg.com/originals/e7/6e/8e/e76e8ed6cc838b84a934c6948a5caff7.jpg",
         "mens-fashion",
         "mens-fashion"
        ],
        [
         6145,
         "82e13a07-db99-43a3-b1c0-89a4b75821da",
         "HOLIDAY MANTLE DECOR - @AMAZON & @TARGET FINDS",
         "Holiday mantle decor, Christmas decor, metallic mercury glass style Christmas trees, eucalyptus vine, evergreen pine branches, white neutral holiday decor, cozy mantle for the h… ",
         83,
         "Stylin by Aylin",
         "Winter Home Decor,Christmas Living Room Decor,Living Room Decor Cozy,Christmas Decor,Cozy Fireplace,Rustic Fireplace Decor,Fireplace Decorations,Rustic Room,House Decorations",
         "image",
         "https://i.pinimg.com/originals/9d/82/1a/9d821a80acd8f90c16454e978bd9b115.jpg",
         "home-decor",
         "home-decor"
        ],
        [
         10625,
         "d31885b7-742a-4e2a-bbb7-ac5f9d334340",
         "Jaguar Type E",
         "1937 Jaguar SS100 - 2 1/2 Litre Roadster, one of the most sought after pre-war sports cars",
         8,
         "hobbyDB",
         "Jaguar Type E,Jaguar Xk,Jaguar Cars,Jaguar Roadster,Jaguar Sport,Retro Cars,Vintage Cars,Antique Cars,British Sports Cars",
         "image",
         "https://i.pinimg.com/originals/26/81/a7/2681a71bd0c8f7fd0ab79c455338a49a.jpg",
         "vehicles",
         "vehicles"
        ],
        [
         2959,
         "439cac4b-18e8-4aaa-88c5-edb26a701111",
         "The Cutest Toilet Paper Crafts",
         "One thing I love about Crafts is how the evolve! These toilet paper rolls are adorable and modern. I love that something as simple as a recycled toilet paper roll can be taken t… ",
         502,
         "CraftGossip.com",
         "Toilet Paper Roll Crafts,Cardboard Crafts,Diy Paper,Paper Crafting,Toilet Paper Rolls,Cardboard Playhouse,Paper Art,Kids Crafts,Toddler Crafts",
         "image",
         "https://i.pinimg.com/originals/c6/cd/0d/c6cd0d04da9cfc11566cfd34eeb1f918.jpg",
         "diy-and-crafts",
         "diy-and-crafts"
        ],
        [
         9875,
         "782dcbad-ff91-40a6-ba60-216efe29adb7",
         "European Bucket List: 35 Things NOT To Miss When Traveling Europe",
         "35 European bucket list destinations for any traveler heading to Europe. From Cinque Terre, Italy to Iceland - there are so many amazing sites to see in Europe.",
         28,
         "Nicki ",
         "Backpacking Europe,Europe Travel Guide,Travel Guides,Travel Packing,Traveling Europe,Travelling,Travel Backpack,Budget Travel,2 Week Europe Itinerary",
         "image",
         "https://i.pinimg.com/originals/71/04/1a/71041ad83ede43d9665741e719c58a86.jpg",
         "travel",
         "travel"
        ],
        [
         2418,
         "da8745a6-5160-46c4-877d-181d50a729fd",
         "100 DIY Christmas Centerpieces You'll Love To Decorate Your Home With For The Christmas Season - Hike n Dip",
         "Here are the best DIY Christmas Centerpieces ideas perfect for your Christmas & holiday season home decor. From Christmas Vignettes to Table Centerpieces.",
         500,
         "HikenDip",
         "Farmhouse Christmas Decor,Rustic Christmas,Christmas Time,Vintage Christmas,Xmas,Primitive Christmas Crafts,Christmas Vignette,Indoor Christmas Decorations,Diy Christmas Ornaments",
         "image",
         "https://i.pinimg.com/originals/aa/6d/0f/aa6d0f44d7c1c96b998cb9aa6c4446b8.png",
         "christmas",
         "christmas"
        ],
        [
         3156,
         "fa6e31a4-18c2-4eca-a6d8-e903eee2c2a4",
         "Handprint Reindeer Ornaments - Crafty Morning",
         "This post may contain affiliate links, read our Disclosure Policy for more information. As an Amazon Associate I earn from qualifying purchases, thank you! Make some cute handpr… ",
         892,
         "Michelle {CraftyMorning.com}",
         "Christmas Gifts For Parents,Christmas Decorations For Kids,Christmas Crafts For Toddlers,Preschool Christmas,Christmas Crafts For Gifts,Christmas Activities,Toddler Crafts,Kids Christmas,Christmas Feeling",
         "image",
         "https://i.pinimg.com/originals/ff/fe/38/fffe384f3ec18a0d87cb2d80cc8c1499.jpg",
         "diy-and-crafts",
         "diy-and-crafts"
        ],
        [
         428,
         "610b3f83-9fe0-469d-946c-d16b577fca71",
         "Fashion Designer Isaac Mizrahi’s Updated 1930s New York City Apartment",
         "Fashion designer Issac Mizrahi’s Greenwich Village home is an amalgamation of three apartments that was 20 years in the making",
         3,
         "Architectural Digest",
         "Modern Art,Contemporary Art,Contemporary Kitchens,Contemporary Bedroom,New York City Apartment,Manhattan Apartment,Art Moderne,Architectural Digest,Painting Inspiration",
         "image",
         "https://i.pinimg.com/originals/f4/6c/54/f46c546a2e480022a42d842b7dca157e.jpg",
         "art",
         "art"
        ],
        [
         7343,
         "b8c63a95-6fe8-4d7f-9455-1eef3462fee0",
         "This Fashion Rule Is Nonsense, And We Should All Forget About It",
         "Black And Brown Outfits You Need To Try This Fall Season. The trick with black and brown outfits is to know how to combine colors, fabrics, and shapes to get a cohesive look. So… ",
         1,
         "Cultura Colectiva",
         "Winter Outfits Men,Stylish Mens Outfits,Casual Outfits,Men Casual,Smart Casual,Outfits For Men,Fall Outfits,Mens Winter Boots,Business Casual Men",
         "image",
         "https://i.pinimg.com/originals/3e/49/09/3e4909c0ccc4dbba3cad83d97eab4a61.png",
         "mens-fashion",
         "mens-fashion"
        ],
        [
         2074,
         "86ed09a7-842d-496d-9501-010c654eb340",
         "35 Christmas Decorating Ideas We Bet You Haven't Thought Of",
         "20 Christmas Decorating Ideas We Bet You Haven't Thought Of via @PureWow",
         868,
         "PureWow",
         "Holiday Centerpieces,Xmas Decorations,Centerpiece Ideas,Table Centerpieces,Valentine Decorations,Wedding Centerpieces,Outdoor Decorations,Christmas Centerpieces With Candles,Christmas Dining Table Decorations",
         "image",
         "https://i.pinimg.com/originals/e9/b9/f0/e9b9f01cc3b2cf41948b45854335396c.jpg",
         "christmas",
         "christmas"
        ],
        [
         9979,
         "2b2abc85-fc51-481f-8ae6-17681993da28",
         "Paris in the Summer. 10 fun things to do in Paris in the Summertime • Petite in Paris",
         "Are you traveling to Paris during the summer? Find out what to do in Paris, France during the summer. Fun summertime activities in Paris. Enjoy the incredible outdoors when trav… ",
         3,
         "Petite in Paris",
         "Torre Eiffel Paris,Tour Eiffel,Picnic In Paris,Hello France,Voyage Europe,Destination Voyage,Beautiful Places To Travel,Travel Aesthetic,Paris Travel",
         "image",
         "https://i.pinimg.com/originals/6c/4c/90/6c4c90bba27ebf8c8bfe4c1acfb9f07a.jpg",
         "travel",
         "travel"
        ],
        [
         10138,
         "927c4658-cc3f-4b92-9b5c-70743d0c238d",
         "14 Amazing Things To Do In Costa Rica | Volcanoes, Waterfalls, Wildlife And More",
         "This Costa Rica itinerary is the ultimate guide to spending two weeks in Costa Rica. Find out about visiting La Fortuna, Arenal, Monteverde, Naranjo, Corcovado National Park, Or… ",
         10,
         "Wanderlust Chloe ✈️ Travel guides, inspo and adventure travel ✈️",
         "Costa Rica Travel,Rio Celeste Costa Rica,Dream Vacations,Vacation Spots,Vacation Travel,Travel Pictures,Travel Photos,Fortuna Costa Rica,Costa Rica Pictures",
         "image",
         "https://i.pinimg.com/originals/30/93/cb/3093cb01d9de2d125fda8ba5e3e41946.jpg",
         "travel",
         "travel"
        ],
        [
         9672,
         "1a5050a4-ac82-472c-aeff-3457de8bbee9",
         "Lake Moraine, Banff, Canada",
         "On our Calgary to Vancouver road trip we got to spend time in Banff, Canada. We visited the stunning Lake Moraine as well as Lake Louise and plenty of other of Canada's natural… ",
         7,
         "Travel Mad Mum",
         "Beautiful Places To Travel,Cool Places To Visit,Beautiful Roads,Beautiful Scenery,Wonderful Places,Lac Moraine,Moraine Lake,Lac Louise,Natur Wallpaper",
         "video",
         "https://i.pinimg.com/videos/thumbnails/originals/57/9d/52/579d52242ae5609978c754d393e44e81.0000001.jpg",
         "travel",
         "travel"
        ],
        [
         8653,
         "24b1343c-4d86-4705-8ec9-7f1f2df2d77e",
         "Unique Women Tattoos Ideas 2020",
         "We welcome you to our latest collection of Beautiful Tattoo Ideas For Women. Check out and get inspired by the most beautiful design for yourself.",
         21,
         "ALL FOR WOMAN",
         "Small Back Tattoos,Small Girl Tattoos,Little Tattoos,Tattoo Girls,Mini Tattoos,Tattoo Small,Back Tattoo Women,Tattoo On Back,Girl Back Tattoos",
         "image",
         "https://i.pinimg.com/originals/fa/cf/7c/facf7cd752a4bc7c09faaa8925ab80b1.jpg",
         "tattoos",
         "tattoos"
        ],
        [
         8887,
         "5df9f6e5-07f5-4ce8-a82e-96586bbc05d8",
         "25 Ultra Sexy Back Tattoo Ideas For Girls",
         "Tattoos are one of the most efficient ways through which one decides to express themselves…",
         4,
         "RapidLeaks",
         "Dream Tattoos,Body Art Tattoos,New Tattoos,Small Tattoos,Cross Tattoos,Random Tattoos,Fashion Tattoos,Bird Tattoos,Fitness Tattoos",
         "image",
         "https://i.pinimg.com/originals/ab/8e/50/ab8e505b04d4abc8f23e273c15f8a65d.jpg",
         "tattoos",
         "tattoos"
        ],
        [
         7922,
         "a584581c-1b38-4731-a1cc-f36115ecf229",
         "45 Top Life Quotes School Did Not Teach You",
         "summcoco gives you inspiration for the women fashion trends you want. Thinking about a new look or lifestyle? This is your ultimate resource to get the hottest trends. 45 Top Li… ",
         306,
         "Sumcoco | Decor Ideas, Hairstyles, Nails Fashion Advice",
         "Life Quotes Love,Inspirational Quotes About Love,Mood Quotes,Motivational Quotes,Tears Quotes,Quotes About Sadness,Deep Quotes About Life,Quotes Quotes,Quote Life",
         "image",
         "https://i.pinimg.com/originals/bb/c0/e6/bbc0e6a797079505f11ac12bcb0b8c66.jpg",
         "quotes",
         "quotes"
        ],
        [
         1014,
         "9ac94307-bb27-410e-b554-0a0ab6c19847",
         "Hairstyles & Beauty",
         "Untitled",
         0,
         "Grecia Perales",
         "Hair Inspo,Hair Inspiration,Motivation Inspiration,Cl Rapper,Foto Glamour,Kreative Portraits,Classy Aesthetic,Pretty Hairstyles,Hair Looks",
         "image",
         "https://i.pinimg.com/originals/af/c4/59/afc459bd6e1fd8f9aef212504afebf3a.jpg",
         "beauty",
         "beauty"
        ],
        [
         4913,
         "4d2d79c6-9ca8-46c9-a38e-931c5d967804",
         "How to Work From Home as an Event Planner",
         "Do you love planning parties? Do you want to work-at-home? This post covers everything you need to know about becoming a home-based event planner!",
         110,
         "The Work at Home Woman",
         "Event Planning Tips,Event Planning Business,Party Planning,Business Ideas,Craft Business,Business Chic,Business Inspiration,Business Goals,Business Opportunities",
         "image",
         "https://i.pinimg.com/originals/4d/a3/a4/4da3a4730418239f1b43ce81fb032c15.jpg",
         "event-planning",
         "event-planning"
        ],
        [
         4137,
         "bf275054-4464-448b-9143-1bf101aa366d",
         "15 Essential Classroom Items For First Year Teachers / First Year Teacher Must Haves",
         "15 Essential Classroom Items For First Year Teachers / First Year Teacher Must Haves",
         5,
         "Write Your Story | Budgeting, Healthy Lifestyle, Faith",
         "1st Year Teachers,First Year Teaching,First Grade Teachers,Elementary Teacher,Montessori Elementary,Teaching Reading,History Teachers,High School Classroom,First Grade Classroom",
         "image",
         "https://i.pinimg.com/originals/4b/b9/a8/4bb9a85f609a8384ed9c9ab14e7bcea0.jpg",
         "education",
         "education"
        ],
        [
         7166,
         "4a844b03-e161-47a1-904b-591eb5dc4fb1",
         "The Killers - Mr. Brightside - Women's T-Shirt - Heather Dark Grey / S",
         "Women's T-shirt. Design inspired by the rock band The Killers' hit \"Mr. Brightside\". One of the greatest song from the album Hot Fuss released in 2004. Soft and light, 100% cott… ",
         27,
         "Mala Rock | Rock T-shirts",
         "Mr Brightside,Rock T Shirts,Greatest Songs,Timeless Classic,Rock Bands,Album,T Shirts For Women,Inspired,Hot",
         "image",
         "https://i.pinimg.com/originals/8c/42/39/8c42391d35fcad51a4a79f7cd81bf26d.jpg",
         "mens-fashion",
         "mens-fashion"
        ],
        [
         9546,
         "efd5b2d6-2f69-40cd-bb59-41f18c089e52",
         "20 Amazing Trips to Take in Your Twenties!",
         "The best trips to take when you are young!",
         89,
         "The World Pursuit Travel Website",
         "Fun Places To Go,Beautiful Places To Travel,Best Places To Travel,Travel Jobs,Holiday Places,Future Travel,Travel Around The World,Adventure Travel,Travel Photos",
         "video",
         "https://i.pinimg.com/videos/thumbnails/originals/81/97/c1/8197c1beef8bcb19bea5d8b422211f34.0000001.jpg",
         "travel",
         "travel"
        ],
        [
         2411,
         "4e11801e-7a64-4f1e-90dd-e900677595c5",
         "The Sweetest Gingerbread House Ornaments Kids Can Make",
         "Transform mini terra cotta pots into the sweetest gingerbread house ornaments! Kids will love making this adorable Christmas craft to hang on the tree.",
         20,
         "Projects with Kids",
         "Noel Christmas,Diy Christmas Ornaments,Homemade Christmas,Simple Christmas,Gingerbread Ornaments,Christmas Gingerbread,Gingerbread Houses,Preschool Christmas,Ornaments Ideas",
         "image",
         "https://i.pinimg.com/originals/13/28/09/1328097d7c290d1bf8642b01a6ba1c6c.jpg",
         "christmas",
         "christmas"
        ],
        [
         9590,
         "b849e976-52f6-45d7-8b25-51559318f167",
         "Top 20 Things To See And Do In Ireland",
         "Best spots to see for travel through Ireland!",
         130,
         "Fun Life Crisis",
         "Vacation Ideas,Vacation Spots,Emerald Isle,London England,Travel Guides,Travel Tips,Travel Hacks,Travel Packing,Places To Travel",
         "image",
         "https://i.pinimg.com/originals/c7/50/d3/c750d36524856873d64406652d69b4fb.png",
         "travel",
         "travel"
        ],
        [
         2698,
         "73f16302-4871-486a-8836-947530526337",
         "DIY Dollar Tree Valentine's Day Wreath",
         "DIY Dollar Store Valentine’s Day Heart Wreath Decoration. There are so many great Valentine crafts at the Dollar Tree right now! During our last trip, we picked up a few supplie… ",
         9,
         "South Lumina Style",
         "Valentine Day Wreaths,Valentines Day Hearts,Valentines Day Decorations,Valentine Day Crafts,Holiday Crafts,Diy Christmas,Christmas Wreaths,Valentine Tree,Printable Valentine",
         "image",
         "https://i.pinimg.com/originals/dc/f6/8a/dcf68adcc63c339c24fa5664f1115994.png",
         "diy-and-crafts",
         "diy-and-crafts"
        ],
        [
         4508,
         "9064f4a2-2753-476c-815e-db360f45a93e",
         "Custom Event and Shop Neon Sign Lights - Event & Shop",
         "Personalize your event or shop with a customized neon sign. Make a statement with your own custom vibes! This light is 32 -40 inches (80cm-100cm) if you need something bigger, p… ",
         111,
         "Life of Neon | Custom Neon Light Signs | Home Decor Wall Art",
         "Our Wedding,Wedding Venues,Dream Wedding,Wedding Cakes,Church Wedding,Wedding Flowers,Lace Wedding,Wedding Rings,Wedding Dresses",
         "image",
         "https://i.pinimg.com/originals/e9/c0/7c/e9c07cf0cf16cab23764a36718ab76c1.jpg",
         "event-planning",
         "event-planning"
        ],
        [
         831,
         "5e65914d-9f58-4ff1-9676-658e426e8ce5",
         "creating mixed-media faces tutorial",
         "Free quick inspirational video on creating a mixed media face with acrylic, collage, stenciling and simple techniques. Come on over to watch",
         27,
         "Shawn Petite",
         "Collage Kunst,Paper Collage Art,Collage Art Mixed Media,Mixed Media Painting,Mixed Media Canvas,Canvas Collage,Art Collages,Wall Canvas,Canvas Art",
         "video",
         "https://i.pinimg.com/videos/thumbnails/originals/05/86/a4/0586a4116e1fc34efc25e064ccd123e8.0000001.jpg",
         "art",
         "art"
        ],
        [
         5076,
         "fa3af29c-dc78-4eed-a4c5-52a407ea04c0",
         "Quiz: Test Your Event IQ! - Pointers For Planners",
         "So you're thinking of getting your event planner certification, but how much do you REALLY know about event planning? Event planners need to be knowledgeable and able to answer… ",
         5,
         "QC Career School",
         "Diy Wedding Food,Best Wedding Makeup,Wedding Events,Wedding Tips,Wedding Stuff,Weddings,Event Planning Business,Business Events,Wedding Makeup Tutorial",
         "image",
         "https://i.pinimg.com/originals/6f/19/bc/6f19bce24921bf843540fc04da9eb6bf.jpg",
         "event-planning",
         "event-planning"
        ],
        [
         10663,
         "d5208c16-82ae-4fd1-87f0-36e5ef789412",
         "21+ Classic Car Picture of the 1950s - Vintagetopia",
         "There are a lot of options of places to stay so you probably only have to book the initial one so you know the best place to land from the airport",
         171,
         "vintagetopia",
         "Old Classic Cars,Classic Trucks,Old Vintage Cars,Antique Cars,Vintage Trucks,Antique Trucks,Cadillac,Convertible,Mustang",
         "image",
         "https://i.pinimg.com/originals/e9/01/4d/e9014d537dd2b81c606e8466cef3904c.jpg",
         "vehicles",
         "vehicles"
        ],
        [
         5468,
         "91ee49f6-0070-4270-ba19-fde88ba51c91",
         "Budgets, Spouses & Making It Work! - Tshanina Peterson",
         "Don't fight about budgets and money with your spouse! Here are a few tips that we've found that make it work in our marriage!",
         313,
         "Annamarie Hilton",
         "Ways To Save Money,Money Tips,Money Saving Tips,How To Make Money,Managing Money,Saving Time,College Fund,Scholarships For College,Education College",
         "image",
         "https://i.pinimg.com/originals/37/d5/82/37d58296bcef3471a633c76b89d8625e.jpg",
         "finance",
         "finance"
        ],
        [
         205,
         "f4afd543-b9fe-44c3-8064-f2198faa1372",
         "DIY Abstract Heart Painting and a Fun Paint Party",
         "Use our easy step by step tutorial to create a DIY abstract heart painting on any canvas size. Lots of inspiration to help you choose colors.",
         410,
         "The Creativity Exchange",
         "Painting & Drawing,Watercolor Paintings,Original Paintings,Owl Watercolor,Acrylic Paintings,Owl Art,Bird Art,Beginner Painting,Animal Paintings",
         "image",
         "https://i.pinimg.com/originals/33/85/f8/3385f82ee5e8ecdcccdf798bdcbee3d2.jpg",
         "art",
         "art"
        ],
        [
         7790,
         "9cd89fb9-d1af-4e66-85ca-c9d656c918b4",
         "50 Heart Touching Sad Quotes That Will Make You Cry",
         "Are you looking for some heart touching sad quotes and sayings; Here we have collected for you 50 best heart touching sad quotes..",
         112,
         "AnnaLee Kick",
         "Crush Quotes For Girls,Sad Crush Quotes,Hurt Quotes,Love Me Quotes,Mood Quotes,Quotes To Live By,Life Quotes,Quotes Quotes,Sad Quotes That Make You Cry",
         "image",
         "https://i.pinimg.com/originals/0c/0f/40/0c0f408d96458080e0c82adb50be8e8f.jpg",
         "quotes",
         "quotes"
        ],
        [
         8606,
         "71757040-bfc8-4631-9cac-22801e61d9e3",
         "30+ Eagle Tattoos Ideas for Women",
         "summcoco gives you inspiration for the women fashion trends you want. Thinking about a new look or lifestyle? This is your ultimate resource to get the hottest trends. 30+ Eagle… ",
         306,
         "Sumcoco | Decor Ideas, Hairstyles, Nails Fashion Advice",
         "White Bird Tattoos,Rose Tattoos,Flower Tattoos,Tattoo Black,Bird And Flower Tattoo,Tattoo Floral,Mini Tattoos,Flower Art,Girls With Sleeve Tattoos",
         "image",
         "https://i.pinimg.com/originals/8d/c6/ed/8dc6ed0b212393187a14c7d07a88060f.png",
         "tattoos",
         "tattoos"
        ],
        [
         9759,
         "d105eb6e-0f9f-46e7-8d02-d24b62f6ae90",
         "8 Best Greek Islands You Have To Visit - TheFab20s",
         "Although you'd think Greek islands are fairly similar, you'd be completely wrong! Each island has it's own personality and appeal. Here are the 8 Best Greek Islands to visit, es… ",
         42,
         "TheFab20s | Travel+Food+DIY+Listicles",
         "Greek Islands To Visit,Best Greek Islands,Greece Islands,Cool Places To Visit,Places To Go,Best Places In Portugal,Copenhagen Travel,Paros Island,Santorini Island",
         "image",
         "https://i.pinimg.com/originals/06/1d/ce/061dce38929dec8e74844442116bea4a.jpg",
         "travel",
         "travel"
        ],
        [
         719,
         "d7c53e34-9540-4f48-a31b-89b6ed1852bb",
         "10 Art Sub Lessons that only need a Pencil",
         "10 art sub lessons that only need a pencil. Cover lessons for art teachers. Make the perfect art sub lessson folder with this amazing resources.",
         25,
         "The Arty Teacher",
         "Art Lessons For Kids,Art Lessons Elementary,Art For Kids,Art Sub Plans,Art Lesson Plans,Art Substitute Plans,High School Art,Middle School Art,Primary School Art",
         "image",
         "https://i.pinimg.com/originals/ee/a8/78/eea878911033897d981a69d9f6b2fb7c.png",
         "art",
         "art"
        ],
        [
         1704,
         "5fbf9863-fb79-477c-a5b6-540c3020a55f",
         "Christmas Trees From Pallet Wood | Holiday DIY",
         "Christmas Trees From Pallet Wood | Holiday DIY: Deck the yard with some fun outdoor Christmas Trees! We made these merry and bright decorations from two old pallets we had lying… ",
         3,
         "Instructables",
         "Pallet Wood Christmas Tree,Wooden Christmas Crafts,Diy Christmas Tree,Christmas Projects,Holiday Crafts,Wooden Xmas Trees,Different Christmas Trees,Pallet Tree,Christmas Kitchen",
         "image",
         "https://i.pinimg.com/originals/64/7b/ca/647bca35169b7c144604116c64bcba8a.png",
         "christmas",
         "christmas"
        ],
        [
         2482,
         "08604f20-fa17-4b9a-9949-781717eca6cd",
         "FORNT PORCH CHRISTMAS DECORATING IDEAS",
         "Christmas decorating ideas for porches. Beautiful holiday decor ideas for front porches both small and large. Outdoor decorations like sleds, lanterns, Christmas trees, wreaths,… ",
         46,
         "Life on Summerhill | Home, Holiday Decor & DIY Website",
         "Diy Christmas Decorations For Home,Farmhouse Christmas Decor,Christmas Home,Christmas Holidays,Christmas Front Porches,How To Decorate For Christmas,Christmas Porch Ideas,Christmas Decorating Ideas,Large Outdoor Christmas Decorations",
         "video",
         "https://i.pinimg.com/videos/thumbnails/originals/40/83/f5/4083f5b4971bf235f89a4784ab87271e.0000001.jpg",
         "christmas",
         "christmas"
        ],
        [
         8930,
         "a2999c28-f7b2-4577-af87-49d21d6d8a18",
         "135 Sunflower Tattoo Ideas - [Best Rated Designs in 2021]",
         "We have put together the Ultimative Sunflower Tattoo Collection in 2020. Check out our highest rated handpicked Sunflower designs here!",
         800,
         "Next Luxury",
         "Sunflower Tattoo Sleeve,Sunflower Tattoo Shoulder,Sunflower Tattoo Small,Sunflower Tattoos,Sunflower Tattoo Design,Shoulder Tattoo,Sunflower Mandala Tattoo,Sunflower Tattoo Meaning,Form Tattoo",
         "image",
         "https://i.pinimg.com/originals/18/de/6c/18de6c81a8637e224c7d63dce1414ceb.jpg",
         "tattoos",
         "tattoos"
        ],
        [
         7294,
         "9d8409ef-bea7-4133-a021-c58b9c042210",
         "Foolproof Fall Fashion For Men You'll Love",
         "Looking for the coolest fall fashion for men this season? Click to read this article on fall fashion for men to look sharp on LLEGANCE.",
         28,
         "LLEGANCE | Workwear Fashion Woman Advice For Driven Professionals",
         "Fashion 90s,Autumn Fashion,Fashion Ideas,Trendy Fashion,Fashion Photo,Fashion Outfits,Fashion Trends,Urban Fashion Men,Men's Casual Fashion",
         "image",
         "https://i.pinimg.com/originals/4c/bf/2d/4cbf2d6e04d2502612169220553f4cef.jpg",
         "mens-fashion",
         "mens-fashion"
        ],
        [
         808,
         "23f67e42-db9f-4aae-8b82-cbec64ad9f4d",
         "Chalk Pastel Hot Chocolate Art Project",
         "Kids will use chalk pastels and black paper to create this bold and bright hot chocolate art project! Easy to follow tutorial included.",
         20,
         "Projects with Kids",
         "Hot Chocolate Art,Chocolate Crafts,Art Activities For Kids,Preschool Art,Preschool Winter,Christmas Activities,Winter Art Projects,Clay Art Projects,Chalk Pastel Art",
         "image",
         "https://i.pinimg.com/originals/5a/d3/82/5ad38202cf8acb022cb8f46ce2a78ad6.jpg",
         "art",
         "art"
        ],
        [
         771,
         "a5021766-a8aa-4dc7-9857-4da6b8e3dc1a",
         "African Sunset Shadow Tracing Art - Taming Little Monsters",
         "Use your mini world figures to create this beautiful African sunset. Your kids will love learning about shadows, angles and distortion in this fun art and STEM activity for kids.",
         4,
         "Taming Little Monsters - Fun Activities for Kids",
         "African Art Projects,Cool Art Projects,Projects For Kids,African Art For Kids,African Crafts Kids,Art Club Projects,Art Education Projects,Tracing Art,African Sunset",
         "image",
         "https://i.pinimg.com/originals/e3/aa/35/e3aa350f8f104d0e59f26d7f17ea7461.png",
         "art",
         "art"
        ]
       ],
       "datasetInfos": [],
       "dbfsResultPath": null,
       "isJsonSchema": true,
       "metadata": {},
       "overflow": false,
       "plotOptions": {
        "customPlotOptions": {},
        "displayType": "table",
        "pivotAggregation": null,
        "pivotColumns": null,
        "xColumns": null,
        "yColumns": null
       },
       "removedWidgets": [],
       "schema": [
        {
         "metadata": "{}",
         "name": "ind",
         "type": "\"integer\""
        },
        {
         "metadata": "{}",
         "name": "unique_id",
         "type": "\"string\""
        },
        {
         "metadata": "{}",
         "name": "title",
         "type": "\"string\""
        },
        {
         "metadata": "{}",
         "name": "description",
         "type": "\"string\""
        },
        {
         "metadata": "{}",
         "name": "follower_count",
         "type": "\"integer\""
        },
        {
         "metadata": "{}",
         "name": "poster_name",
         "type": "\"string\""
        },
        {
         "metadata": "{}",
         "name": "tag_list",
         "type": "\"string\""
        },
        {
         "metadata": "{}",
         "name": "is_image_or_video",
         "type": "\"string\""
        },
        {
         "metadata": "{}",
         "name": "image_src",
         "type": "\"string\""
        },
        {
         "metadata": "{}",
         "name": "save_location",
         "type": "\"string\""
        },
        {
         "metadata": "{}",
         "name": "category",
         "type": "\"string\""
        }
       ],
       "type": "table"
      }
     },
     "output_type": "display_data"
    }
   ],
   "source": [
    "from pyspark.sql.functions import regexp_replace, col, from_json\n",
    "from pyspark.sql.types import StructType, StructField, StringType, IntegerType\n",
    "\n",
    "def clean_pin_df(df):\n",
    "    # Define the schema for the JSON data\n",
    "    schema = StructType([\n",
    "        StructField(\"index\", IntegerType(), True),\n",
    "        StructField(\"unique_id\", StringType(), True),\n",
    "        StructField(\"title\", StringType(), True),\n",
    "        StructField(\"description\", StringType(), True),\n",
    "        StructField(\"follower_count\", StringType(), True),\n",
    "        StructField(\"poster_name\", StringType(), True),\n",
    "        StructField(\"tag_list\", StringType(), True),\n",
    "        StructField(\"is_image_or_video\", StringType(), True),\n",
    "        StructField(\"image_src\", StringType(), True),\n",
    "        StructField(\"save_location\", StringType(), True),\n",
    "        StructField(\"category\", StringType(), True)\n",
    "    ])\n",
    "    \n",
    "    # Parse the JSON data and create a DataFrame with the specified schema\n",
    "    df_parsed = df.withColumn(\"data\", from_json(col(\"data\"), schema)).select(\"data.*\")\n",
    "    \n",
    "    # Replace empty entries and entries with no relevant data with None\n",
    "    cleaned_df = df_parsed.replace(\n",
    "        {\" \": None, \"N/A\": None, \"n/a\": None, \"nan\": None, \"null\": None, \"NULL\": None, \"None\": None, \"none\": None},\n",
    "        subset=[\"unique_id\", \"title\", \"description\", \"follower_count\", \"poster_name\", \"tag_list\", \"is_image_or_video\", \"image_src\", \"save_location\", \"category\"]\n",
    "    )\n",
    "    \n",
    "    # Ensure every entry in follower_count is a number\n",
    "    cleaned_df = cleaned_df.withColumn(\"follower_count\", regexp_replace(\"follower_count\", \"[^0-9]\", \"\"))\n",
    "    \n",
    "    # Cast follower_count to integer\n",
    "    cleaned_df = cleaned_df.withColumn(\"follower_count\", cleaned_df[\"follower_count\"].cast(\"int\"))\n",
    "    \n",
    "    # Clean the save_location column to include only the save location path\n",
    "    cleaned_df = cleaned_df.withColumn(\"save_location\", regexp_replace(\"save_location\", r\".*\\/\", \"\"))\n",
    "    \n",
    "    # Rename the index column to ind\n",
    "    cleaned_df = cleaned_df.withColumnRenamed(\"index\", \"ind\")\n",
    "    \n",
    "    # Reorder the DataFrame columns\n",
    "    cleaned_df = cleaned_df.select(\n",
    "        \"ind\", \"unique_id\", \"title\", \"description\", \"follower_count\", \"poster_name\", \"tag_list\", \"is_image_or_video\", \"image_src\", \"save_location\", \"category\"\n",
    "    )\n",
    "    \n",
    "    return cleaned_df\n",
    "\n",
    "try:\n",
    "    # Apply the cleaning function to df_pin\n",
    "    df_pin_cleaned = clean_pin_df(df_pin)\n",
    "    \n",
    "    # Display the cleaned DataFrame\n",
    "    display(df_pin_cleaned)\n",
    "except Exception as e:\n",
    "    raise ValueError(\"An error occurred while cleaning the DataFrame: \" + str(e))"
   ]
  },
  {
   "cell_type": "code",
   "execution_count": 0,
   "metadata": {
    "application/vnd.databricks.v1+cell": {
     "cellMetadata": {
      "byteLimit": 2048000,
      "rowLimit": 10000
     },
     "inputWidgets": {},
     "nuid": "3d899579-e099-44c3-a2c6-a91fca168a43",
     "showTitle": false,
     "title": ""
    }
   },
   "outputs": [
    {
     "output_type": "display_data",
     "data": {
      "text/html": [
       "<style scoped>\n",
       "  .table-result-container {\n",
       "    max-height: 300px;\n",
       "    overflow: auto;\n",
       "  }\n",
       "  table, th, td {\n",
       "    border: 1px solid black;\n",
       "    border-collapse: collapse;\n",
       "  }\n",
       "  th, td {\n",
       "    padding: 5px;\n",
       "  }\n",
       "  th {\n",
       "    text-align: left;\n",
       "  }\n",
       "</style><div class='table-result-container'><table class='table-result'><thead style='background-color: white'><tr><th>ind</th><th>country</th><th>coordinates</th><th>timestamp</th></tr></thead><tbody><tr><td>7528</td><td>Albania</td><td>List(-89.9787, -173.293)</td><td>2020-08-28T03:52:47.000+0000</td></tr><tr><td>2863</td><td>Armenia</td><td>List(-5.34445, -177.924)</td><td>2020-04-27T13:34:16.000+0000</td></tr><tr><td>5730</td><td>Colombia</td><td>List(-77.015, -101.437)</td><td>2021-04-19T17:37:03.000+0000</td></tr><tr><td>8304</td><td>French Guiana</td><td>List(-28.8852, -164.87)</td><td>2019-09-13T04:50:29.000+0000</td></tr><tr><td>8731</td><td>Aruba</td><td>List(-83.104, -171.302)</td><td>2020-07-17T04:39:09.000+0000</td></tr><tr><td>1313</td><td>Maldives</td><td>List(77.0447, 61.9119)</td><td>2018-06-26T02:39:25.000+0000</td></tr><tr><td>4315</td><td>Cote d'Ivoire</td><td>List(-45.8508, 66.1003)</td><td>2019-12-15T03:51:28.000+0000</td></tr><tr><td>10794</td><td>Cocos (Keeling) Islands</td><td>List(-89.5236, -154.567)</td><td>2022-01-01T02:26:50.000+0000</td></tr><tr><td>5494</td><td>Bulgaria</td><td>List(-82.6768, -129.202)</td><td>2021-07-21T02:02:35.000+0000</td></tr><tr><td>5069</td><td>Azerbaijan</td><td>List(-63.0063, -157.474)</td><td>2021-03-20T09:32:44.000+0000</td></tr><tr><td>2923</td><td>Cote d'Ivoire</td><td>List(-84.6302, -164.507)</td><td>2019-09-08T22:53:09.000+0000</td></tr><tr><td>3089</td><td>Albania</td><td>List(-89.9787, -173.293)</td><td>2018-02-28T05:31:29.000+0000</td></tr><tr><td>6063</td><td>Anguilla</td><td>List(-89.1797, -174.015)</td><td>2021-07-20T09:02:47.000+0000</td></tr><tr><td>3454</td><td>Cambodia</td><td>List(-0.375174, 49.8106)</td><td>2021-07-25T02:20:29.000+0000</td></tr><tr><td>7554</td><td>Sudan</td><td>List(-51.2172, -77.9768)</td><td>2019-03-20T03:15:07.000+0000</td></tr><tr><td>6145</td><td>Mozambique</td><td>List(-65.9079, -143.845)</td><td>2019-12-05T02:09:44.000+0000</td></tr><tr><td>10625</td><td>Jamaica</td><td>List(-84.4944, -81.0613)</td><td>2018-07-13T11:51:15.000+0000</td></tr><tr><td>2959</td><td>Angola</td><td>List(-68.0095, -157.227)</td><td>2019-08-19T08:22:02.000+0000</td></tr><tr><td>9875</td><td>Barbados</td><td>List(-74.3382, -110.484)</td><td>2020-03-20T13:03:18.000+0000</td></tr><tr><td>2418</td><td>Antarctica (the territory South of 60 deg S)</td><td>List(-88.4642, -171.061)</td><td>2022-05-27T11:30:59.000+0000</td></tr><tr><td>3156</td><td>Armenia</td><td>List(-84.738, -160.795)</td><td>2018-01-13T19:33:49.000+0000</td></tr><tr><td>428</td><td>Bangladesh</td><td>List(-83.4105, -150.788)</td><td>2020-09-27T18:46:41.000+0000</td></tr><tr><td>7343</td><td>Australia</td><td>List(-65.4428, -161.684)</td><td>2018-08-06T12:17:07.000+0000</td></tr><tr><td>2074</td><td>Central African Republic</td><td>List(-52.3213, -50.11)</td><td>2019-11-03T05:41:59.000+0000</td></tr><tr><td>9979</td><td>Dominican Republic</td><td>List(14.9967, -120.682)</td><td>2018-07-18T19:01:46.000+0000</td></tr><tr><td>10138</td><td>Austria</td><td>List(-72.142, -74.3545)</td><td>2019-08-03T00:59:29.000+0000</td></tr><tr><td>9672</td><td>India</td><td>List(79.4658, -69.4133)</td><td>2019-11-03T13:15:52.000+0000</td></tr><tr><td>8653</td><td>Seychelles</td><td>List(48.4569, -139.658)</td><td>2022-04-11T18:30:19.000+0000</td></tr><tr><td>8887</td><td>Botswana</td><td>List(-28.0137, -160.708)</td><td>2021-09-19T05:27:43.000+0000</td></tr><tr><td>7922</td><td>Antigua and Barbuda</td><td>List(-88.0974, -172.052)</td><td>2021-01-27T09:14:19.000+0000</td></tr><tr><td>1014</td><td>Tonga</td><td>List(81.1477, 69.3538)</td><td>2022-02-03T22:05:34.000+0000</td></tr><tr><td>4913</td><td>Aruba</td><td>List(-84.3768, -157.544)</td><td>2019-03-08T06:45:39.000+0000</td></tr><tr><td>4137</td><td>Australia</td><td>List(-55.3079, 108.918)</td><td>2019-06-23T22:16:34.000+0000</td></tr><tr><td>7166</td><td>Aruba</td><td>List(-86.4063, -136.657)</td><td>2022-07-25T03:07:37.000+0000</td></tr><tr><td>9546</td><td>Austria</td><td>List(-70.0295, -155.428)</td><td>2018-02-10T06:16:40.000+0000</td></tr><tr><td>2411</td><td>Albania</td><td>List(-71.6856, -179.126)</td><td>2020-11-15T17:10:07.000+0000</td></tr><tr><td>9590</td><td>Algeria</td><td>List(-64.3876, -174.281)</td><td>2019-05-20T19:48:48.000+0000</td></tr><tr><td>2698</td><td>Egypt</td><td>List(-72.7174, 24.169)</td><td>2021-11-24T08:33:51.000+0000</td></tr><tr><td>4508</td><td>Philippines</td><td>List(69.1858, -76.0761)</td><td>2019-01-04T11:15:27.000+0000</td></tr><tr><td>831</td><td>Congo</td><td>List(-43.7816, -66.1592)</td><td>2021-06-23T23:16:10.000+0000</td></tr><tr><td>5076</td><td>Germany</td><td>List(-70.7195, -91.1935)</td><td>2019-05-05T16:22:23.000+0000</td></tr><tr><td>10663</td><td>Saint Kitts and Nevis</td><td>List(-27.3474, -162.83)</td><td>2019-07-25T18:53:51.000+0000</td></tr><tr><td>5468</td><td>Isle of Man</td><td>List(-83.544, 33.9473)</td><td>2020-05-16T23:17:50.000+0000</td></tr><tr><td>205</td><td>Barbados</td><td>List(-75.8378, -163.945)</td><td>2020-07-08T14:10:38.000+0000</td></tr><tr><td>7790</td><td>Papua New Guinea</td><td>List(-43.692, 64.9839)</td><td>2018-07-31T08:19:15.000+0000</td></tr><tr><td>8606</td><td>Antigua and Barbuda</td><td>List(-88.0974, -172.052)</td><td>2021-03-28T14:54:07.000+0000</td></tr><tr><td>9759</td><td>American Samoa</td><td>List(-77.9744, -106.258)</td><td>2017-12-30T13:05:49.000+0000</td></tr><tr><td>719</td><td>Armenia</td><td>List(-38.4062, -154.323)</td><td>2018-10-29T04:05:12.000+0000</td></tr><tr><td>1704</td><td>Christmas Island</td><td>List(-56.8702, -93.6232)</td><td>2018-11-29T04:46:39.000+0000</td></tr><tr><td>2482</td><td>Bermuda</td><td>List(63.4563, -164.709)</td><td>2019-09-13T08:20:13.000+0000</td></tr><tr><td>8930</td><td>Argentina</td><td>List(-89.4739, -176.154)</td><td>2021-09-29T13:25:49.000+0000</td></tr><tr><td>7294</td><td>Australia</td><td>List(-76.2967, -136.501)</td><td>2018-02-12T08:06:28.000+0000</td></tr><tr><td>808</td><td>Albania</td><td>List(-71.6856, -179.126)</td><td>2019-01-03T15:43:12.000+0000</td></tr><tr><td>771</td><td>Montserrat</td><td>List(-29.1712, -107.111)</td><td>2018-06-21T08:42:57.000+0000</td></tr></tbody></table></div>"
      ]
     },
     "metadata": {
      "application/vnd.databricks.v1+output": {
       "addedWidgets": {},
       "aggData": [],
       "aggError": "",
       "aggOverflow": false,
       "aggSchema": [],
       "aggSeriesLimitReached": false,
       "aggType": "",
       "arguments": {},
       "columnCustomDisplayInfos": {},
       "data": [
        [
         7528,
         "Albania",
         [
          -89.9787,
          -173.293
         ],
         "2020-08-28T03:52:47.000+0000"
        ],
        [
         2863,
         "Armenia",
         [
          -5.34445,
          -177.924
         ],
         "2020-04-27T13:34:16.000+0000"
        ],
        [
         5730,
         "Colombia",
         [
          -77.015,
          -101.437
         ],
         "2021-04-19T17:37:03.000+0000"
        ],
        [
         8304,
         "French Guiana",
         [
          -28.8852,
          -164.87
         ],
         "2019-09-13T04:50:29.000+0000"
        ],
        [
         8731,
         "Aruba",
         [
          -83.104,
          -171.302
         ],
         "2020-07-17T04:39:09.000+0000"
        ],
        [
         1313,
         "Maldives",
         [
          77.0447,
          61.9119
         ],
         "2018-06-26T02:39:25.000+0000"
        ],
        [
         4315,
         "Cote d'Ivoire",
         [
          -45.8508,
          66.1003
         ],
         "2019-12-15T03:51:28.000+0000"
        ],
        [
         10794,
         "Cocos (Keeling) Islands",
         [
          -89.5236,
          -154.567
         ],
         "2022-01-01T02:26:50.000+0000"
        ],
        [
         5494,
         "Bulgaria",
         [
          -82.6768,
          -129.202
         ],
         "2021-07-21T02:02:35.000+0000"
        ],
        [
         5069,
         "Azerbaijan",
         [
          -63.0063,
          -157.474
         ],
         "2021-03-20T09:32:44.000+0000"
        ],
        [
         2923,
         "Cote d'Ivoire",
         [
          -84.6302,
          -164.507
         ],
         "2019-09-08T22:53:09.000+0000"
        ],
        [
         3089,
         "Albania",
         [
          -89.9787,
          -173.293
         ],
         "2018-02-28T05:31:29.000+0000"
        ],
        [
         6063,
         "Anguilla",
         [
          -89.1797,
          -174.015
         ],
         "2021-07-20T09:02:47.000+0000"
        ],
        [
         3454,
         "Cambodia",
         [
          -0.375174,
          49.8106
         ],
         "2021-07-25T02:20:29.000+0000"
        ],
        [
         7554,
         "Sudan",
         [
          -51.2172,
          -77.9768
         ],
         "2019-03-20T03:15:07.000+0000"
        ],
        [
         6145,
         "Mozambique",
         [
          -65.9079,
          -143.845
         ],
         "2019-12-05T02:09:44.000+0000"
        ],
        [
         10625,
         "Jamaica",
         [
          -84.4944,
          -81.0613
         ],
         "2018-07-13T11:51:15.000+0000"
        ],
        [
         2959,
         "Angola",
         [
          -68.0095,
          -157.227
         ],
         "2019-08-19T08:22:02.000+0000"
        ],
        [
         9875,
         "Barbados",
         [
          -74.3382,
          -110.484
         ],
         "2020-03-20T13:03:18.000+0000"
        ],
        [
         2418,
         "Antarctica (the territory South of 60 deg S)",
         [
          -88.4642,
          -171.061
         ],
         "2022-05-27T11:30:59.000+0000"
        ],
        [
         3156,
         "Armenia",
         [
          -84.738,
          -160.795
         ],
         "2018-01-13T19:33:49.000+0000"
        ],
        [
         428,
         "Bangladesh",
         [
          -83.4105,
          -150.788
         ],
         "2020-09-27T18:46:41.000+0000"
        ],
        [
         7343,
         "Australia",
         [
          -65.4428,
          -161.684
         ],
         "2018-08-06T12:17:07.000+0000"
        ],
        [
         2074,
         "Central African Republic",
         [
          -52.3213,
          -50.11
         ],
         "2019-11-03T05:41:59.000+0000"
        ],
        [
         9979,
         "Dominican Republic",
         [
          14.9967,
          -120.682
         ],
         "2018-07-18T19:01:46.000+0000"
        ],
        [
         10138,
         "Austria",
         [
          -72.142,
          -74.3545
         ],
         "2019-08-03T00:59:29.000+0000"
        ],
        [
         9672,
         "India",
         [
          79.4658,
          -69.4133
         ],
         "2019-11-03T13:15:52.000+0000"
        ],
        [
         8653,
         "Seychelles",
         [
          48.4569,
          -139.658
         ],
         "2022-04-11T18:30:19.000+0000"
        ],
        [
         8887,
         "Botswana",
         [
          -28.0137,
          -160.708
         ],
         "2021-09-19T05:27:43.000+0000"
        ],
        [
         7922,
         "Antigua and Barbuda",
         [
          -88.0974,
          -172.052
         ],
         "2021-01-27T09:14:19.000+0000"
        ],
        [
         1014,
         "Tonga",
         [
          81.1477,
          69.3538
         ],
         "2022-02-03T22:05:34.000+0000"
        ],
        [
         4913,
         "Aruba",
         [
          -84.3768,
          -157.544
         ],
         "2019-03-08T06:45:39.000+0000"
        ],
        [
         4137,
         "Australia",
         [
          -55.3079,
          108.918
         ],
         "2019-06-23T22:16:34.000+0000"
        ],
        [
         7166,
         "Aruba",
         [
          -86.4063,
          -136.657
         ],
         "2022-07-25T03:07:37.000+0000"
        ],
        [
         9546,
         "Austria",
         [
          -70.0295,
          -155.428
         ],
         "2018-02-10T06:16:40.000+0000"
        ],
        [
         2411,
         "Albania",
         [
          -71.6856,
          -179.126
         ],
         "2020-11-15T17:10:07.000+0000"
        ],
        [
         9590,
         "Algeria",
         [
          -64.3876,
          -174.281
         ],
         "2019-05-20T19:48:48.000+0000"
        ],
        [
         2698,
         "Egypt",
         [
          -72.7174,
          24.169
         ],
         "2021-11-24T08:33:51.000+0000"
        ],
        [
         4508,
         "Philippines",
         [
          69.1858,
          -76.0761
         ],
         "2019-01-04T11:15:27.000+0000"
        ],
        [
         831,
         "Congo",
         [
          -43.7816,
          -66.1592
         ],
         "2021-06-23T23:16:10.000+0000"
        ],
        [
         5076,
         "Germany",
         [
          -70.7195,
          -91.1935
         ],
         "2019-05-05T16:22:23.000+0000"
        ],
        [
         10663,
         "Saint Kitts and Nevis",
         [
          -27.3474,
          -162.83
         ],
         "2019-07-25T18:53:51.000+0000"
        ],
        [
         5468,
         "Isle of Man",
         [
          -83.544,
          33.9473
         ],
         "2020-05-16T23:17:50.000+0000"
        ],
        [
         205,
         "Barbados",
         [
          -75.8378,
          -163.945
         ],
         "2020-07-08T14:10:38.000+0000"
        ],
        [
         7790,
         "Papua New Guinea",
         [
          -43.692,
          64.9839
         ],
         "2018-07-31T08:19:15.000+0000"
        ],
        [
         8606,
         "Antigua and Barbuda",
         [
          -88.0974,
          -172.052
         ],
         "2021-03-28T14:54:07.000+0000"
        ],
        [
         9759,
         "American Samoa",
         [
          -77.9744,
          -106.258
         ],
         "2017-12-30T13:05:49.000+0000"
        ],
        [
         719,
         "Armenia",
         [
          -38.4062,
          -154.323
         ],
         "2018-10-29T04:05:12.000+0000"
        ],
        [
         1704,
         "Christmas Island",
         [
          -56.8702,
          -93.6232
         ],
         "2018-11-29T04:46:39.000+0000"
        ],
        [
         2482,
         "Bermuda",
         [
          63.4563,
          -164.709
         ],
         "2019-09-13T08:20:13.000+0000"
        ],
        [
         8930,
         "Argentina",
         [
          -89.4739,
          -176.154
         ],
         "2021-09-29T13:25:49.000+0000"
        ],
        [
         7294,
         "Australia",
         [
          -76.2967,
          -136.501
         ],
         "2018-02-12T08:06:28.000+0000"
        ],
        [
         808,
         "Albania",
         [
          -71.6856,
          -179.126
         ],
         "2019-01-03T15:43:12.000+0000"
        ],
        [
         771,
         "Montserrat",
         [
          -29.1712,
          -107.111
         ],
         "2018-06-21T08:42:57.000+0000"
        ]
       ],
       "datasetInfos": [],
       "dbfsResultPath": null,
       "isJsonSchema": true,
       "metadata": {
        "isDbfsCommandResult": false
       },
       "overflow": false,
       "plotOptions": {
        "customPlotOptions": {},
        "displayType": "table",
        "pivotAggregation": null,
        "pivotColumns": null,
        "xColumns": null,
        "yColumns": null
       },
       "removedWidgets": [],
       "schema": [
        {
         "metadata": "{}",
         "name": "ind",
         "type": "\"integer\""
        },
        {
         "metadata": "{}",
         "name": "country",
         "type": "\"string\""
        },
        {
         "metadata": "{}",
         "name": "coordinates",
         "type": "{\"type\":\"array\",\"elementType\":\"double\",\"containsNull\":true}"
        },
        {
         "metadata": "{}",
         "name": "timestamp",
         "type": "\"timestamp\""
        }
       ],
       "type": "table"
      }
     },
     "output_type": "display_data"
    }
   ],
   "source": [
    "from pyspark.sql.functions import array, col, to_timestamp, from_json\n",
    "from pyspark.sql.types import StructType, StructField, StringType, DoubleType, IntegerType\n",
    "\n",
    "def clean_geo_df(df):\n",
    "    # Define the schema for the JSON data\n",
    "    schema = StructType([\n",
    "        StructField(\"ind\", IntegerType(), True),\n",
    "        StructField(\"timestamp\", StringType(), True),\n",
    "        StructField(\"latitude\", DoubleType(), True),\n",
    "        StructField(\"longitude\", DoubleType(), True),\n",
    "        StructField(\"country\", StringType(), True)\n",
    "    ])\n",
    "    \n",
    "    # Parse the JSON data and create a DataFrame with the specified schema\n",
    "    df_parsed = df.withColumn(\"data\", from_json(col(\"data\"), schema)).select(\"data.*\")\n",
    "    \n",
    "    # Convert the timestamp column from a string to a timestamp data type\n",
    "    df_parsed = df_parsed.withColumn(\"timestamp\", to_timestamp(col(\"timestamp\")))\n",
    "    \n",
    "    # Create a new column 'coordinates' that contains an array based on the latitude and longitude columns\n",
    "    df_parsed = df_parsed.withColumn(\"coordinates\", array(\"latitude\", \"longitude\"))\n",
    "    \n",
    "    # Drop the latitude and longitude columns\n",
    "    df_parsed = df_parsed.drop(\"latitude\", \"longitude\")\n",
    "    \n",
    "    # Reorder the DataFrame columns\n",
    "    df_cleaned = df_parsed.select(\"ind\", \"country\", \"coordinates\", \"timestamp\")\n",
    "    \n",
    "    return df_cleaned\n",
    "\n",
    "try:\n",
    "    # Apply the cleaning function to df_geo\n",
    "    df_geo_cleaned = clean_geo_df(df_geo)\n",
    "    \n",
    "    # Display the cleaned DataFrame\n",
    "    display(df_geo_cleaned)\n",
    "except Exception as e:\n",
    "    raise ValueError(\"An error occurred while cleaning the DataFrame: \" + str(e))"
   ]
  },
  {
   "cell_type": "code",
   "execution_count": 0,
   "metadata": {
    "application/vnd.databricks.v1+cell": {
     "cellMetadata": {
      "byteLimit": 2048000,
      "rowLimit": 10000
     },
     "inputWidgets": {},
     "nuid": "fa9ea96e-a434-4e28-a226-9084f61a93fc",
     "showTitle": false,
     "title": ""
    }
   },
   "outputs": [
    {
     "output_type": "display_data",
     "data": {
      "text/html": [
       "<style scoped>\n",
       "  .ansiout {\n",
       "    display: block;\n",
       "    unicode-bidi: embed;\n",
       "    white-space: pre-wrap;\n",
       "    word-wrap: break-word;\n",
       "    word-break: break-all;\n",
       "    font-family: \"Menlo\", \"Monaco\", \"Consolas\", \"Ubuntu Mono\", \"Source Code Pro\", monospace;\n",
       "    font-size: 13px;\n",
       "    color: #555;\n",
       "    margin-left: 4px;\n",
       "    line-height: 19px;\n",
       "  }\n",
       "</style>\n",
       "<div class=\"ansiout\"></div>"
      ]
     },
     "metadata": {
      "application/vnd.databricks.v1+output": {
       "addedWidgets": {},
       "arguments": {},
       "data": "<div class=\"ansiout\"></div>",
       "datasetInfos": [],
       "metadata": {},
       "removedWidgets": [],
       "type": "html"
      }
     },
     "output_type": "display_data"
    }
   ],
   "source": [
    "df_user = df_user.selectExpr(\"CAST(data as STRING)\")"
   ]
  },
  {
   "cell_type": "code",
   "execution_count": 0,
   "metadata": {
    "application/vnd.databricks.v1+cell": {
     "cellMetadata": {
      "byteLimit": 2048000,
      "rowLimit": 10000
     },
     "inputWidgets": {},
     "nuid": "8da99178-e996-42f1-a94e-72d072df31d8",
     "showTitle": false,
     "title": ""
    }
   },
   "outputs": [
    {
     "output_type": "display_data",
     "data": {
      "text/html": [
       "<style scoped>\n",
       "  .table-result-container {\n",
       "    max-height: 300px;\n",
       "    overflow: auto;\n",
       "  }\n",
       "  table, th, td {\n",
       "    border: 1px solid black;\n",
       "    border-collapse: collapse;\n",
       "  }\n",
       "  th, td {\n",
       "    padding: 5px;\n",
       "  }\n",
       "  th {\n",
       "    text-align: left;\n",
       "  }\n",
       "</style><div class='table-result-container'><table class='table-result'><thead style='background-color: white'><tr><th>data</th></tr></thead><tbody><tr><td>{\"ind\":7528,\"first_name\":\"Abigail\",\"last_name\":\"Ali\",\"age\":20,\"date_joined\":\"2015-10-24T11:23:51\"}</td></tr><tr><td>{\"ind\":2863,\"first_name\":\"Dylan\",\"last_name\":\"Holmes\",\"age\":32,\"date_joined\":\"2016-10-23T14:06:51\"}</td></tr><tr><td>{\"ind\":5730,\"first_name\":\"Rachel\",\"last_name\":\"Davis\",\"age\":36,\"date_joined\":\"2015-12-08T20:02:43\"}</td></tr><tr><td>{\"ind\":8304,\"first_name\":\"Charles\",\"last_name\":\"Berry\",\"age\":25,\"date_joined\":\"2015-12-28T04:21:39\"}</td></tr><tr><td>{\"ind\":8731,\"first_name\":\"Andrea\",\"last_name\":\"Alexander\",\"age\":21,\"date_joined\":\"2015-11-10T09:27:42\"}</td></tr><tr><td>{\"ind\":1313,\"first_name\":\"Brittany\",\"last_name\":\"Jones\",\"age\":32,\"date_joined\":\"2016-04-02T03:51:23\"}</td></tr><tr><td>{\"ind\":4315,\"first_name\":\"Michelle\",\"last_name\":\"Prince\",\"age\":36,\"date_joined\":\"2015-12-20T16:38:13\"}</td></tr><tr><td>{\"ind\":10794,\"first_name\":\"Thomas\",\"last_name\":\"Turner\",\"age\":34,\"date_joined\":\"2016-12-22T00:02:02\"}</td></tr><tr><td>{\"ind\":5494,\"first_name\":\"Anne\",\"last_name\":\"Allen\",\"age\":27,\"date_joined\":\"2015-12-16T15:20:05\"}</td></tr><tr><td>{\"ind\":5069,\"first_name\":\"Amanda\",\"last_name\":\"Ball\",\"age\":25,\"date_joined\":\"2016-01-13T17:36:30\"}</td></tr><tr><td>{\"ind\":2923,\"first_name\":\"Brian\",\"last_name\":\"Nelson\",\"age\":26,\"date_joined\":\"2015-11-11T03:20:57\"}</td></tr><tr><td>{\"ind\":3089,\"first_name\":\"Abigail\",\"last_name\":\"Ali\",\"age\":20,\"date_joined\":\"2015-10-24T11:23:51\"}</td></tr><tr><td>{\"ind\":6063,\"first_name\":\"Corey\",\"last_name\":\"Andrews\",\"age\":23,\"date_joined\":\"2015-11-25T13:36:22\"}</td></tr><tr><td>{\"ind\":3454,\"first_name\":\"Robert\",\"last_name\":\"Murphy\",\"age\":48,\"date_joined\":\"2017-09-26T16:31:56\"}</td></tr><tr><td>{\"ind\":7554,\"first_name\":\"Cheryl\",\"last_name\":\"Huerta\",\"age\":20,\"date_joined\":\"2017-04-11T16:35:33\"}</td></tr><tr><td>{\"ind\":6145,\"first_name\":\"Emily\",\"last_name\":\"Hawkins\",\"age\":30,\"date_joined\":\"2015-12-25T20:24:37\"}</td></tr><tr><td>{\"ind\":10625,\"first_name\":\"Christian\",\"last_name\":\"Lang\",\"age\":32,\"date_joined\":\"2017-10-10T20:09:33\"}</td></tr><tr><td>{\"ind\":2959,\"first_name\":\"David\",\"last_name\":\"Griffith\",\"age\":20,\"date_joined\":\"2016-01-07T19:49:22\"}</td></tr><tr><td>{\"ind\":9875,\"first_name\":\"Brendan\",\"last_name\":\"Joseph\",\"age\":26,\"date_joined\":\"2015-12-20T10:28:00\"}</td></tr><tr><td>{\"ind\":2418,\"first_name\":\"Amanda\",\"last_name\":\"Adams\",\"age\":20,\"date_joined\":\"2015-10-21T08:27:36\"}</td></tr><tr><td>{\"ind\":3156,\"first_name\":\"Andrew\",\"last_name\":\"Baker\",\"age\":22,\"date_joined\":\"2015-12-21T08:06:54\"}</td></tr><tr><td>{\"ind\":428,\"first_name\":\"Claudia\",\"last_name\":\"Adams\",\"age\":20,\"date_joined\":\"2015-11-28T02:20:29\"}</td></tr><tr><td>{\"ind\":7343,\"first_name\":\"Anne\",\"last_name\":\"Clayton\",\"age\":24,\"date_joined\":\"2016-01-11T12:03:48\"}</td></tr><tr><td>{\"ind\":2074,\"first_name\":\"Annette\",\"last_name\":\"Forbes\",\"age\":21,\"date_joined\":\"2016-01-03T15:42:12\"}</td></tr><tr><td>{\"ind\":9979,\"first_name\":\"Kaylee\",\"last_name\":\"Miller\",\"age\":31,\"date_joined\":\"2016-11-09T19:50:51\"}</td></tr><tr><td>{\"ind\":10138,\"first_name\":\"Carol\",\"last_name\":\"Silva\",\"age\":22,\"date_joined\":\"2015-12-31T14:57:02\"}</td></tr><tr><td>{\"ind\":9672,\"first_name\":\"Jennifer\",\"last_name\":\"Hudson\",\"age\":22,\"date_joined\":\"2016-02-11T20:46:04\"}</td></tr><tr><td>{\"ind\":8653,\"first_name\":\"Tammy\",\"last_name\":\"Davis\",\"age\":24,\"date_joined\":\"2016-03-09T10:48:14\"}</td></tr><tr><td>{\"ind\":8887,\"first_name\":\"Austin\",\"last_name\":\"Rodriguez\",\"age\":24,\"date_joined\":\"2016-03-31T20:56:39\"}</td></tr><tr><td>{\"ind\":7922,\"first_name\":\"Denise\",\"last_name\":\"Adams\",\"age\":21,\"date_joined\":\"2015-11-12T06:21:36\"}</td></tr><tr><td>{\"ind\":1014,\"first_name\":\"Gregory\",\"last_name\":\"Ramsey\",\"age\":56,\"date_joined\":\"2016-10-15T17:21:39\"}</td></tr><tr><td>{\"ind\":4913,\"first_name\":\"Angela\",\"last_name\":\"Brooks\",\"age\":24,\"date_joined\":\"2015-11-20T05:37:11\"}</td></tr><tr><td>{\"ind\":4137,\"first_name\":\"Michael\",\"last_name\":\"Decker\",\"age\":59,\"date_joined\":\"2017-06-29T22:35:17\"}</td></tr><tr><td>{\"ind\":7166,\"first_name\":\"Alvin\",\"last_name\":\"Adams\",\"age\":20,\"date_joined\":\"2016-01-01T13:50:40\"}</td></tr><tr><td>{\"ind\":9546,\"first_name\":\"Alex\",\"last_name\":\"Barnes\",\"age\":20,\"date_joined\":\"2016-02-27T21:13:44\"}</td></tr><tr><td>{\"ind\":2411,\"first_name\":\"Aaron\",\"last_name\":\"Bartlett\",\"age\":21,\"date_joined\":\"2015-11-24T02:15:36\"}</td></tr><tr><td>{\"ind\":9590,\"first_name\":\"Amanda\",\"last_name\":\"Allen\",\"age\":22,\"date_joined\":\"2015-10-24T18:56:30\"}</td></tr><tr><td>{\"ind\":2698,\"first_name\":\"Kayla\",\"last_name\":\"Burton\",\"age\":44,\"date_joined\":\"2017-06-21T19:53:27\"}</td></tr><tr><td>{\"ind\":4508,\"first_name\":\"Michael\",\"last_name\":\"Carter\",\"age\":58,\"date_joined\":\"2016-06-03T23:35:30\"}</td></tr><tr><td>{\"ind\":831,\"first_name\":\"Aimee\",\"last_name\":\"Collins\",\"age\":28,\"date_joined\":\"2016-06-16T02:06:38\"}</td></tr><tr><td>{\"ind\":5076,\"first_name\":\"Christopher\",\"last_name\":\"Butler\",\"age\":20,\"date_joined\":\"2015-12-01T15:08:31\"}</td></tr><tr><td>{\"ind\":10663,\"first_name\":\"Julie\",\"last_name\":\"Cox\",\"age\":23,\"date_joined\":\"2016-06-23T14:38:00\"}</td></tr><tr><td>{\"ind\":5468,\"first_name\":\"Lisa\",\"last_name\":\"Gamble\",\"age\":20,\"date_joined\":\"2016-07-23T20:51:06\"}</td></tr><tr><td>{\"ind\":205,\"first_name\":\"Brett\",\"last_name\":\"Bryant\",\"age\":20,\"date_joined\":\"2015-10-23T12:40:19\"}</td></tr><tr><td>{\"ind\":7790,\"first_name\":\"Michelle\",\"last_name\":\"Gutierrez\",\"age\":39,\"date_joined\":\"2017-07-19T07:12:04\"}</td></tr><tr><td>{\"ind\":8606,\"first_name\":\"Denise\",\"last_name\":\"Adams\",\"age\":21,\"date_joined\":\"2015-11-12T06:21:36\"}</td></tr><tr><td>{\"ind\":9759,\"first_name\":\"Daniel\",\"last_name\":\"Brooks\",\"age\":25,\"date_joined\":\"2015-11-19T21:24:33\"}</td></tr><tr><td>{\"ind\":719,\"first_name\":\"Alicia\",\"last_name\":\"Avila\",\"age\":20,\"date_joined\":\"2016-01-26T01:49:23\"}</td></tr><tr><td>{\"ind\":1704,\"first_name\":\"Barry\",\"last_name\":\"Lynn\",\"age\":20,\"date_joined\":\"2015-10-28T05:00:33\"}</td></tr><tr><td>{\"ind\":2482,\"first_name\":\"David\",\"last_name\":\"Moss\",\"age\":22,\"date_joined\":\"2016-03-01T07:11:48\"}</td></tr><tr><td>{\"ind\":8930,\"first_name\":\"Andrew\",\"last_name\":\"Anderson\",\"age\":23,\"date_joined\":\"2015-11-28T11:52:37\"}</td></tr><tr><td>{\"ind\":7294,\"first_name\":\"Dawn\",\"last_name\":\"Anderson\",\"age\":20,\"date_joined\":\"2016-12-31T00:06:36\"}</td></tr><tr><td>{\"ind\":808,\"first_name\":\"Aaron\",\"last_name\":\"Bartlett\",\"age\":21,\"date_joined\":\"2015-11-24T02:15:36\"}</td></tr><tr><td>{\"ind\":771,\"first_name\":\"Brittany\",\"last_name\":\"Butler\",\"age\":32,\"date_joined\":\"2016-03-10T04:11:31\"}</td></tr></tbody></table></div>"
      ]
     },
     "metadata": {
      "application/vnd.databricks.v1+output": {
       "addedWidgets": {},
       "aggData": [],
       "aggError": "",
       "aggOverflow": false,
       "aggSchema": [],
       "aggSeriesLimitReached": false,
       "aggType": "",
       "arguments": {},
       "columnCustomDisplayInfos": {},
       "data": [
        [
         "{\"ind\":7528,\"first_name\":\"Abigail\",\"last_name\":\"Ali\",\"age\":20,\"date_joined\":\"2015-10-24T11:23:51\"}"
        ],
        [
         "{\"ind\":2863,\"first_name\":\"Dylan\",\"last_name\":\"Holmes\",\"age\":32,\"date_joined\":\"2016-10-23T14:06:51\"}"
        ],
        [
         "{\"ind\":5730,\"first_name\":\"Rachel\",\"last_name\":\"Davis\",\"age\":36,\"date_joined\":\"2015-12-08T20:02:43\"}"
        ],
        [
         "{\"ind\":8304,\"first_name\":\"Charles\",\"last_name\":\"Berry\",\"age\":25,\"date_joined\":\"2015-12-28T04:21:39\"}"
        ],
        [
         "{\"ind\":8731,\"first_name\":\"Andrea\",\"last_name\":\"Alexander\",\"age\":21,\"date_joined\":\"2015-11-10T09:27:42\"}"
        ],
        [
         "{\"ind\":1313,\"first_name\":\"Brittany\",\"last_name\":\"Jones\",\"age\":32,\"date_joined\":\"2016-04-02T03:51:23\"}"
        ],
        [
         "{\"ind\":4315,\"first_name\":\"Michelle\",\"last_name\":\"Prince\",\"age\":36,\"date_joined\":\"2015-12-20T16:38:13\"}"
        ],
        [
         "{\"ind\":10794,\"first_name\":\"Thomas\",\"last_name\":\"Turner\",\"age\":34,\"date_joined\":\"2016-12-22T00:02:02\"}"
        ],
        [
         "{\"ind\":5494,\"first_name\":\"Anne\",\"last_name\":\"Allen\",\"age\":27,\"date_joined\":\"2015-12-16T15:20:05\"}"
        ],
        [
         "{\"ind\":5069,\"first_name\":\"Amanda\",\"last_name\":\"Ball\",\"age\":25,\"date_joined\":\"2016-01-13T17:36:30\"}"
        ],
        [
         "{\"ind\":2923,\"first_name\":\"Brian\",\"last_name\":\"Nelson\",\"age\":26,\"date_joined\":\"2015-11-11T03:20:57\"}"
        ],
        [
         "{\"ind\":3089,\"first_name\":\"Abigail\",\"last_name\":\"Ali\",\"age\":20,\"date_joined\":\"2015-10-24T11:23:51\"}"
        ],
        [
         "{\"ind\":6063,\"first_name\":\"Corey\",\"last_name\":\"Andrews\",\"age\":23,\"date_joined\":\"2015-11-25T13:36:22\"}"
        ],
        [
         "{\"ind\":3454,\"first_name\":\"Robert\",\"last_name\":\"Murphy\",\"age\":48,\"date_joined\":\"2017-09-26T16:31:56\"}"
        ],
        [
         "{\"ind\":7554,\"first_name\":\"Cheryl\",\"last_name\":\"Huerta\",\"age\":20,\"date_joined\":\"2017-04-11T16:35:33\"}"
        ],
        [
         "{\"ind\":6145,\"first_name\":\"Emily\",\"last_name\":\"Hawkins\",\"age\":30,\"date_joined\":\"2015-12-25T20:24:37\"}"
        ],
        [
         "{\"ind\":10625,\"first_name\":\"Christian\",\"last_name\":\"Lang\",\"age\":32,\"date_joined\":\"2017-10-10T20:09:33\"}"
        ],
        [
         "{\"ind\":2959,\"first_name\":\"David\",\"last_name\":\"Griffith\",\"age\":20,\"date_joined\":\"2016-01-07T19:49:22\"}"
        ],
        [
         "{\"ind\":9875,\"first_name\":\"Brendan\",\"last_name\":\"Joseph\",\"age\":26,\"date_joined\":\"2015-12-20T10:28:00\"}"
        ],
        [
         "{\"ind\":2418,\"first_name\":\"Amanda\",\"last_name\":\"Adams\",\"age\":20,\"date_joined\":\"2015-10-21T08:27:36\"}"
        ],
        [
         "{\"ind\":3156,\"first_name\":\"Andrew\",\"last_name\":\"Baker\",\"age\":22,\"date_joined\":\"2015-12-21T08:06:54\"}"
        ],
        [
         "{\"ind\":428,\"first_name\":\"Claudia\",\"last_name\":\"Adams\",\"age\":20,\"date_joined\":\"2015-11-28T02:20:29\"}"
        ],
        [
         "{\"ind\":7343,\"first_name\":\"Anne\",\"last_name\":\"Clayton\",\"age\":24,\"date_joined\":\"2016-01-11T12:03:48\"}"
        ],
        [
         "{\"ind\":2074,\"first_name\":\"Annette\",\"last_name\":\"Forbes\",\"age\":21,\"date_joined\":\"2016-01-03T15:42:12\"}"
        ],
        [
         "{\"ind\":9979,\"first_name\":\"Kaylee\",\"last_name\":\"Miller\",\"age\":31,\"date_joined\":\"2016-11-09T19:50:51\"}"
        ],
        [
         "{\"ind\":10138,\"first_name\":\"Carol\",\"last_name\":\"Silva\",\"age\":22,\"date_joined\":\"2015-12-31T14:57:02\"}"
        ],
        [
         "{\"ind\":9672,\"first_name\":\"Jennifer\",\"last_name\":\"Hudson\",\"age\":22,\"date_joined\":\"2016-02-11T20:46:04\"}"
        ],
        [
         "{\"ind\":8653,\"first_name\":\"Tammy\",\"last_name\":\"Davis\",\"age\":24,\"date_joined\":\"2016-03-09T10:48:14\"}"
        ],
        [
         "{\"ind\":8887,\"first_name\":\"Austin\",\"last_name\":\"Rodriguez\",\"age\":24,\"date_joined\":\"2016-03-31T20:56:39\"}"
        ],
        [
         "{\"ind\":7922,\"first_name\":\"Denise\",\"last_name\":\"Adams\",\"age\":21,\"date_joined\":\"2015-11-12T06:21:36\"}"
        ],
        [
         "{\"ind\":1014,\"first_name\":\"Gregory\",\"last_name\":\"Ramsey\",\"age\":56,\"date_joined\":\"2016-10-15T17:21:39\"}"
        ],
        [
         "{\"ind\":4913,\"first_name\":\"Angela\",\"last_name\":\"Brooks\",\"age\":24,\"date_joined\":\"2015-11-20T05:37:11\"}"
        ],
        [
         "{\"ind\":4137,\"first_name\":\"Michael\",\"last_name\":\"Decker\",\"age\":59,\"date_joined\":\"2017-06-29T22:35:17\"}"
        ],
        [
         "{\"ind\":7166,\"first_name\":\"Alvin\",\"last_name\":\"Adams\",\"age\":20,\"date_joined\":\"2016-01-01T13:50:40\"}"
        ],
        [
         "{\"ind\":9546,\"first_name\":\"Alex\",\"last_name\":\"Barnes\",\"age\":20,\"date_joined\":\"2016-02-27T21:13:44\"}"
        ],
        [
         "{\"ind\":2411,\"first_name\":\"Aaron\",\"last_name\":\"Bartlett\",\"age\":21,\"date_joined\":\"2015-11-24T02:15:36\"}"
        ],
        [
         "{\"ind\":9590,\"first_name\":\"Amanda\",\"last_name\":\"Allen\",\"age\":22,\"date_joined\":\"2015-10-24T18:56:30\"}"
        ],
        [
         "{\"ind\":2698,\"first_name\":\"Kayla\",\"last_name\":\"Burton\",\"age\":44,\"date_joined\":\"2017-06-21T19:53:27\"}"
        ],
        [
         "{\"ind\":4508,\"first_name\":\"Michael\",\"last_name\":\"Carter\",\"age\":58,\"date_joined\":\"2016-06-03T23:35:30\"}"
        ],
        [
         "{\"ind\":831,\"first_name\":\"Aimee\",\"last_name\":\"Collins\",\"age\":28,\"date_joined\":\"2016-06-16T02:06:38\"}"
        ],
        [
         "{\"ind\":5076,\"first_name\":\"Christopher\",\"last_name\":\"Butler\",\"age\":20,\"date_joined\":\"2015-12-01T15:08:31\"}"
        ],
        [
         "{\"ind\":10663,\"first_name\":\"Julie\",\"last_name\":\"Cox\",\"age\":23,\"date_joined\":\"2016-06-23T14:38:00\"}"
        ],
        [
         "{\"ind\":5468,\"first_name\":\"Lisa\",\"last_name\":\"Gamble\",\"age\":20,\"date_joined\":\"2016-07-23T20:51:06\"}"
        ],
        [
         "{\"ind\":205,\"first_name\":\"Brett\",\"last_name\":\"Bryant\",\"age\":20,\"date_joined\":\"2015-10-23T12:40:19\"}"
        ],
        [
         "{\"ind\":7790,\"first_name\":\"Michelle\",\"last_name\":\"Gutierrez\",\"age\":39,\"date_joined\":\"2017-07-19T07:12:04\"}"
        ],
        [
         "{\"ind\":8606,\"first_name\":\"Denise\",\"last_name\":\"Adams\",\"age\":21,\"date_joined\":\"2015-11-12T06:21:36\"}"
        ],
        [
         "{\"ind\":9759,\"first_name\":\"Daniel\",\"last_name\":\"Brooks\",\"age\":25,\"date_joined\":\"2015-11-19T21:24:33\"}"
        ],
        [
         "{\"ind\":719,\"first_name\":\"Alicia\",\"last_name\":\"Avila\",\"age\":20,\"date_joined\":\"2016-01-26T01:49:23\"}"
        ],
        [
         "{\"ind\":1704,\"first_name\":\"Barry\",\"last_name\":\"Lynn\",\"age\":20,\"date_joined\":\"2015-10-28T05:00:33\"}"
        ],
        [
         "{\"ind\":2482,\"first_name\":\"David\",\"last_name\":\"Moss\",\"age\":22,\"date_joined\":\"2016-03-01T07:11:48\"}"
        ],
        [
         "{\"ind\":8930,\"first_name\":\"Andrew\",\"last_name\":\"Anderson\",\"age\":23,\"date_joined\":\"2015-11-28T11:52:37\"}"
        ],
        [
         "{\"ind\":7294,\"first_name\":\"Dawn\",\"last_name\":\"Anderson\",\"age\":20,\"date_joined\":\"2016-12-31T00:06:36\"}"
        ],
        [
         "{\"ind\":808,\"first_name\":\"Aaron\",\"last_name\":\"Bartlett\",\"age\":21,\"date_joined\":\"2015-11-24T02:15:36\"}"
        ],
        [
         "{\"ind\":771,\"first_name\":\"Brittany\",\"last_name\":\"Butler\",\"age\":32,\"date_joined\":\"2016-03-10T04:11:31\"}"
        ]
       ],
       "datasetInfos": [],
       "dbfsResultPath": null,
       "isJsonSchema": true,
       "metadata": {
        "isDbfsCommandResult": false
       },
       "overflow": false,
       "plotOptions": {
        "customPlotOptions": {},
        "displayType": "table",
        "pivotAggregation": null,
        "pivotColumns": null,
        "xColumns": null,
        "yColumns": null
       },
       "removedWidgets": [],
       "schema": [
        {
         "metadata": "{}",
         "name": "data",
         "type": "\"string\""
        }
       ],
       "type": "table"
      }
     },
     "output_type": "display_data"
    }
   ],
   "source": [
    "display(df_user)"
   ]
  },
  {
   "cell_type": "code",
   "execution_count": 0,
   "metadata": {
    "application/vnd.databricks.v1+cell": {
     "cellMetadata": {
      "byteLimit": 2048000,
      "rowLimit": 10000
     },
     "inputWidgets": {},
     "nuid": "3620c764-17d1-4275-bf1b-d42b819d902a",
     "showTitle": false,
     "title": ""
    }
   },
   "outputs": [
    {
     "output_type": "display_data",
     "data": {
      "text/html": [
       "<style scoped>\n",
       "  .table-result-container {\n",
       "    max-height: 300px;\n",
       "    overflow: auto;\n",
       "  }\n",
       "  table, th, td {\n",
       "    border: 1px solid black;\n",
       "    border-collapse: collapse;\n",
       "  }\n",
       "  th, td {\n",
       "    padding: 5px;\n",
       "  }\n",
       "  th {\n",
       "    text-align: left;\n",
       "  }\n",
       "</style><div class='table-result-container'><table class='table-result'><thead style='background-color: white'><tr><th>ind</th><th>user_name</th><th>age</th><th>date_joined</th></tr></thead><tbody><tr><td>7528</td><td>Abigail Ali</td><td>20</td><td>2015-10-24T11:23:51.000+0000</td></tr><tr><td>2863</td><td>Dylan Holmes</td><td>32</td><td>2016-10-23T14:06:51.000+0000</td></tr><tr><td>5730</td><td>Rachel Davis</td><td>36</td><td>2015-12-08T20:02:43.000+0000</td></tr><tr><td>8304</td><td>Charles Berry</td><td>25</td><td>2015-12-28T04:21:39.000+0000</td></tr><tr><td>8731</td><td>Andrea Alexander</td><td>21</td><td>2015-11-10T09:27:42.000+0000</td></tr><tr><td>1313</td><td>Brittany Jones</td><td>32</td><td>2016-04-02T03:51:23.000+0000</td></tr><tr><td>4315</td><td>Michelle Prince</td><td>36</td><td>2015-12-20T16:38:13.000+0000</td></tr><tr><td>10794</td><td>Thomas Turner</td><td>34</td><td>2016-12-22T00:02:02.000+0000</td></tr><tr><td>5494</td><td>Anne Allen</td><td>27</td><td>2015-12-16T15:20:05.000+0000</td></tr><tr><td>5069</td><td>Amanda Ball</td><td>25</td><td>2016-01-13T17:36:30.000+0000</td></tr><tr><td>2923</td><td>Brian Nelson</td><td>26</td><td>2015-11-11T03:20:57.000+0000</td></tr><tr><td>3089</td><td>Abigail Ali</td><td>20</td><td>2015-10-24T11:23:51.000+0000</td></tr><tr><td>6063</td><td>Corey Andrews</td><td>23</td><td>2015-11-25T13:36:22.000+0000</td></tr><tr><td>3454</td><td>Robert Murphy</td><td>48</td><td>2017-09-26T16:31:56.000+0000</td></tr><tr><td>7554</td><td>Cheryl Huerta</td><td>20</td><td>2017-04-11T16:35:33.000+0000</td></tr><tr><td>6145</td><td>Emily Hawkins</td><td>30</td><td>2015-12-25T20:24:37.000+0000</td></tr><tr><td>10625</td><td>Christian Lang</td><td>32</td><td>2017-10-10T20:09:33.000+0000</td></tr><tr><td>2959</td><td>David Griffith</td><td>20</td><td>2016-01-07T19:49:22.000+0000</td></tr><tr><td>9875</td><td>Brendan Joseph</td><td>26</td><td>2015-12-20T10:28:00.000+0000</td></tr><tr><td>2418</td><td>Amanda Adams</td><td>20</td><td>2015-10-21T08:27:36.000+0000</td></tr><tr><td>3156</td><td>Andrew Baker</td><td>22</td><td>2015-12-21T08:06:54.000+0000</td></tr><tr><td>428</td><td>Claudia Adams</td><td>20</td><td>2015-11-28T02:20:29.000+0000</td></tr><tr><td>7343</td><td>Anne Clayton</td><td>24</td><td>2016-01-11T12:03:48.000+0000</td></tr><tr><td>2074</td><td>Annette Forbes</td><td>21</td><td>2016-01-03T15:42:12.000+0000</td></tr><tr><td>9979</td><td>Kaylee Miller</td><td>31</td><td>2016-11-09T19:50:51.000+0000</td></tr><tr><td>10138</td><td>Carol Silva</td><td>22</td><td>2015-12-31T14:57:02.000+0000</td></tr><tr><td>9672</td><td>Jennifer Hudson</td><td>22</td><td>2016-02-11T20:46:04.000+0000</td></tr><tr><td>8653</td><td>Tammy Davis</td><td>24</td><td>2016-03-09T10:48:14.000+0000</td></tr><tr><td>8887</td><td>Austin Rodriguez</td><td>24</td><td>2016-03-31T20:56:39.000+0000</td></tr><tr><td>7922</td><td>Denise Adams</td><td>21</td><td>2015-11-12T06:21:36.000+0000</td></tr><tr><td>1014</td><td>Gregory Ramsey</td><td>56</td><td>2016-10-15T17:21:39.000+0000</td></tr><tr><td>4913</td><td>Angela Brooks</td><td>24</td><td>2015-11-20T05:37:11.000+0000</td></tr><tr><td>4137</td><td>Michael Decker</td><td>59</td><td>2017-06-29T22:35:17.000+0000</td></tr><tr><td>7166</td><td>Alvin Adams</td><td>20</td><td>2016-01-01T13:50:40.000+0000</td></tr><tr><td>9546</td><td>Alex Barnes</td><td>20</td><td>2016-02-27T21:13:44.000+0000</td></tr><tr><td>2411</td><td>Aaron Bartlett</td><td>21</td><td>2015-11-24T02:15:36.000+0000</td></tr><tr><td>9590</td><td>Amanda Allen</td><td>22</td><td>2015-10-24T18:56:30.000+0000</td></tr><tr><td>2698</td><td>Kayla Burton</td><td>44</td><td>2017-06-21T19:53:27.000+0000</td></tr><tr><td>4508</td><td>Michael Carter</td><td>58</td><td>2016-06-03T23:35:30.000+0000</td></tr><tr><td>831</td><td>Aimee Collins</td><td>28</td><td>2016-06-16T02:06:38.000+0000</td></tr><tr><td>5076</td><td>Christopher Butler</td><td>20</td><td>2015-12-01T15:08:31.000+0000</td></tr><tr><td>10663</td><td>Julie Cox</td><td>23</td><td>2016-06-23T14:38:00.000+0000</td></tr><tr><td>5468</td><td>Lisa Gamble</td><td>20</td><td>2016-07-23T20:51:06.000+0000</td></tr><tr><td>205</td><td>Brett Bryant</td><td>20</td><td>2015-10-23T12:40:19.000+0000</td></tr><tr><td>7790</td><td>Michelle Gutierrez</td><td>39</td><td>2017-07-19T07:12:04.000+0000</td></tr><tr><td>8606</td><td>Denise Adams</td><td>21</td><td>2015-11-12T06:21:36.000+0000</td></tr><tr><td>9759</td><td>Daniel Brooks</td><td>25</td><td>2015-11-19T21:24:33.000+0000</td></tr><tr><td>719</td><td>Alicia Avila</td><td>20</td><td>2016-01-26T01:49:23.000+0000</td></tr><tr><td>1704</td><td>Barry Lynn</td><td>20</td><td>2015-10-28T05:00:33.000+0000</td></tr><tr><td>2482</td><td>David Moss</td><td>22</td><td>2016-03-01T07:11:48.000+0000</td></tr><tr><td>8930</td><td>Andrew Anderson</td><td>23</td><td>2015-11-28T11:52:37.000+0000</td></tr><tr><td>7294</td><td>Dawn Anderson</td><td>20</td><td>2016-12-31T00:06:36.000+0000</td></tr><tr><td>808</td><td>Aaron Bartlett</td><td>21</td><td>2015-11-24T02:15:36.000+0000</td></tr><tr><td>771</td><td>Brittany Butler</td><td>32</td><td>2016-03-10T04:11:31.000+0000</td></tr></tbody></table></div>"
      ]
     },
     "metadata": {
      "application/vnd.databricks.v1+output": {
       "addedWidgets": {},
       "aggData": [],
       "aggError": "",
       "aggOverflow": false,
       "aggSchema": [],
       "aggSeriesLimitReached": false,
       "aggType": "",
       "arguments": {},
       "columnCustomDisplayInfos": {},
       "data": [
        [
         7528,
         "Abigail Ali",
         20,
         "2015-10-24T11:23:51.000+0000"
        ],
        [
         2863,
         "Dylan Holmes",
         32,
         "2016-10-23T14:06:51.000+0000"
        ],
        [
         5730,
         "Rachel Davis",
         36,
         "2015-12-08T20:02:43.000+0000"
        ],
        [
         8304,
         "Charles Berry",
         25,
         "2015-12-28T04:21:39.000+0000"
        ],
        [
         8731,
         "Andrea Alexander",
         21,
         "2015-11-10T09:27:42.000+0000"
        ],
        [
         1313,
         "Brittany Jones",
         32,
         "2016-04-02T03:51:23.000+0000"
        ],
        [
         4315,
         "Michelle Prince",
         36,
         "2015-12-20T16:38:13.000+0000"
        ],
        [
         10794,
         "Thomas Turner",
         34,
         "2016-12-22T00:02:02.000+0000"
        ],
        [
         5494,
         "Anne Allen",
         27,
         "2015-12-16T15:20:05.000+0000"
        ],
        [
         5069,
         "Amanda Ball",
         25,
         "2016-01-13T17:36:30.000+0000"
        ],
        [
         2923,
         "Brian Nelson",
         26,
         "2015-11-11T03:20:57.000+0000"
        ],
        [
         3089,
         "Abigail Ali",
         20,
         "2015-10-24T11:23:51.000+0000"
        ],
        [
         6063,
         "Corey Andrews",
         23,
         "2015-11-25T13:36:22.000+0000"
        ],
        [
         3454,
         "Robert Murphy",
         48,
         "2017-09-26T16:31:56.000+0000"
        ],
        [
         7554,
         "Cheryl Huerta",
         20,
         "2017-04-11T16:35:33.000+0000"
        ],
        [
         6145,
         "Emily Hawkins",
         30,
         "2015-12-25T20:24:37.000+0000"
        ],
        [
         10625,
         "Christian Lang",
         32,
         "2017-10-10T20:09:33.000+0000"
        ],
        [
         2959,
         "David Griffith",
         20,
         "2016-01-07T19:49:22.000+0000"
        ],
        [
         9875,
         "Brendan Joseph",
         26,
         "2015-12-20T10:28:00.000+0000"
        ],
        [
         2418,
         "Amanda Adams",
         20,
         "2015-10-21T08:27:36.000+0000"
        ],
        [
         3156,
         "Andrew Baker",
         22,
         "2015-12-21T08:06:54.000+0000"
        ],
        [
         428,
         "Claudia Adams",
         20,
         "2015-11-28T02:20:29.000+0000"
        ],
        [
         7343,
         "Anne Clayton",
         24,
         "2016-01-11T12:03:48.000+0000"
        ],
        [
         2074,
         "Annette Forbes",
         21,
         "2016-01-03T15:42:12.000+0000"
        ],
        [
         9979,
         "Kaylee Miller",
         31,
         "2016-11-09T19:50:51.000+0000"
        ],
        [
         10138,
         "Carol Silva",
         22,
         "2015-12-31T14:57:02.000+0000"
        ],
        [
         9672,
         "Jennifer Hudson",
         22,
         "2016-02-11T20:46:04.000+0000"
        ],
        [
         8653,
         "Tammy Davis",
         24,
         "2016-03-09T10:48:14.000+0000"
        ],
        [
         8887,
         "Austin Rodriguez",
         24,
         "2016-03-31T20:56:39.000+0000"
        ],
        [
         7922,
         "Denise Adams",
         21,
         "2015-11-12T06:21:36.000+0000"
        ],
        [
         1014,
         "Gregory Ramsey",
         56,
         "2016-10-15T17:21:39.000+0000"
        ],
        [
         4913,
         "Angela Brooks",
         24,
         "2015-11-20T05:37:11.000+0000"
        ],
        [
         4137,
         "Michael Decker",
         59,
         "2017-06-29T22:35:17.000+0000"
        ],
        [
         7166,
         "Alvin Adams",
         20,
         "2016-01-01T13:50:40.000+0000"
        ],
        [
         9546,
         "Alex Barnes",
         20,
         "2016-02-27T21:13:44.000+0000"
        ],
        [
         2411,
         "Aaron Bartlett",
         21,
         "2015-11-24T02:15:36.000+0000"
        ],
        [
         9590,
         "Amanda Allen",
         22,
         "2015-10-24T18:56:30.000+0000"
        ],
        [
         2698,
         "Kayla Burton",
         44,
         "2017-06-21T19:53:27.000+0000"
        ],
        [
         4508,
         "Michael Carter",
         58,
         "2016-06-03T23:35:30.000+0000"
        ],
        [
         831,
         "Aimee Collins",
         28,
         "2016-06-16T02:06:38.000+0000"
        ],
        [
         5076,
         "Christopher Butler",
         20,
         "2015-12-01T15:08:31.000+0000"
        ],
        [
         10663,
         "Julie Cox",
         23,
         "2016-06-23T14:38:00.000+0000"
        ],
        [
         5468,
         "Lisa Gamble",
         20,
         "2016-07-23T20:51:06.000+0000"
        ],
        [
         205,
         "Brett Bryant",
         20,
         "2015-10-23T12:40:19.000+0000"
        ],
        [
         7790,
         "Michelle Gutierrez",
         39,
         "2017-07-19T07:12:04.000+0000"
        ],
        [
         8606,
         "Denise Adams",
         21,
         "2015-11-12T06:21:36.000+0000"
        ],
        [
         9759,
         "Daniel Brooks",
         25,
         "2015-11-19T21:24:33.000+0000"
        ],
        [
         719,
         "Alicia Avila",
         20,
         "2016-01-26T01:49:23.000+0000"
        ],
        [
         1704,
         "Barry Lynn",
         20,
         "2015-10-28T05:00:33.000+0000"
        ],
        [
         2482,
         "David Moss",
         22,
         "2016-03-01T07:11:48.000+0000"
        ],
        [
         8930,
         "Andrew Anderson",
         23,
         "2015-11-28T11:52:37.000+0000"
        ],
        [
         7294,
         "Dawn Anderson",
         20,
         "2016-12-31T00:06:36.000+0000"
        ],
        [
         808,
         "Aaron Bartlett",
         21,
         "2015-11-24T02:15:36.000+0000"
        ],
        [
         771,
         "Brittany Butler",
         32,
         "2016-03-10T04:11:31.000+0000"
        ]
       ],
       "datasetInfos": [],
       "dbfsResultPath": null,
       "isJsonSchema": true,
       "metadata": {
        "isDbfsCommandResult": false
       },
       "overflow": false,
       "plotOptions": {
        "customPlotOptions": {},
        "displayType": "table",
        "pivotAggregation": null,
        "pivotColumns": null,
        "xColumns": null,
        "yColumns": null
       },
       "removedWidgets": [],
       "schema": [
        {
         "metadata": "{}",
         "name": "ind",
         "type": "\"integer\""
        },
        {
         "metadata": "{}",
         "name": "user_name",
         "type": "\"string\""
        },
        {
         "metadata": "{}",
         "name": "age",
         "type": "\"integer\""
        },
        {
         "metadata": "{}",
         "name": "date_joined",
         "type": "\"timestamp\""
        }
       ],
       "type": "table"
      }
     },
     "output_type": "display_data"
    }
   ],
   "source": [
    "from pyspark.sql.functions import concat_ws, to_timestamp, col, from_json\n",
    "from pyspark.sql.types import StructType, StructField, StringType, IntegerType\n",
    "\n",
    "def clean_user_df(df):\n",
    "    # Define the schema for the JSON data\n",
    "    schema = StructType([\n",
    "        StructField(\"ind\", IntegerType(), True),\n",
    "        StructField(\"first_name\", StringType(), True),\n",
    "        StructField(\"last_name\", StringType(), True),\n",
    "        StructField(\"age\", IntegerType(), True),\n",
    "        StructField(\"date_joined\", StringType(), True)\n",
    "    ])\n",
    "    \n",
    "    # Cast the data column to string before parsing the JSON data\n",
    "    df_parsed = df.withColumn(\"data\", from_json(col(\"data\").cast(\"string\"), schema)).select(\"data.*\")\n",
    "    \n",
    "    # Create a new column 'user_name' that concatenates the information found in the first_name and last_name columns\n",
    "    cleaned_df = df_parsed.withColumn(\"user_name\", concat_ws(\" \", \"first_name\", \"last_name\"))\n",
    "    \n",
    "    # Drop the first_name and last_name columns\n",
    "    cleaned_df = cleaned_df.drop(\"first_name\", \"last_name\")\n",
    "    \n",
    "    # Convert the date_joined column from a string to a timestamp data type\n",
    "    cleaned_df = cleaned_df.withColumn(\"date_joined\", to_timestamp(col(\"date_joined\")))\n",
    "    \n",
    "    # Reorder the DataFrame columns\n",
    "    cleaned_df = cleaned_df.select(\"ind\", \"user_name\", \"age\", \"date_joined\")\n",
    "    \n",
    "    return cleaned_df\n",
    "\n",
    "# Apply the cleaning function to df_user\n",
    "df_user_cleaned = clean_user_df(df_user)\n",
    "\n",
    "# Display the cleaned DataFrame\n",
    "display(df_user_cleaned)"
   ]
  },
  {
   "cell_type": "code",
   "execution_count": 0,
   "metadata": {
    "application/vnd.databricks.v1+cell": {
     "cellMetadata": {
      "byteLimit": 2048000,
      "rowLimit": 10000
     },
     "inputWidgets": {},
     "nuid": "fe9a42e1-be3f-440a-906a-c5b1119c9407",
     "showTitle": false,
     "title": ""
    }
   },
   "outputs": [
    {
     "output_type": "display_data",
     "data": {
      "text/html": [
       "<style scoped>\n",
       "  .ansiout {\n",
       "    display: block;\n",
       "    unicode-bidi: embed;\n",
       "    white-space: pre-wrap;\n",
       "    word-wrap: break-word;\n",
       "    word-break: break-all;\n",
       "    font-family: \"Menlo\", \"Monaco\", \"Consolas\", \"Ubuntu Mono\", \"Source Code Pro\", monospace;\n",
       "    font-size: 13px;\n",
       "    color: #555;\n",
       "    margin-left: 4px;\n",
       "    line-height: 19px;\n",
       "  }\n",
       "</style>\n",
       "<div class=\"ansiout\">Out[44]: True</div>"
      ]
     },
     "metadata": {
      "application/vnd.databricks.v1+output": {
       "addedWidgets": {},
       "arguments": {},
       "data": "<div class=\"ansiout\">Out[44]: True</div>",
       "datasetInfos": [],
       "metadata": {},
       "removedWidgets": [],
       "type": "html"
      }
     },
     "output_type": "display_data"
    }
   ],
   "source": [
    "dbutils.fs.rm(\"/tmp/kinesis/_checkpoints/\", True)\n",
    "\n"
   ]
  },
  {
   "cell_type": "code",
   "execution_count": 0,
   "metadata": {
    "application/vnd.databricks.v1+cell": {
     "cellMetadata": {
      "byteLimit": 2048000,
      "rowLimit": 10000
     },
     "inputWidgets": {},
     "nuid": "35baf013-965d-4c7f-9ca9-509581945c8c",
     "showTitle": false,
     "title": ""
    }
   },
   "outputs": [
    {
     "output_type": "display_data",
     "data": {
      "text/html": [
       "<style scoped>\n",
       "  .ansiout {\n",
       "    display: block;\n",
       "    unicode-bidi: embed;\n",
       "    white-space: pre-wrap;\n",
       "    word-wrap: break-word;\n",
       "    word-break: break-all;\n",
       "    font-family: \"Menlo\", \"Monaco\", \"Consolas\", \"Ubuntu Mono\", \"Source Code Pro\", monospace;\n",
       "    font-size: 13px;\n",
       "    color: #555;\n",
       "    margin-left: 4px;\n",
       "    line-height: 19px;\n",
       "  }\n",
       "</style>\n",
       "<div class=\"ansiout\">Out[45]: &lt;pyspark.sql.streaming.StreamingQuery at 0x7f7d508c01f0&gt;</div>"
      ]
     },
     "metadata": {
      "application/vnd.databricks.v1+output": {
       "addedWidgets": {},
       "arguments": {},
       "data": "<div class=\"ansiout\">Out[45]: &lt;pyspark.sql.streaming.StreamingQuery at 0x7f7d508c01f0&gt;</div>",
       "datasetInfos": [],
       "metadata": {},
       "removedWidgets": [],
       "type": "html"
      }
     },
     "output_type": "display_data"
    }
   ],
   "source": [
    "df_user_cleaned.writeStream \\\n",
    "  .format(\"delta\") \\\n",
    "  .outputMode(\"append\") \\\n",
    "  .option(\"checkpointLocation\", \"/tmp/kinesis/_checkpoints/\") \\\n",
    "  .table(\"124f98f775af_user_table\")"
   ]
  },
  {
   "cell_type": "code",
   "execution_count": 0,
   "metadata": {
    "application/vnd.databricks.v1+cell": {
     "cellMetadata": {
      "byteLimit": 2048000,
      "rowLimit": 10000
     },
     "inputWidgets": {},
     "nuid": "6fd20676-0603-4ce2-a3ed-ebe1a32bd6d3",
     "showTitle": false,
     "title": ""
    }
   },
   "outputs": [
    {
     "output_type": "display_data",
     "data": {
      "text/html": [
       "<style scoped>\n",
       "  .ansiout {\n",
       "    display: block;\n",
       "    unicode-bidi: embed;\n",
       "    white-space: pre-wrap;\n",
       "    word-wrap: break-word;\n",
       "    word-break: break-all;\n",
       "    font-family: \"Menlo\", \"Monaco\", \"Consolas\", \"Ubuntu Mono\", \"Source Code Pro\", monospace;\n",
       "    font-size: 13px;\n",
       "    color: #555;\n",
       "    margin-left: 4px;\n",
       "    line-height: 19px;\n",
       "  }\n",
       "</style>\n",
       "<div class=\"ansiout\">Out[46]: True</div>"
      ]
     },
     "metadata": {
      "application/vnd.databricks.v1+output": {
       "addedWidgets": {},
       "arguments": {},
       "data": "<div class=\"ansiout\">Out[46]: True</div>",
       "datasetInfos": [],
       "metadata": {},
       "removedWidgets": [],
       "type": "html"
      }
     },
     "output_type": "display_data"
    }
   ],
   "source": [
    "dbutils.fs.rm(\"/tmp/kinesis/_checkpoints/\", True)\n"
   ]
  },
  {
   "cell_type": "code",
   "execution_count": 0,
   "metadata": {
    "application/vnd.databricks.v1+cell": {
     "cellMetadata": {
      "byteLimit": 2048000,
      "rowLimit": 10000
     },
     "inputWidgets": {},
     "nuid": "9bd6fd39-90c0-46ba-a81c-0c0513ca8f90",
     "showTitle": false,
     "title": ""
    }
   },
   "outputs": [
    {
     "output_type": "display_data",
     "data": {
      "text/html": [
       "<style scoped>\n",
       "  .ansiout {\n",
       "    display: block;\n",
       "    unicode-bidi: embed;\n",
       "    white-space: pre-wrap;\n",
       "    word-wrap: break-word;\n",
       "    word-break: break-all;\n",
       "    font-family: \"Menlo\", \"Monaco\", \"Consolas\", \"Ubuntu Mono\", \"Source Code Pro\", monospace;\n",
       "    font-size: 13px;\n",
       "    color: #555;\n",
       "    margin-left: 4px;\n",
       "    line-height: 19px;\n",
       "  }\n",
       "</style>\n",
       "<div class=\"ansiout\">Out[47]: &lt;pyspark.sql.streaming.StreamingQuery at 0x7f7d53c77d60&gt;</div>"
      ]
     },
     "metadata": {
      "application/vnd.databricks.v1+output": {
       "addedWidgets": {},
       "arguments": {},
       "data": "<div class=\"ansiout\">Out[47]: &lt;pyspark.sql.streaming.StreamingQuery at 0x7f7d53c77d60&gt;</div>",
       "datasetInfos": [],
       "metadata": {},
       "removedWidgets": [],
       "type": "html"
      }
     },
     "output_type": "display_data"
    }
   ],
   "source": [
    "df_pin_cleaned.writeStream \\\n",
    "  .format(\"delta\") \\\n",
    "  .outputMode(\"append\") \\\n",
    "  .option(\"checkpointLocation\", \"/tmp/kinesis/_checkpoints/\") \\\n",
    "  .table(\"124f98f775af_pin_table\")"
   ]
  },
  {
   "cell_type": "code",
   "execution_count": 0,
   "metadata": {
    "application/vnd.databricks.v1+cell": {
     "cellMetadata": {
      "byteLimit": 2048000,
      "rowLimit": 10000
     },
     "inputWidgets": {},
     "nuid": "78bc8bec-8fb9-4b29-b736-e8a2c23f13c0",
     "showTitle": false,
     "title": ""
    }
   },
   "outputs": [
    {
     "output_type": "display_data",
     "data": {
      "text/html": [
       "<style scoped>\n",
       "  .ansiout {\n",
       "    display: block;\n",
       "    unicode-bidi: embed;\n",
       "    white-space: pre-wrap;\n",
       "    word-wrap: break-word;\n",
       "    word-break: break-all;\n",
       "    font-family: \"Menlo\", \"Monaco\", \"Consolas\", \"Ubuntu Mono\", \"Source Code Pro\", monospace;\n",
       "    font-size: 13px;\n",
       "    color: #555;\n",
       "    margin-left: 4px;\n",
       "    line-height: 19px;\n",
       "  }\n",
       "</style>\n",
       "<div class=\"ansiout\">Out[48]: True</div>"
      ]
     },
     "metadata": {
      "application/vnd.databricks.v1+output": {
       "addedWidgets": {},
       "arguments": {},
       "data": "<div class=\"ansiout\">Out[48]: True</div>",
       "datasetInfos": [],
       "metadata": {},
       "removedWidgets": [],
       "type": "html"
      }
     },
     "output_type": "display_data"
    }
   ],
   "source": [
    "dbutils.fs.rm(\"/tmp/kinesis/_checkpoints/\", True)\n"
   ]
  },
  {
   "cell_type": "code",
   "execution_count": 0,
   "metadata": {
    "application/vnd.databricks.v1+cell": {
     "cellMetadata": {
      "byteLimit": 2048000,
      "rowLimit": 10000
     },
     "inputWidgets": {},
     "nuid": "034ad172-6fb7-477b-9d19-9c9cf5e8e0da",
     "showTitle": false,
     "title": ""
    }
   },
   "outputs": [
    {
     "output_type": "display_data",
     "data": {
      "text/html": [
       "<style scoped>\n",
       "  .ansiout {\n",
       "    display: block;\n",
       "    unicode-bidi: embed;\n",
       "    white-space: pre-wrap;\n",
       "    word-wrap: break-word;\n",
       "    word-break: break-all;\n",
       "    font-family: \"Menlo\", \"Monaco\", \"Consolas\", \"Ubuntu Mono\", \"Source Code Pro\", monospace;\n",
       "    font-size: 13px;\n",
       "    color: #555;\n",
       "    margin-left: 4px;\n",
       "    line-height: 19px;\n",
       "  }\n",
       "</style>\n",
       "<div class=\"ansiout\">Out[51]: &lt;pyspark.sql.streaming.StreamingQuery at 0x7f7d53c364c0&gt;</div>"
      ]
     },
     "metadata": {
      "application/vnd.databricks.v1+output": {
       "addedWidgets": {},
       "arguments": {},
       "data": "<div class=\"ansiout\">Out[51]: &lt;pyspark.sql.streaming.StreamingQuery at 0x7f7d53c364c0&gt;</div>",
       "datasetInfos": [],
       "metadata": {},
       "removedWidgets": [],
       "type": "html"
      }
     },
     "output_type": "display_data"
    }
   ],
   "source": [
    "df_geo_cleaned.writeStream \\\n",
    "  .format(\"delta\") \\\n",
    "  .outputMode(\"append\") \\\n",
    "  .option(\"checkpointLocation\", \"/tmp/kinesis/_checkpoints/\") \\\n",
    "  .table(\"124f98f775af_geo_table\")"
   ]
  }
 ],
 "metadata": {
  "application/vnd.databricks.v1+notebook": {
   "dashboards": [],
   "environmentMetadata": null,
   "language": "python",
   "notebookMetadata": {
    "mostRecentlyExecutedCommandWithImplicitDF": {
     "commandId": 4245143420808026,
     "dataframes": [
      "_sqldf"
     ]
    },
    "pythonIndentUnit": 4
   },
   "notebookName": "Read Kinesis Stream",
   "widgets": {}
  }
 },
 "nbformat": 4,
 "nbformat_minor": 0
}
